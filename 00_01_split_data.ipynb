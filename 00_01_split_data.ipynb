{
 "cells": [
  {
   "cell_type": "code",
   "execution_count": 1,
   "id": "52297527",
   "metadata": {},
   "outputs": [],
   "source": [
    "%load_ext autoreload\n",
    "%autoreload 2"
   ]
  },
  {
   "cell_type": "markdown",
   "id": "9bf64f38",
   "metadata": {},
   "source": [
    "# Introduction \n",
    "\n",
    "This notebook is to split the data into the necessary train, test and validation sets.   \n",
    "Additionally, preprocessing is also done for the string based data"
   ]
  },
  {
   "cell_type": "markdown",
   "id": "1572f656",
   "metadata": {},
   "source": [
    "# Imports "
   ]
  },
  {
   "cell_type": "code",
   "execution_count": 2,
   "id": "0870b969",
   "metadata": {},
   "outputs": [],
   "source": [
    "import numpy as np\n",
    "import os \n",
    "import pandas as pd\n",
    "import pickle\n",
    "\n",
    "from utils.pre_processing import concat_item_metadata, concat_user_review, prep_user_nodes, make_user_nodes"
   ]
  },
  {
   "cell_type": "markdown",
   "id": "d5fdad1b",
   "metadata": {},
   "source": [
    "# Set variables"
   ]
  },
  {
   "cell_type": "code",
   "execution_count": 3,
   "id": "a748f27b",
   "metadata": {},
   "outputs": [],
   "source": [
    "cut_timestamp = 1628643414042\n",
    "train_size = 0.6\n",
    "test_size = 0.2\n",
    "\n",
    "# for saving\n",
    "data = \"data\"\n",
    "mapping = \"mapping\"\n",
    "train_test_split = \"train_test_split\"\n",
    "train_test_valid_split = \"train_test_valid_split\"\n",
    "full_data = \"full_data\"\n",
    "blair_train = \"blair_train\""
   ]
  },
  {
   "cell_type": "markdown",
   "id": "ded72dd1",
   "metadata": {},
   "source": [
    "# Load data"
   ]
  },
  {
   "cell_type": "code",
   "execution_count": 4,
   "id": "f55148be",
   "metadata": {},
   "outputs": [],
   "source": [
    "review_df = pd.read_parquet(f\"data/original/review_df.parquet\")\n",
    "product_df = pd.read_parquet(f\"data/original/product_df.parquet\")"
   ]
  },
  {
   "cell_type": "markdown",
   "id": "54187c5d",
   "metadata": {},
   "source": [
    "# Clean products"
   ]
  },
  {
   "cell_type": "code",
   "execution_count": 5,
   "id": "2cfed03e",
   "metadata": {},
   "outputs": [],
   "source": [
    "product_df[\"meta\"] = product_df.apply(lambda x: concat_item_metadata(x), axis = 1)\n",
    "product_df = product_df[product_df.meta.apply(len) > 30]"
   ]
  },
  {
   "cell_type": "markdown",
   "id": "c8c2f465",
   "metadata": {},
   "source": [
    "# Clean reviews"
   ]
  },
  {
   "cell_type": "code",
   "execution_count": 6,
   "id": "84971285",
   "metadata": {},
   "outputs": [],
   "source": [
    "review_df[\"review\"] = review_df.apply(lambda x: concat_user_review(x), axis = 1)"
   ]
  },
  {
   "cell_type": "code",
   "execution_count": 7,
   "id": "cedc56d9",
   "metadata": {},
   "outputs": [],
   "source": [
    "product_ids = set(product_df.parent_asin.unique())"
   ]
  },
  {
   "cell_type": "code",
   "execution_count": 8,
   "id": "d4bd69dc",
   "metadata": {},
   "outputs": [],
   "source": [
    "review_df[\"filter_timestamp\"] = ~(review_df[\"timestamp\"] >= cut_timestamp)\n",
    "review_df[\"filter_review_len\"] = ~(review_df[\"review\"].apply(len) <= 30)\n",
    "review_df[\"filter_product_id\"] = review_df[\"parent_asin\"].isin(product_ids)"
   ]
  },
  {
   "cell_type": "code",
   "execution_count": 9,
   "id": "8d34da35",
   "metadata": {},
   "outputs": [],
   "source": [
    "review_df = (review_df[(review_df[\"filter_timestamp\"] & review_df[\"filter_review_len\"] & review_df[\"filter_product_id\"])]\n",
    "             .drop([\"filter_timestamp\", \"filter_review_len\", \"filter_product_id\",], axis = 1)\n",
    ")"
   ]
  },
  {
   "cell_type": "markdown",
   "id": "7a6bf6ba",
   "metadata": {},
   "source": [
    "# Create BLAIR training data "
   ]
  },
  {
   "cell_type": "code",
   "execution_count": 10,
   "id": "bdd94249",
   "metadata": {},
   "outputs": [],
   "source": [
    "df = pd.merge(\n",
    "    review_df[[\"parent_asin\", \"review\"]], \n",
    "    product_df[[\"parent_asin\", \"meta\"]],\n",
    "    on = \"parent_asin\"\n",
    ")"
   ]
  },
  {
   "cell_type": "code",
   "execution_count": 11,
   "id": "4b1b19c3",
   "metadata": {},
   "outputs": [],
   "source": [
    "blair_train_data = df[[\"review\", \"meta\"]].copy()"
   ]
  },
  {
   "cell_type": "markdown",
   "id": "9d2e2b23",
   "metadata": {},
   "source": [
    "# Drop user reviews\n",
    "\n",
    "There are some duplicates, we drop them to become single row  \n",
    "Multiple ways to do it, we opted for taking the first row only "
   ]
  },
  {
   "cell_type": "code",
   "execution_count": 12,
   "id": "ed68ca61",
   "metadata": {},
   "outputs": [],
   "source": [
    "review_df = review_df.drop_duplicates(subset = [\"user_id\", \"parent_asin\"]).reset_index(drop = True)"
   ]
  },
  {
   "cell_type": "markdown",
   "id": "b28c1b0c",
   "metadata": {},
   "source": [
    "# Make sure ids tally"
   ]
  },
  {
   "cell_type": "code",
   "execution_count": 13,
   "id": "cf7488ce",
   "metadata": {},
   "outputs": [],
   "source": [
    "useful_parent_asin = (set(review_df.parent_asin).intersection(set(product_df.parent_asin)))"
   ]
  },
  {
   "cell_type": "code",
   "execution_count": 14,
   "id": "874cdecd",
   "metadata": {},
   "outputs": [],
   "source": [
    "review_df = review_df[review_df.parent_asin.isin(useful_parent_asin)]\n",
    "product_df = product_df[product_df.parent_asin.isin(useful_parent_asin)]"
   ]
  },
  {
   "cell_type": "markdown",
   "id": "8c0a7988",
   "metadata": {},
   "source": [
    "# Make unique ids\n",
    "\n",
    "This is for the edges "
   ]
  },
  {
   "cell_type": "code",
   "execution_count": 15,
   "id": "57c5a4e8",
   "metadata": {},
   "outputs": [],
   "source": [
    "offset = review_df.user_id.nunique()\n",
    "user_id_to_idx = {unique_id : idx for idx, unique_id in enumerate(review_df.user_id.unique())}\n",
    "prod_id_to_idx = {unique_id : idx + offset  for idx, unique_id in enumerate(product_df.parent_asin.unique())}"
   ]
  },
  {
   "cell_type": "code",
   "execution_count": 16,
   "id": "96e0ec52",
   "metadata": {},
   "outputs": [],
   "source": [
    "review_df[\"user_idx\"] = review_df.user_id.apply(lambda x: user_id_to_idx[x])\n",
    "review_df[\"prod_idx\"] = review_df.parent_asin.apply(lambda x: prod_id_to_idx[x])\n",
    "product_df[\"prod_idx\"] = product_df.parent_asin.apply(lambda x: prod_id_to_idx[x])"
   ]
  },
  {
   "cell_type": "markdown",
   "id": "7eb7caf8",
   "metadata": {},
   "source": [
    "# Add additional details to review df"
   ]
  },
  {
   "cell_type": "code",
   "execution_count": 17,
   "id": "69b4cea5",
   "metadata": {},
   "outputs": [],
   "source": [
    "review_df = prep_user_nodes(review_df)"
   ]
  },
  {
   "cell_type": "markdown",
   "id": "1e85aa5e",
   "metadata": {},
   "source": [
    "# Train test validation split \n",
    "\n",
    "This is done on the user nodes / edges \n",
    "\n",
    "edges follow the "
   ]
  },
  {
   "cell_type": "code",
   "execution_count": 18,
   "id": "a49a9d2d",
   "metadata": {},
   "outputs": [],
   "source": [
    "train_mark = np.quantile(review_df.timestamp, train_size)\n",
    "test_mark = np.quantile(review_df.timestamp, 1 - test_size)"
   ]
  },
  {
   "cell_type": "code",
   "execution_count": 19,
   "id": "0ba2777c",
   "metadata": {},
   "outputs": [],
   "source": [
    "# Assume only train test split \n",
    "two_split_review_train = review_df[review_df.timestamp < test_mark].copy()\n",
    "two_split_review_test = review_df[review_df.timestamp >= test_mark].copy()"
   ]
  },
  {
   "cell_type": "code",
   "execution_count": 20,
   "id": "2e9f8564",
   "metadata": {},
   "outputs": [],
   "source": [
    "# Asssume train test validation split \n",
    "three_split_review_train = review_df[review_df.timestamp <= train_mark].copy()\n",
    "three_split_review_test = review_df[review_df.timestamp >= test_mark].copy()\n",
    "three_split_review_valid = review_df[(review_df.timestamp > train_mark) & (review_df.timestamp < test_mark)].copy()"
   ]
  },
  {
   "cell_type": "code",
   "execution_count": 21,
   "id": "6b7ad232",
   "metadata": {},
   "outputs": [],
   "source": [
    "# aggregated \n",
    "two_split_review_train_agg = make_user_nodes(two_split_review_train)\n",
    "two_split_review_test_agg = make_user_nodes(two_split_review_test)\n",
    "three_split_review_train_agg = make_user_nodes(three_split_review_train)\n",
    "three_split_review_test_agg = make_user_nodes(three_split_review_test)\n",
    "three_split_review_valid_agg = make_user_nodes(three_split_review_valid)"
   ]
  },
  {
   "cell_type": "markdown",
   "id": "ba4fc8c2",
   "metadata": {},
   "source": [
    "# Save data"
   ]
  },
  {
   "cell_type": "code",
   "execution_count": 22,
   "id": "4f26f015",
   "metadata": {},
   "outputs": [],
   "source": [
    "os.makedirs(f\"{data}/{mapping}\", exist_ok = True)\n",
    "os.makedirs(f\"{data}/{train_test_split}\", exist_ok = True)\n",
    "os.makedirs(f\"{data}/{train_test_valid_split}\", exist_ok = True)\n",
    "os.makedirs(f\"{data}/{full_data}\", exist_ok = True)\n",
    "os.makedirs(f\"{data}/{blair_train}\", exist_ok = True)"
   ]
  },
  {
   "cell_type": "code",
   "execution_count": 23,
   "id": "de95eb50",
   "metadata": {},
   "outputs": [],
   "source": [
    "pickle.dump(user_id_to_idx, open(f\"{data}/{mapping}/user_id_to_idx.pkl\", \"wb\"))\n",
    "pickle.dump(prod_id_to_idx, open(f\"{data}/{mapping}/prod_id_to_idx.pkl\", \"wb\"))"
   ]
  },
  {
   "cell_type": "code",
   "execution_count": 24,
   "id": "8e1f6a67",
   "metadata": {},
   "outputs": [],
   "source": [
    "# Blair data\n",
    "blair_train_data.to_csv(f'{data}/{blair_train}/clean_review_meta.tsv', sep='\\t', lineterminator='\\n', index=False)\n",
    "\n",
    "# full df\n",
    "product_df.to_parquet(f\"{data}/{full_data}/product_df.parquet\")\n",
    "review_df.to_parquet(f\"{data}/{full_data}/review_df.parquet\")\n",
    "\n",
    "# Raw users \n",
    "two_split_review_train.to_parquet(f\"{data}/{train_test_split}/train.parquet\")\n",
    "two_split_review_test.to_parquet(f\"{data}/{train_test_split}/test.parquet\")\n",
    "three_split_review_train.to_parquet(f\"{data}/{train_test_valid_split}/train.parquet\")\n",
    "three_split_review_test.to_parquet(f\"{data}/{train_test_valid_split}/test.parquet\")\n",
    "three_split_review_valid.to_parquet(f\"{data}/{train_test_valid_split}/valid.parquet\")\n",
    "\n",
    "# Aggregated users \n",
    "two_split_review_train_agg.to_parquet(f\"{data}/{train_test_split}/train_agg.parquet\")\n",
    "two_split_review_test_agg.to_parquet(f\"{data}/{train_test_split}/test_agg.parquet\")\n",
    "three_split_review_train_agg.to_parquet(f\"{data}/{train_test_valid_split}/train_agg.parquet\")\n",
    "three_split_review_test_agg.to_parquet(f\"{data}/{train_test_valid_split}/test_agg.parquet\")\n",
    "three_split_review_valid_agg.to_parquet(f\"{data}/{train_test_valid_split}/valid_agg.parquet\")"
   ]
  }
 ],
 "metadata": {
  "kernelspec": {
   "display_name": "dl_proj",
   "language": "python",
   "name": "python3"
  },
  "language_info": {
   "codemirror_mode": {
    "name": "ipython",
    "version": 3
   },
   "file_extension": ".py",
   "mimetype": "text/x-python",
   "name": "python",
   "nbconvert_exporter": "python",
   "pygments_lexer": "ipython3",
   "version": "3.12.9"
  }
 },
 "nbformat": 4,
 "nbformat_minor": 5
}
