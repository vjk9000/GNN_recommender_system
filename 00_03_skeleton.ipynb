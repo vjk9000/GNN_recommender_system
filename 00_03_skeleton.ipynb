{
 "cells": [
  {
   "cell_type": "code",
   "execution_count": 1,
   "metadata": {},
   "outputs": [],
   "source": [
    "%load_ext autoreload\n",
    "%autoreload 2"
   ]
  },
  {
   "cell_type": "markdown",
   "metadata": {},
   "source": [
    "# Introduction \n",
    "\n",
    "Updated to use the new datasets (train / test splits)  \n",
    "Remvoed the extra words to explain what was done \n"
   ]
  },
  {
   "cell_type": "markdown",
   "metadata": {},
   "source": [
    "# Imports"
   ]
  },
  {
   "cell_type": "code",
   "execution_count": 2,
   "metadata": {},
   "outputs": [
    {
     "name": "stderr",
     "output_type": "stream",
     "text": [
      "/home/viknesh/.venv_ls/dl_proj/lib/python3.12/site-packages/tqdm/auto.py:21: TqdmWarning: IProgress not found. Please update jupyter and ipywidgets. See https://ipywidgets.readthedocs.io/en/stable/user_install.html\n",
      "  from .autonotebook import tqdm as notebook_tqdm\n"
     ]
    }
   ],
   "source": [
    "import pandas as pd\n",
    "import torch\n",
    "import random\n",
    "import pickle\n",
    "\n",
    "from utils.setup_graph import make_mapping, create_nodes\n",
    "from utils.setup_embeddings import instantiate_users, custom_BLaIR_text_embedding_model\n",
    "from utils.graph_model import BaseGNNRecommender, GNNSAGERecommender, BaseGNNRecommender_v2\n",
    "from utils.graph_helpers import train_model, plot_loss, final_evaluation\n",
    "from utils.recomendations import recommend_products, pretty_print_recomendations, paper_evaluation"
   ]
  },
  {
   "cell_type": "markdown",
   "metadata": {},
   "source": [
    "# Load dataset"
   ]
  },
  {
   "cell_type": "code",
   "execution_count": null,
   "metadata": {},
   "outputs": [],
   "source": [
    "user_features_numeric_agg = pd.read_parquet(\"data/cleaned_v2/user_features_numeric_agg.parquet\")\n",
    "user_features_numeric_pre_agg = pd.read_parquet(\"data/cleaned_v2/user_features_numeric_pre_agg.parquet\")\n",
    "user_features_string_agg = pd.read_parquet(\"data/cleaned_v2/user_features_string_agg.parquet\")\n",
    "user_features_string_pre_agg = pd.read_parquet(\"data/cleaned_v2/user_features_string_pre_agg.parquet\")\n",
    "product_features_numeric = pd.read_parquet(\"data/cleaned_v2/product_features_numeric.parquet\")\n",
    "product_features_string = pd.read_parquet(\"data/cleaned_v2/product_features_string.parquet\")\n",
    "train_edges = pd.read_parquet(\"data/cleaned_v2/train_edges.parquet\")\n",
    "test_edges = pd.read_parquet(\"data/cleaned_v2/test_edges.parquet\")\n",
    "val_edges = pd.read_parquet(\"data/cleaned_v2/val_edges.parquet\")\n",
    "\n",
    "user_id_to_idx = pickle.load(open(\"data/cleaned_v2/user_id_to_idx.pkl\", \"rb\"))\n",
    "prod_id_to_idx = pickle.load(open(\"data/cleaned_v2/prod_id_to_idx.pkl\", \"rb\"))"
   ]
  },
  {
   "cell_type": "code",
   "execution_count": null,
   "metadata": {},
   "outputs": [],
   "source": [
    "# # just for fun make it even smaller \n",
    "# from datasets import load_dataset\n",
    "# import numpy as np\n",
    "\n",
    "# reviews_dataset = load_dataset(\"McAuley-Lab/Amazon-Reviews-2023\", \"raw_review_All_Beauty\", trust_remote_code=True)\n",
    "# product_dataset = load_dataset(\"McAuley-Lab/Amazon-Reviews-2023\", \"raw_meta_All_Beauty\", split=\"full\", trust_remote_code=True)\n",
    "\n",
    "# review_df = reviews_dataset['full'].to_pandas()\n",
    "# product_df = product_dataset.to_pandas()\n",
    "\n",
    "# agg_user_df = pd.read_csv(\"data/cleaned/user_metadata.csv\")\n",
    "# new_product_df = pd.read_csv(\"data/cleaned/product_metadata.csv\")\n",
    "\n",
    "# # additional remove to only take rows with more than 1 review\n",
    "# review_df = review_df.drop_duplicates(subset = [\"user_id\", \"parent_asin\"])\n",
    "# ctx = review_df.groupby(\"user_id\").parent_asin.count().reset_index()\n",
    "# wanted_users = ctx[ctx.parent_asin > 1].user_id\n",
    "# wanted_prods = review_df[review_df.user_id.isin(wanted_users)].parent_asin\n",
    "# useful_parent_asin = (set(review_df.parent_asin)\n",
    "#                       .intersection(set(product_df.parent_asin))\n",
    "#                       .intersection(set(new_product_df.parent_asin))\n",
    "#                       .intersection(set(wanted_prods))\n",
    "# )\n",
    "# review_df = review_df[review_df.parent_asin.isin(useful_parent_asin)]\n",
    "# product_df = product_df[product_df.parent_asin.isin(useful_parent_asin)]\n",
    "# new_product_df = new_product_df[new_product_df.parent_asin.isin(useful_parent_asin)]\n",
    "# useful_user_id = (set(review_df.user_id).intersection(set(agg_user_df.user_id)).intersection(set(wanted_users)))\n",
    "# review_df = review_df[review_df.user_id.isin(useful_user_id)]\n",
    "# agg_user_df = agg_user_df[agg_user_df.user_id.isin(useful_user_id)]\n",
    "# user_features_numeric_agg = agg_user_df.drop(\"reviews\", axis = 1)\n",
    "# user_features_numeric_pre_agg = review_df[[\"user_id\", \"parent_asin\", \"rating\", \"helpful_vote\", \"verified_purchase\"]]\n",
    "# user_features_string_agg = agg_user_df[[\"user_id\", \"reviews\"]]\n",
    "# user_features_string_pre_agg = review_df[[\"user_id\", \"parent_asin\", \"title\", \"text\", ]]\n",
    "# product_features_numeric = product_df[[\"parent_asin\", \"main_category\", \"average_rating\", \"rating_number\", \"price\"]]\n",
    "# product_features_string = pd.merge(product_df[[\"parent_asin\", \"title\", \"features\", \"description\", \"store\", \"details\"]], new_product_df)\n",
    "# edge_df = review_df[[\"user_id\", \"parent_asin\", \"rating\", \"timestamp\"]].copy()\n",
    "# user_id_to_idx = {unique_id : idx for idx, unique_id in enumerate(edge_df.user_id.unique())}\n",
    "# prod_id_to_idx = {unique_id : idx for idx, unique_id in enumerate(edge_df.parent_asin.unique())}\n",
    "# edge_df[\"user_idx\"] = edge_df.user_id.apply(lambda x: user_id_to_idx[x])\n",
    "# edge_df[\"prod_idx\"] = edge_df.parent_asin.apply(lambda x: prod_id_to_idx[x])\n",
    "# train_mark = np.quantile(edge_df.timestamp, 0.7)\n",
    "# test_mark = np.quantile(edge_df.timestamp, 0.85)\n",
    "# train_edges = edge_df[edge_df.timestamp <= train_mark].copy()\n",
    "# test_edges = edge_df[edge_df.timestamp >= test_mark].copy()\n",
    "# val_edges = edge_df[(edge_df.timestamp > train_mark) & (edge_df.timestamp < test_mark)].copy()"
   ]
  },
  {
   "cell_type": "markdown",
   "metadata": {},
   "source": [
    "# Make the nodes \n",
    "\n",
    "This will be user dependent.   \n",
    "Whatever feature that they want, they can use here \n",
    "\n",
    "Make the embeddings if they want to as well.  \n",
    "Additional cleaning of the columns may be needed\n",
    "\n",
    "the only requirement from this section is that final pytorch tensors should be `user_features` and `prod_features`"
   ]
  },
  {
   "cell_type": "code",
   "execution_count": 21,
   "metadata": {},
   "outputs": [],
   "source": [
    "# since it is free flow, I dont have boiler template code at the moment \n",
    "# but the idea is get to a df for the numeric one, then simply numpy and tensor it\n",
    "# for the embedding, calling the blair model directly will help \n",
    "# then finally concat using pytorch "
   ]
  },
  {
   "cell_type": "code",
   "execution_count": 5,
   "metadata": {},
   "outputs": [
    {
     "name": "stderr",
     "output_type": "stream",
     "text": [
      "Some weights of RobertaModel were not initialized from the model checkpoint at custom_blair/massive and are newly initialized: ['pooler.dense.bias', 'pooler.dense.weight']\n",
      "You should probably TRAIN this model on a down-stream task to be able to use it for predictions and inference.\n"
     ]
    }
   ],
   "source": [
    "title_features = custom_BLaIR_text_embedding_model(product_features_string[\"title\"].to_list(), \"custom_blair/massive\", batch_size = 512, max_length = 10)"
   ]
  },
  {
   "cell_type": "code",
   "execution_count": 6,
   "metadata": {},
   "outputs": [
    {
     "name": "stderr",
     "output_type": "stream",
     "text": [
      "/tmp/ipykernel_148941/2915998647.py:1: SettingWithCopyWarning: \n",
      "A value is trying to be set on a copy of a slice from a DataFrame.\n",
      "Try using .loc[row_indexer,col_indexer] = value instead\n",
      "\n",
      "See the caveats in the documentation: https://pandas.pydata.org/pandas-docs/stable/user_guide/indexing.html#returning-a-view-versus-a-copy\n",
      "  product_features_numeric.main_category = product_features_numeric.main_category.apply(lambda x: 1 if x == \"All Beauty\" else 0)\n"
     ]
    }
   ],
   "source": [
    "product_features_numeric.main_category = product_features_numeric.main_category.apply(lambda x: 1 if x == \"All Beauty\" else 0)\n",
    "prod_feat_num = torch.tensor(product_features_numeric.drop([\"parent_asin\", \"price\"], axis = 1).to_numpy(), dtype = torch.float)"
   ]
  },
  {
   "cell_type": "code",
   "execution_count": 7,
   "metadata": {},
   "outputs": [],
   "source": [
    "product_features = torch.cat([title_features, prod_feat_num], dim=1)\n",
    "user_features = torch.tensor(user_features_numeric_agg.drop(\"user_id\", axis = 1).to_numpy(), dtype = torch.float)"
   ]
  },
  {
   "cell_type": "markdown",
   "metadata": {},
   "source": [
    "# Make the edge tensors \n",
    "\n",
    "No changes needed here, will directly use the edges df  \n",
    "The only time might need to change if if the output of the GNN changes (instead of numeric, predict categorical instead)"
   ]
  },
  {
   "cell_type": "code",
   "execution_count": 8,
   "metadata": {},
   "outputs": [],
   "source": [
    "train_edge_index = torch.tensor(train_edges[[\"user_idx\", \"prod_idx\"]].to_numpy().T, dtype=torch.long)\n",
    "val_edge_index = torch.tensor(val_edges[[\"user_idx\", \"prod_idx\"]].to_numpy().T, dtype=torch.long)\n",
    "test_edge_index = torch.tensor(test_edges[[\"user_idx\", \"prod_idx\"]].to_numpy().T, dtype=torch.long)\n",
    "\n",
    "train_edge_weights = torch.tensor(train_edges.rating.to_list(), dtype=torch.float)\n",
    "val_edge_weights = torch.tensor(val_edges.rating.to_list(), dtype=torch.float)\n",
    "test_edge_weights = torch.tensor(test_edges.rating.to_list(), dtype=torch.float)"
   ]
  },
  {
   "cell_type": "markdown",
   "metadata": {},
   "source": [
    "# Set up variables \n",
    "\n",
    "Define the sizes.  \n",
    "Additionally set the embedding size"
   ]
  },
  {
   "cell_type": "code",
   "execution_count": 9,
   "metadata": {},
   "outputs": [],
   "source": [
    "num_users = len(user_id_to_idx)\n",
    "num_products = len(prod_id_to_idx)\n",
    "user_feature_dim = user_features.shape[1]\n",
    "product_feature_dim = product_features.shape[1]\n",
    "\n",
    "embedding_size = 64"
   ]
  },
  {
   "cell_type": "markdown",
   "metadata": {},
   "source": [
    "# Move to GPU "
   ]
  },
  {
   "cell_type": "code",
   "execution_count": 10,
   "metadata": {},
   "outputs": [],
   "source": [
    "device = \"cuda\" if torch.cuda.is_available() else \"cpu\"\n",
    "\n",
    "train_edge_index = train_edge_index.to(device)\n",
    "train_edge_weights = train_edge_weights.to(device)\n",
    "val_edge_index = val_edge_index.to(device)\n",
    "val_edge_weights = val_edge_weights.to(device)\n",
    "test_edge_index = test_edge_index.to(device)\n",
    "test_edge_weights = test_edge_weights.to(device)\n",
    "user_features = user_features.to(device)\n",
    "product_features = product_features.to(device)"
   ]
  },
  {
   "cell_type": "markdown",
   "metadata": {},
   "source": [
    "# Train the model "
   ]
  },
  {
   "cell_type": "code",
   "execution_count": 28,
   "metadata": {},
   "outputs": [
    {
     "data": {
      "text/plain": [
       "BaseGNNRecommender_v2(\n",
       "  (user_embedding): Embedding(41369, 64)\n",
       "  (product_embedding): Embedding(37493, 64)\n",
       "  (user_feature_transform): Linear(in_features=8, out_features=64, bias=True)\n",
       "  (product_feature_transform): Linear(in_features=771, out_features=64, bias=True)\n",
       "  (conv1): GCNConv(64, 64)\n",
       "  (conv2): GCNConv(64, 64)\n",
       "  (predictor): Sequential(\n",
       "    (0): Linear(in_features=128, out_features=64, bias=True)\n",
       "    (1): ReLU()\n",
       "    (2): Linear(in_features=64, out_features=1, bias=True)\n",
       "  )\n",
       ")"
      ]
     },
     "execution_count": 28,
     "metadata": {},
     "output_type": "execute_result"
    }
   ],
   "source": [
    "base_gnn_model = BaseGNNRecommender_v2(num_users, num_products, user_feature_dim, product_feature_dim, embedding_size)\n",
    "base_gnn_model.to(device)"
   ]
  },
  {
   "cell_type": "code",
   "execution_count": 29,
   "metadata": {},
   "outputs": [],
   "source": [
    "train_loss, valid_loss, best_model = train_model(base_gnn_model, train_edge_index, train_edge_weights, val_edge_index, val_edge_weights, \n",
    "                                                 user_features, product_features, num_epochs = 1000, print_progress=False)"
   ]
  },
  {
   "cell_type": "code",
   "execution_count": 30,
   "metadata": {},
   "outputs": [
    {
     "data": {
      "image/png": "[encoded data removed]",
      "text/plain": [
       "<Figure size 1000x600 with 1 Axes>"
      ]
     },
     "metadata": {},
     "output_type": "display_data"
    }
   ],
   "source": [
    "plot_loss(train_loss, valid_loss) # base"
   ]
  },
  {
   "cell_type": "code",
   "execution_count": 31,
   "metadata": {},
   "outputs": [
    {
     "name": "stdout",
     "output_type": "stream",
     "text": [
      "Test loss: 3.0748\n",
      "Best possible loss: 2.5793\n"
     ]
    }
   ],
   "source": [
    "final_evaluation(base_gnn_model, test_edge_index, test_edge_weights, user_features, product_features, best_model)"
   ]
  },
  {
   "cell_type": "markdown",
   "metadata": {},
   "source": [
    "# Do the evaluation \n",
    "\n",
    "This will do the recall at K computation  \n",
    "Did my best to make it as efficient as possible "
   ]
  },
  {
   "cell_type": "code",
   "execution_count": 32,
   "metadata": {},
   "outputs": [],
   "source": [
    "def evaluate_recall(model, test_edges, k, batch_size, num_products):\n",
    "    model.eval()\n",
    "    all_product_ids = torch.arange(num_products)\n",
    "    sol = []\n",
    "    for index in range(0, test_edges.shape[1], batch_size):\n",
    "        test_user_ids = test_edges[0][index:index+batch_size]\n",
    "        test_size = test_user_ids.shape[0]\n",
    "        user_ids_expanded = test_user_ids.unsqueeze(1).expand(-1, num_products)\n",
    "        product_ids_expanded = all_product_ids.unsqueeze(0).expand(test_size, -1)\n",
    "        user_ids_flat = user_ids_expanded.reshape(-1)\n",
    "        product_ids_flat = product_ids_expanded.reshape(-1)\n",
    "        batch_test_edges = torch.stack([user_ids_flat.cpu(), product_ids_flat]).to(device)\n",
    "        \n",
    "        with torch.no_grad():\n",
    "            scores_flat = base_gnn_model(batch_test_edges, user_features, product_features)\n",
    "        \n",
    "        scores = scores_flat.view(test_user_ids.shape[0], num_products)\n",
    "        topk_scores, topk_indices = torch.topk(scores, k, dim=1)\n",
    "        true_item_ids = test_edge_index[1][index:index+batch_size]\n",
    "        recall_hits = (topk_indices == true_item_ids.unsqueeze(1)).any(dim=1).float().cpu().tolist()\n",
    "        sol.extend(recall_hits)\n",
    "    \n",
    "    return torch.tensor(sol).mean()"
   ]
  },
  {
   "cell_type": "code",
   "execution_count": null,
   "metadata": {},
   "outputs": [
    {
     "data": {
      "text/plain": [
       "tensor(0.)"
      ]
     },
     "execution_count": 33,
     "metadata": {},
     "output_type": "execute_result"
    }
   ],
   "source": [
    "# 5 min to to run the full gnn and get results \n",
    "evaluate_recall(base_gnn_model, test_edge_index, 10, 32, num_products)\n",
    "# original is tensor(4.2440e-05)\n",
    "# reduced is tensor(7.2129e-05)"
   ]
  },
  {
   "cell_type": "code",
   "execution_count": 34,
   "metadata": {},
   "outputs": [
    {
     "data": {
      "text/plain": [
       "tensor(0.)"
      ]
     },
     "execution_count": 34,
     "metadata": {},
     "output_type": "execute_result"
    }
   ],
   "source": [
    "base_gnn_model.load_state_dict(best_model)\n",
    "evaluate_recall(base_gnn_model, test_edge_index, 10, 32, num_products)"
   ]
  },
  {
   "cell_type": "code",
   "execution_count": 73,
   "metadata": {},
   "outputs": [
    {
     "name": "stdout",
     "output_type": "stream",
     "text": [
      "AFAHR3N6JWZQCT6KPKKQOIWTFTZQ \n",
      "\n",
      "Product 1: SWELL SKIN Bare Face Cleansing Bar, 2.25 OZ\n",
      "Product 2: Tattooed By Inky Koi Stocking Stuffer\n",
      "Product 3: Makeup Brush Cleaner and Dryer with 2 Optional Speeds, Quickly Wash and Dry Makeup Brushes in Seconds, for All Size Cosmetic Brushes, Professional Makeup Brush Cleaning Solution (Black+Pink)\n",
      "Product 4: False Eyelashes 4 Pairs - Professional Reusable Face Eyelashes Fit for All Eyes, Natural Thick Hand-Made 3D Faux Mink Eyelashes for a Beautiful Makeup Look G104\n",
      "Product 5: 2 Pack Nail Soaking Bowl Acrylic Nail Remover Soak Off Tray Polish Remove Wash Soaker Manicure Spa Tool\n",
      "Product 6: ALICROWN PURPLE Natural Mutipack False Eyelashes 10 Pairs Fake Lashes\n",
      "Product 7: Adrienne Vittadini Set of 3 Satchel Cosmetic Case (Black & Pink Hex)\n",
      "Product 8: Gabrielle Essence by Chanel Eau De Parfum Spray 1.7 oz / 50 ml (Women)\n",
      "Product 9: CXhome Home Facial Steamer Hot and Cold Nano Ionic Mist for Woman Home Spa Facial, Steamer for Face Humidifier for Moisturizing Deep Cleaning Pores Acne Blackheads\n",
      "Product 10: Trim Pumice Stone Blue Oval. 1 Ct.\n",
      "\n",
      "\n"
     ]
    }
   ],
   "source": [
    "# see predictions \n",
    "# There is actually changes (small dataset)\n",
    "\n",
    "user_id = user_features_numeric_agg.user_id.sample(1).item()\n",
    "print(user_id, \"\\n\")\n",
    "recomendations, preds = recommend_products(base_gnn_model, user_id, user_id_to_idx, prod_id_to_idx,\n",
    "                                     user_features, product_features, top_k=10)\n",
    "pretty_print_recomendations(recomendations, product_features_string, \"title\")\n",
    "print(\"\\n\")"
   ]
  }
 ],
 "metadata": {
  "kernelspec": {
   "display_name": "dl_proj",
   "language": "python",
   "name": "python3"
  },
  "language_info": {
   "codemirror_mode": {
    "name": "ipython",
    "version": 3
   },
   "file_extension": ".py",
   "mimetype": "text/x-python",
   "name": "python",
   "nbconvert_exporter": "python",
   "pygments_lexer": "ipython3",
   "version": "3.12.9"
  }
 },
 "nbformat": 4,
 "nbformat_minor": 2
}
