{
 "cells": [
  {
   "cell_type": "code",
   "execution_count": 1,
   "metadata": {},
   "outputs": [],
   "source": [
    "%load_ext autoreload\n",
    "%autoreload 2"
   ]
  },
  {
   "cell_type": "markdown",
   "metadata": {},
   "source": [
    "# Introduction \n",
    "\n",
    "Updated to use the new datasets (train / test splits)  \n",
    "Remvoed the extra words to explain what was done \n"
   ]
  },
  {
   "cell_type": "markdown",
   "metadata": {},
   "source": [
    "# Imports"
   ]
  },
  {
   "cell_type": "code",
   "execution_count": 2,
   "metadata": {},
   "outputs": [
    {
     "name": "stderr",
     "output_type": "stream",
     "text": [
      "/home/viknesh/.venv_ls/dl_proj/lib/python3.12/site-packages/tqdm/auto.py:21: TqdmWarning: IProgress not found. Please update jupyter and ipywidgets. See https://ipywidgets.readthedocs.io/en/stable/user_install.html\n",
      "  from .autonotebook import tqdm as notebook_tqdm\n"
     ]
    }
   ],
   "source": [
    "import pandas as pd\n",
    "import torch\n",
    "import random\n",
    "\n",
    "from utils.setup_graph import make_mapping, create_nodes, train_validation_split\n",
    "from utils.setup_embeddings import instantiate_users, custom_BLaIR_text_embedding_model\n",
    "# from utils.graph_model import \n",
    "from utils.graph_helpers import train_model, plot_loss, final_evaluation\n",
    "from utils.recomendations import recommend_products, pretty_print_recomendations, paper_evaluation\n",
    "\n",
    "from datasets import load_dataset"
   ]
  },
  {
   "cell_type": "markdown",
   "metadata": {},
   "source": [
    "# Load dataset"
   ]
  },
  {
   "cell_type": "code",
   "execution_count": 3,
   "metadata": {},
   "outputs": [],
   "source": [
    "# Direct from the source \n",
    "reviews_dataset = load_dataset(\"McAuley-Lab/Amazon-Reviews-2023\", \"raw_review_All_Beauty\", trust_remote_code=True)\n",
    "product_dataset = load_dataset(\"McAuley-Lab/Amazon-Reviews-2023\", \"raw_meta_All_Beauty\", split=\"full\", trust_remote_code=True)\n",
    "\n",
    "review_df = reviews_dataset['full'].to_pandas()\n",
    "product_df = product_dataset.to_pandas()\n",
    "\n",
    "agg_user_df = pd.read_csv(\"data/cleaned/user_metadata.csv\")\n",
    "new_product_df = pd.read_csv(\"data/cleaned/product_metadata.csv\")"
   ]
  },
  {
   "cell_type": "markdown",
   "metadata": {},
   "source": [
    "# Split into train test \n",
    "\n",
    "This will eventually be fixed to have a fixed dataset  \n",
    "Effectively just need to make sure the user product edge list is the constant one \n",
    "\n",
    "Right now will also do the sanity checks as well as the rows and the correctness of ids etc "
   ]
  },
  {
   "cell_type": "code",
   "execution_count": 4,
   "metadata": {},
   "outputs": [],
   "source": [
    "# Things to remove \n",
    "# 1. Users that rate products not in the product df (redundant data)\n",
    "# 2. Products that do not have a user rating (redundant data)\n",
    "# 3. Users that will only appear in the test set (basically we want to ensure they have a history)"
   ]
  },
  {
   "cell_type": "code",
   "execution_count": 5,
   "metadata": {},
   "outputs": [],
   "source": [
    "useful_parent_asin = set(review_df.parent_asin).intersection(set(product_df.parent_asin))"
   ]
  },
  {
   "cell_type": "code",
   "execution_count": 6,
   "metadata": {},
   "outputs": [],
   "source": [
    "full_review_df = review_df[review_df.parent_asin.isin(useful_parent_asin)].copy()\n",
    "full_product_df = product_df[product_df.parent_asin.isin(useful_parent_asin)].copy()"
   ]
  },
  {
   "cell_type": "code",
   "execution_count": 7,
   "metadata": {},
   "outputs": [],
   "source": [
    "full_review_df = full_review_df.drop_duplicates(subset = [\"user_id\", \"parent_asin\"]).reset_index(drop = True)\n",
    "\n",
    "# Two possible options (about 2%)\n",
    "# .groupby([\"user_id\", \"parent_asin\"]).mean().reset_index()\n",
    "# .drop_duplicates(subset = [\"user_id\", \"parent_asin\"]).sort_values([\"user_id\", \"timestamp\"]).reset_index(drop = True)"
   ]
  },
  {
   "cell_type": "code",
   "execution_count": 8,
   "metadata": {},
   "outputs": [],
   "source": [
    "graph_edges = (full_review_df[[\"user_id\", \"parent_asin\", \"timestamp\", \"rating\"]]\n",
    "               .sort_values([\"user_id\", \"timestamp\"])               \n",
    "               .reset_index(drop = True)\n",
    ")"
   ]
  },
  {
   "cell_type": "code",
   "execution_count": 9,
   "metadata": {},
   "outputs": [],
   "source": [
    "# graph_edges_count = graph_edges.user_id.value_counts()\n",
    "# only_train_edges = graph_edges[graph_edges.user_id.isin(graph_edges_count[graph_edges_count <= 3].reset_index().user_id)].sort_values([\"user_id\", \"timestamp\"])\n",
    "# rest_edges = graph_edges[~graph_edges.user_id.isin(graph_edges_count[graph_edges_count <= 3].reset_index().user_id)].sort_values([\"user_id\", \"timestamp\"])"
   ]
  },
  {
   "cell_type": "code",
   "execution_count": 10,
   "metadata": {},
   "outputs": [],
   "source": [
    "# make the id to idx mapping first to ensure all are accounted for \n",
    "user_id_to_idx = {unique_id : idx for idx, unique_id in enumerate(graph_edges.user_id.unique())}\n",
    "prod_id_to_idx = {unique_id : idx for idx, unique_id in enumerate(graph_edges.parent_asin.unique())}"
   ]
  },
  {
   "cell_type": "code",
   "execution_count": 11,
   "metadata": {},
   "outputs": [],
   "source": [
    "graph_edges[\"user_idx\"] = graph_edges.user_id.apply(lambda x: user_id_to_idx[x])\n",
    "graph_edges[\"prod_idx\"] = graph_edges.parent_asin.apply(lambda x: prod_id_to_idx[x])\n",
    "graph_edges[\"prod_shift\"] = graph_edges.prod_idx + len(user_id_to_idx)\n",
    "# graph_edges"
   ]
  },
  {
   "cell_type": "code",
   "execution_count": 12,
   "metadata": {},
   "outputs": [],
   "source": [
    "import numpy as np \n",
    "\n",
    "train_mark = np.quantile(graph_edges.timestamp, 0.7)\n",
    "test_mark = np.quantile(graph_edges.timestamp, 0.85)"
   ]
  },
  {
   "cell_type": "code",
   "execution_count": 13,
   "metadata": {},
   "outputs": [],
   "source": [
    "train_edges = graph_edges[graph_edges.timestamp <= train_mark].copy()\n",
    "test_edges = graph_edges[graph_edges.timestamp >= test_mark].copy()\n",
    "val_edges = graph_edges[(graph_edges.timestamp > train_mark) & (graph_edges.timestamp < test_mark)].copy()"
   ]
  },
  {
   "cell_type": "markdown",
   "metadata": {},
   "source": [
    "# Making the edges "
   ]
  },
  {
   "cell_type": "code",
   "execution_count": 14,
   "metadata": {},
   "outputs": [],
   "source": [
    "train_edge_index = torch.tensor(train_edges[[\"user_idx\", \"prod_idx\"]].to_numpy().T, dtype=torch.long)\n",
    "val_edge_index = torch.tensor(val_edges[[\"user_idx\", \"prod_idx\"]].to_numpy().T, dtype=torch.long)\n",
    "test_edge_index = torch.tensor(test_edges[[\"user_idx\", \"prod_idx\"]].to_numpy().T, dtype=torch.long)"
   ]
  },
  {
   "cell_type": "code",
   "execution_count": 15,
   "metadata": {},
   "outputs": [],
   "source": [
    "train_edge_weights = torch.tensor(train_edges.rating.to_list(), dtype=torch.float)\n",
    "val_edge_weights = torch.tensor(val_edges.rating.to_list(), dtype=torch.float)\n",
    "test_edge_weights = torch.tensor(test_edges.rating.to_list(), dtype=torch.float)"
   ]
  },
  {
   "cell_type": "markdown",
   "metadata": {},
   "source": [
    "# Making the Nodes"
   ]
  },
  {
   "cell_type": "code",
   "execution_count": 16,
   "metadata": {},
   "outputs": [],
   "source": [
    "prod_numeric = torch.tensor(full_product_df[[\"average_rating\", \"rating_number\"]].to_numpy(), dtype = torch.float)\n",
    "# title_features = custom_BLaIR_text_embedding_model(full_product_df[\"title\"].to_list(), \"custom_blair/massive\", batch_size = 512, max_length = 30) # 1h 30 min "
   ]
  },
  {
   "cell_type": "code",
   "execution_count": 17,
   "metadata": {},
   "outputs": [],
   "source": [
    "# product_features = torch.cat([prod_numeric, title_features], dim=1)\n",
    "product_features = prod_numeric"
   ]
  },
  {
   "cell_type": "code",
   "execution_count": 18,
   "metadata": {},
   "outputs": [],
   "source": [
    "# meta_features = custom_BLaIR_text_embedding_model(product_node_content_dfa[\"meta\"].to_list(), \"custom_blair/massive\", batch_size = 512, max_length = 30) # 1h 30 min \n",
    "# review_features = custom_BLaIR_text_embedding_model(product_node_content_df[\"reviews\"].to_list(), \"custom_blair/massive\", batch_size = 512, max_length = 30) # 10 min\n",
    "# user_review_features = custom_BLaIR_text_embedding_model(user_node_content_df[\"reviews\"].to_list(), \"custom_blair/massive\", batch_size = 512, max_length = 512) # 1h\n",
    "\n",
    "# meta_features = torch.load(\"data/embeddings/meta_features_512.pt\")\n",
    "# review_features = torch.load(\"data/embeddings/review_features_512.pt\")\n",
    "# user_review_features = torch.load(\"data/embeddings/user_review_features_512.pt\")"
   ]
  },
  {
   "cell_type": "code",
   "execution_count": 19,
   "metadata": {},
   "outputs": [],
   "source": [
    "# join back i guess\n",
    "# product_features = torch.cat([meta_features, review_features], dim=1)"
   ]
  },
  {
   "cell_type": "code",
   "execution_count": 20,
   "metadata": {},
   "outputs": [],
   "source": [
    "# user_features = instantiate_users(agg_user_df, user_review_features) # df intiation\n",
    "# user_features = instantiate_users(len(user_mapping), 20) # zero initiation\n",
    "\n",
    "user_features = torch.tensor(agg_user_df.drop([\"user_id\", \"reviews\"], axis = 1).to_numpy(), dtype = torch.float) "
   ]
  },
  {
   "cell_type": "markdown",
   "metadata": {},
   "source": [
    "# Set up variables"
   ]
  },
  {
   "cell_type": "code",
   "execution_count": 21,
   "metadata": {},
   "outputs": [],
   "source": [
    "num_users = len(user_id_to_idx)\n",
    "num_products = len(prod_id_to_idx)\n",
    "user_feature_dim = user_features.shape[1]\n",
    "product_feature_dim = product_features.shape[1]"
   ]
  },
  {
   "cell_type": "markdown",
   "metadata": {},
   "source": [
    "# Move to GPU "
   ]
  },
  {
   "cell_type": "code",
   "execution_count": 22,
   "metadata": {},
   "outputs": [],
   "source": [
    "device = \"cuda\" if torch.cuda.is_available() else \"cpu\"\n",
    "\n",
    "train_edge_index = train_edge_index.to(device)\n",
    "train_edge_weights = train_edge_weights.to(device)\n",
    "val_edge_index = val_edge_index.to(device)\n",
    "val_edge_weights = val_edge_weights.to(device)\n",
    "test_edge_index = test_edge_index.to(device)\n",
    "test_edge_weights = test_edge_weights.to(device)\n",
    "user_features = user_features.to(device)\n",
    "product_features = product_features.to(device)"
   ]
  },
  {
   "cell_type": "markdown",
   "metadata": {},
   "source": [
    "# Run the models\n",
    "\n",
    "This is a copy paste of the models in the notebooks, no changes to logic.  \n",
    "Modificiations if made is mainly for the function wrappers or stuff \n",
    "\n",
    "Tried batching, but it ended up not being that effective.   \n",
    "Code works but slow.    \n",
    "It was written in case not enough memory but guess right now might not be needed - gpu works on full set one shot "
   ]
  },
  {
   "cell_type": "code",
   "execution_count": 167,
   "metadata": {},
   "outputs": [],
   "source": [
    "del base_gnn_model_v2\n",
    "torch.cuda.empty_cache()"
   ]
  },
  {
   "cell_type": "code",
   "execution_count": 168,
   "metadata": {},
   "outputs": [],
   "source": [
    "from utils.graph_model import BaseGNNRecommender_v2"
   ]
  },
  {
   "cell_type": "code",
   "execution_count": 169,
   "metadata": {},
   "outputs": [],
   "source": [
    "base_gnn_model_v2 = BaseGNNRecommender_v2(num_users, num_products, user_feature_dim, product_feature_dim, 32)"
   ]
  },
  {
   "cell_type": "code",
   "execution_count": 170,
   "metadata": {},
   "outputs": [
    {
     "name": "stdout",
     "output_type": "stream",
     "text": [
      "Epoch: 10, Train Loss: 2.2690, Val Loss: 2.6503, best model epoch: 10\n",
      "Epoch: 20, Train Loss: 2.1514, Val Loss: 2.5096, best model epoch: 20\n",
      "Epoch: 30, Train Loss: 2.0867, Val Loss: 2.4969, best model epoch: 28\n",
      "Epoch: 40, Train Loss: 2.0409, Val Loss: 2.5033, best model epoch: 36\n",
      "Epoch: 50, Train Loss: 1.9984, Val Loss: 2.5115, best model epoch: 42\n",
      "Epoch: 60, Train Loss: 2.0037, Val Loss: 2.5185, best model epoch: 54\n",
      "Epoch: 70, Train Loss: 1.9197, Val Loss: 2.5556, best model epoch: 54\n",
      "Epoch: 80, Train Loss: 1.9370, Val Loss: 2.6153, best model epoch: 54\n",
      "Epoch: 90, Train Loss: 1.7859, Val Loss: 2.5696, best model epoch: 54\n",
      "Epoch: 100, Train Loss: 1.7605, Val Loss: 2.5789, best model epoch: 97\n"
     ]
    }
   ],
   "source": [
    "base_gnn_model_v2.to(device)\n",
    "train_loss, valid_loss, best_model = train_model(base_gnn_model_v2, train_edge_index, train_edge_weights, val_edge_index, val_edge_weights, \n",
    "                                                 user_features, product_features, num_epochs = 100, print_progress=True)"
   ]
  },
  {
   "cell_type": "code",
   "execution_count": 171,
   "metadata": {},
   "outputs": [
    {
     "data": {
      "image/png": "[encoded data removed]",
      "text/plain": [
       "<Figure size 1000x600 with 1 Axes>"
      ]
     },
     "metadata": {},
     "output_type": "display_data"
    }
   ],
   "source": [
    "plot_loss(train_loss, valid_loss) # base GNNM"
   ]
  },
  {
   "cell_type": "code",
   "execution_count": 172,
   "metadata": {},
   "outputs": [
    {
     "name": "stdout",
     "output_type": "stream",
     "text": [
      "Test loss: 2.8163\n",
      "Best possible loss: 2.6230\n"
     ]
    }
   ],
   "source": [
    "final_evaluation(base_gnn_model_v2, test_edge_index, test_edge_weights, user_features, product_features, best_model)"
   ]
  },
  {
   "cell_type": "markdown",
   "metadata": {},
   "source": [
    "# Next recomendations \n",
    "\n",
    "Based on the current set up, actually very trash cos the model predicts the exact same stuff (base GNN)  \n",
    "GNNSAGE not say much better still alternates the same stuff"
   ]
  },
  {
   "cell_type": "code",
   "execution_count": 180,
   "metadata": {},
   "outputs": [
    {
     "data": {
      "text/plain": [
       "<All keys matched successfully>"
      ]
     },
     "execution_count": 180,
     "metadata": {},
     "output_type": "execute_result"
    }
   ],
   "source": [
    "base_gnn_model_v2.load_state_dict(best_model)"
   ]
  },
  {
   "cell_type": "code",
   "execution_count": 183,
   "metadata": {},
   "outputs": [
    {
     "name": "stdout",
     "output_type": "stream",
     "text": [
      "AET5SMKINVXPM37MMSJYNQF4RB5A \n",
      "\n",
      "Product 1: Deep Wave 613 Frontal Wig 13X4 Transparent HD Lace Blonde Deep Curly 613 Lace Frontal Wig Human Hair 20inch 613 Human Hair Lace Front Wig with Baby Hair Pre Plucked Free Part 150% Density\n",
      "Product 2: KISS Catwalk Collection Fake Nails Manicure Kit inspired by Designs from the New York Fashion Shows, Style 'Lights', 24 Glue On Nails in 12 Sizes\n",
      "Product 3: ABH AmazingBeauty Hair Sun-kissed Double Side Tape Hair Highlight Extensions, Invisible Real Remy Human Hair Skin Weft, 50g 20pcs, Darkest Brown with Chocolate Brown and Chestnut Brown P2-4-6 18 Inch\n",
      "Product 4: Jeune Marie Ribbon (12 Pack, Mint)\n",
      "Product 5: Water Wave Bundles with Frontal (14 16 18+14) 365g .Ear to Ear Lace Frontal with Bundles Brazilian Remy Virgin Wet and Wavy Bundles with Frontal Closure Natural Colo\n",
      "Product 6: EZbobble 24PCS Spiral Hair Ties No Crease, Coil Hair Ties for Women and Girls Plastic Hair Ties Spiral Multicolor Series\n",
      "Product 7: Acca Kappa White Moss Shampoo & Conditioner - These products are NOT made in Italy or by Acca Kappa.\n",
      "Product 8: Malaysian Deep Wave 3 Bundles with Lace Closure 8A 100% Unprocessed Human Hair Bundles with 4×4 Free Part Lace Closure Deep Wave Virgin Hair Bundles Natural Color (20 22 24 with 18)\n",
      "Product 9: Tulipan Negro Agua de Colonia Original 1953 650 + 150ML Made in Spain\n",
      "Product 10: 24 Pcs Glossy Press on Nails, Luvehandicraft Medium Stiletto Fake Nails, False Nails with Glue for Women and Girls (Rose Red French)\n",
      "\n",
      "\n"
     ]
    }
   ],
   "source": [
    "user_id = agg_user_df.user_id.sample(1).item()\n",
    "print(user_id, \"\\n\")\n",
    "recomendations, preds = recommend_products(base_gnn_model_v2, user_id, user_id_to_idx, prod_id_to_idx,\n",
    "                                     user_features, product_features, top_k=10)\n",
    "pretty_print_recomendations(recomendations, full_product_df, \"title\")\n",
    "print(\"\\n\")"
   ]
  },
  {
   "cell_type": "code",
   "execution_count": 184,
   "metadata": {},
   "outputs": [
    {
     "data": {
      "text/plain": [
       "tensor([1.0164, 1.0082, 1.0294,  ..., 1.0273, 1.0056, 1.0207], device='cuda:0')"
      ]
     },
     "execution_count": 184,
     "metadata": {},
     "output_type": "execute_result"
    }
   ],
   "source": [
    "preds"
   ]
  },
  {
   "cell_type": "code",
   "execution_count": null,
   "metadata": {},
   "outputs": [],
   "source": []
  },
  {
   "cell_type": "markdown",
   "metadata": {},
   "source": [
    "# DCG@10 testing \n",
    "\n",
    "This section is not from the colab notebook.  \n",
    "Works to figure out the dcg@10 metric to compare against the paper  \n",
    "\n",
    "From what i see, we need to be able to pass in some form of sequence into the prection.  \n",
    "My current understanding is limited on how to tweak it to make it as such.  \n",
    "Instead perhaps what we can do is to treat the test set as the ground truth label itself   \n",
    "And then we do the same calcualtions  "
   ]
  },
  {
   "cell_type": "code",
   "execution_count": 30,
   "metadata": {},
   "outputs": [],
   "source": [
    "# test_edge_index"
   ]
  },
  {
   "cell_type": "code",
   "execution_count": 31,
   "metadata": {},
   "outputs": [],
   "source": [
    "# user_idx = random.choice(test_edge_index[0]).item()\n",
    "# actual_prods = test_edge_index[1, test_edge_index[0] == user_idx]\n",
    "# paper_evaluation(base_gnn_model, user_idx, actual_prods, len(product_mapping), user_features, product_features, top_k=10)"
   ]
  },
  {
   "cell_type": "code",
   "execution_count": 32,
   "metadata": {},
   "outputs": [],
   "source": [
    "# count = 0 \n",
    "# for user_idx in test_edge_index[0]:\n",
    "#     actual_prods = test_edge_index[1, test_edge_index[0] == user_idx]\n",
    "#     scores = paper_evaluation(base_gnn_model, user_idx, actual_prods, len(product_mapping), user_features, product_features, top_k=10)\n",
    "#     if scores[0] > 0 or scores[1] > 0:\n",
    "#         print(user_idx, scores)\n",
    "#         count += 1\n",
    "#     if count == 5:\n",
    "#         break"
   ]
  }
 ],
 "metadata": {
  "kernelspec": {
   "display_name": "dl_proj",
   "language": "python",
   "name": "python3"
  },
  "language_info": {
   "codemirror_mode": {
    "name": "ipython",
    "version": 3
   },
   "file_extension": ".py",
   "mimetype": "text/x-python",
   "name": "python",
   "nbconvert_exporter": "python",
   "pygments_lexer": "ipython3",
   "version": "3.12.9"
  }
 },
 "nbformat": 4,
 "nbformat_minor": 2
}
