{
 "cells": [
  {
   "cell_type": "markdown",
   "id": "7bba0b0b",
   "metadata": {},
   "source": [
    "# Introduction \n",
    "\n",
    "This is code for the plots in the report"
   ]
  },
  {
   "cell_type": "markdown",
   "id": "eb25c4a4",
   "metadata": {},
   "source": [
    "# Imports "
   ]
  },
  {
   "cell_type": "code",
   "execution_count": null,
   "id": "81e64c08",
   "metadata": {},
   "outputs": [],
   "source": [
    "import pandas as pd\n",
    "import pickle\n",
    "import matplotlib.pyplot as plt\n",
    "import seaborn as sns\n",
    "import torch"
   ]
  },
  {
   "cell_type": "code",
   "execution_count": null,
   "id": "3dacf802",
   "metadata": {},
   "outputs": [],
   "source": [
    "activations = {}\n",
    "def hook_fn(module, input, output):\n",
    "    activations[module] = output"
   ]
  },
  {
   "cell_type": "markdown",
   "id": "21f6ee60",
   "metadata": {},
   "source": [
    "# Load data"
   ]
  },
  {
   "cell_type": "code",
   "execution_count": null,
   "id": "ec11977e",
   "metadata": {},
   "outputs": [],
   "source": [
    "baseline_train_loss = torch.load(\"results/baseline/train_loss.pt\")\n",
    "baseline_test_loss = torch.load(\"results/baseline/test_loss.pt\")\n",
    "baseline_predictions = torch.load(\"results/baseline/predictions.pt\")\n",
    "\n",
    "baseline_activations = pickle.load(open(\"results/baseline_with_hooks/activations.pkl\", \"rb\"))\n",
    "\n",
    "final_predictions = torch.load(\"results/final_model/predictions.pt\")\n",
    "final_activations = pickle.load(open(\"results/final_model/activations.pkl\", \"rb\"))\n",
    "\n",
    "baseline_true_edges = torch.load(\"plot_helpers/train_test_val_edge_weights.pt\")\n",
    "final_true_edges = torch.load(\"plot_helpers/train_test_edge_weights.pt\")"
   ]
  },
  {
   "cell_type": "code",
   "execution_count": null,
   "id": "f553e5b5",
   "metadata": {},
   "outputs": [],
   "source": [
    "def plot_train_val_loss(axes, train_loss, validation_loss, grid = True):\n",
    "    axes.plot(range(len(train_loss)), train_loss, label='Training Loss')\n",
    "    axes.plot(range(len(validation_loss)), validation_loss, label='Validation Loss')\n",
    "    axes.set_title(\"Training and Validation Losses\")\n",
    "    axes.set_xlabel(\"Epoch\")\n",
    "    axes.set_ylabel(\"Loss\")\n",
    "    axes.legend()\n",
    "    axes.set_ylim(0, 40)\n",
    "    axes.grid(grid)\n",
    "\n",
    "def ratings_distribution(axes, predicted, actual):\n",
    "    sns.kdeplot(predicted, color='blue', fill=True, label=\"Predicted\", ax = axes)\n",
    "    sns.kdeplot(actual, color='orange', fill=True, label=\"Actual\", ax = axes)\n",
    "    axes.set_title(\"Density of Predicted and\\n Actual Ratings\")\n",
    "    axes.set_xlabel(\"Rating\")\n",
    "    axes.set_ylabel(\"Density\")\n",
    "    axes.set_xlim(0, 6.5)\n",
    "    axes.legend()\n",
    "\n",
    "def plot_activation_heatmap(axes, activation, title, cbar=False, ytick = False):\n",
    "    sns.heatmap(activation, vmin=-100, vmax=100, annot=False, cmap=\"viridis\", ax=axes, cbar=cbar)\n",
    "    axes.set_title(title)\n",
    "    if not ytick:\n",
    "        axes.set_yticks(ticks=[], labels=[])"
   ]
  },
  {
   "cell_type": "markdown",
   "id": "a2e3aca8",
   "metadata": {},
   "source": [
    "# Baseline plots"
   ]
  },
  {
   "cell_type": "code",
   "execution_count": null,
   "id": "1e73ea69",
   "metadata": {},
   "outputs": [],
   "source": [
    "# Train / validation loss\n",
    "# density plot\n",
    "\n",
    "fig, axes = plt.subplots(1, 2, figsize=(6.4, 3.5))\n",
    "plot_train_val_loss(axes[0], baseline_train_loss[5:], baseline_test_loss[5:], False)\n",
    "ratings_distribution(axes[1], baseline_predictions, baseline_true_edges)\n",
    "\n",
    "plt.tight_layout()\n",
    "plt.savefig(f\"plots/baseline_plots_1.png\", dpi = 300, bbox_inches='tight')"
   ]
  },
  {
   "cell_type": "code",
   "execution_count": null,
   "id": "19cbc9b8",
   "metadata": {},
   "outputs": [],
   "source": [
    "baseline_activations_keys = list(baseline_activations.keys())\n",
    "fig, axes = plt.subplots(1, 2, figsize=(6.4, 3.5))\n",
    "plot_activation_heatmap(axes[0], baseline_activations[baseline_activations_keys[2]].detach().cpu().numpy(), \"GNN Layer 1\", False, True)\n",
    "plot_activation_heatmap(axes[1], baseline_activations[baseline_activations_keys[3]].detach().cpu().numpy(), \"GNN Layer 2\", True, False)\n",
    "fig.supxlabel(\"Features\")\n",
    "fig.supylabel(\"Users\")\n",
    "plt.tight_layout()\n",
    "\n",
    "plt.tight_layout()\n",
    "plt.savefig(f\"plots/baseline_plots_2.png\", dpi = 300, bbox_inches='tight')"
   ]
  },
  {
   "cell_type": "markdown",
   "id": "e120dd19",
   "metadata": {},
   "source": [
    "# Final plots"
   ]
  },
  {
   "cell_type": "code",
   "execution_count": null,
   "id": "12e8cd5c",
   "metadata": {},
   "outputs": [],
   "source": [
    "# density plot\n",
    "final_activations_keys = list(final_activations.keys())\n",
    "fig, axes = plt.subplots(1, 2, figsize=(6.4, 3.5))\n",
    "ratings_distribution(axes[0], final_predictions, final_true_edges)\n",
    "plot_activation_heatmap(axes[1], final_activations[final_activations_keys[3]].detach().cpu().numpy(), \"GNN Layer 2\", True, True)\n",
    "\n",
    "plt.tight_layout()\n",
    "plt.savefig(f\"plots/final_plots_1.png\", dpi = 300, bbox_inches='tight')"
   ]
  }
 ],
 "metadata": {
  "kernelspec": {
   "display_name": "dl_proj",
   "language": "python",
   "name": "python3"
  },
  "language_info": {
   "codemirror_mode": {
    "name": "ipython",
    "version": 3
   },
   "file_extension": ".py",
   "mimetype": "text/x-python",
   "name": "python",
   "nbconvert_exporter": "python",
   "pygments_lexer": "ipython3",
   "version": "3.12.9"
  }
 },
 "nbformat": 4,
 "nbformat_minor": 5
}
