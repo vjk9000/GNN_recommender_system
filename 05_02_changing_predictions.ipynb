{
 "cells": [
  {
   "cell_type": "markdown",
   "id": "ff5bd277",
   "metadata": {},
   "source": [
    "# Introduction\n",
    "\n",
    "This notebook will focus a what if analysis.  \n",
    "We note that most of the users with no prior info will be predicted with the same items.  \n",
    "So what if the predicted items were instead the most frequent items in the training data"
   ]
  },
  {
   "cell_type": "code",
   "execution_count": 17,
   "id": "cd1245e5",
   "metadata": {},
   "outputs": [],
   "source": [
    "import pandas as pd\n",
    "import torch\n",
    "from utils.setup_nodes import create_user_df"
   ]
  },
  {
   "cell_type": "markdown",
   "id": "303d3d74",
   "metadata": {},
   "source": [
    "# Set up"
   ]
  },
  {
   "cell_type": "code",
   "execution_count": 18,
   "id": "be50a7a5",
   "metadata": {},
   "outputs": [],
   "source": [
    "user_split = \"train_test\"\n",
    "prod_embed_name = \"meta_features_512\"\n",
    "user_embed_name = \"user_reviews_features_512\"\n",
    "\n",
    "data_dir = \"data\"\n",
    "product_dir = \"full_data\"\n",
    "embedding_dir = \"embedding\"\n",
    "results_folder = \"final_model\"\n",
    "\n",
    "device = \"cuda\"\n",
    "\n",
    "product_cols = [\"parent_asin\", \"average_rating\", \"rating_number\"]\n",
    "user_cols = [\"user_id\", \"rating_mean\", \"rating_count\", \"helpful_vote_mean\", \"helpful_vote_gte_1\", \"verified_purchase_mean\", \"last_active_in_days_min\",\n",
    "            \"last_active_in_days_max\", \"word_count_mean\"]\n",
    "edge_cols = [\"user_id\", \"parent_asin\", \"rating\"]"
   ]
  },
  {
   "cell_type": "markdown",
   "id": "6ac249ea",
   "metadata": {},
   "source": [
    "# Load data"
   ]
  },
  {
   "cell_type": "code",
   "execution_count": 19,
   "id": "29a43292",
   "metadata": {},
   "outputs": [],
   "source": [
    "product_df = pd.read_parquet(f\"{data_dir}/{product_dir}/product_df.parquet\", columns = product_cols)\n",
    "train_user_df = pd.read_parquet(f\"{data_dir}/{user_split}_split/train_agg.parquet\", columns = user_cols)\n",
    "train_user_edges = pd.read_parquet(f\"{data_dir}/{user_split}_split/train.parquet\", columns = edge_cols)\n",
    "test_user_df = pd.read_parquet(f\"{data_dir}/{user_split}_split/test_agg.parquet\", columns = user_cols)\n",
    "test_user_edges = pd.read_parquet(f\"{data_dir}/{user_split}_split/test.parquet\", columns = edge_cols)\n",
    "\n",
    "product_embedding = torch.load(f\"{data_dir}/{embedding_dir}/product/{prod_embed_name}.pt\")\n",
    "train_user_embedding = torch.load(f\"{data_dir}/{embedding_dir}/{user_split}_split/train_{user_embed_name}.pt\")\n",
    "test_user_embedding = torch.load(f\"{data_dir}/{embedding_dir}/{user_split}_split/test_{user_embed_name}.pt\")\n",
    "\n",
    "# Add the embedding \n",
    "train_user_df[\"embedding\"] = list(train_user_embedding.numpy())\n",
    "test_user_df[\"embedding\"] = list(test_user_embedding.numpy())\n",
    "\n",
    "# Make super user df\n",
    "user_df = create_user_df(train_user_df, test_user_df)\n",
    "\n",
    "# Set up id mapping\n",
    "offset = user_df.user_id.nunique()\n",
    "user_id_to_idx = {unique_id : idx for idx, unique_id in enumerate(user_df.user_id.unique())}\n",
    "prod_id_to_idx = {unique_id : offset + idx for idx, unique_id in enumerate(product_df.parent_asin.unique())}\n",
    "\n",
    "# Add to df\n",
    "product_df[\"prod_idx\"] = product_df.parent_asin.apply(lambda x: prod_id_to_idx[x])\n",
    "train_user_edges[\"user_idx\"] = train_user_edges.user_id.apply(lambda x: user_id_to_idx[x])\n",
    "test_user_edges[\"user_idx\"] = test_user_edges.user_id.apply(lambda x: user_id_to_idx[x])\n",
    "train_user_edges[\"prod_idx\"] = train_user_edges.parent_asin.apply(lambda x: prod_id_to_idx[x])\n",
    "test_user_edges[\"prod_idx\"] = test_user_edges.parent_asin.apply(lambda x: prod_id_to_idx[x])"
   ]
  },
  {
   "cell_type": "code",
   "execution_count": 20,
   "id": "f4f43797",
   "metadata": {},
   "outputs": [],
   "source": [
    "predictions = pd.read_parquet(\"results/final_model/predictions.parquet\")"
   ]
  },
  {
   "cell_type": "code",
   "execution_count": 27,
   "id": "0cc44078",
   "metadata": {},
   "outputs": [],
   "source": [
    "# find the top 10 recomended items \n",
    "top_10_prods = train_user_edges.groupby(\"prod_idx\").parent_asin.count().reset_index().sort_values(\"parent_asin\").tail(10).prod_idx.to_numpy()"
   ]
  },
  {
   "cell_type": "code",
   "execution_count": 40,
   "id": "45a47e84",
   "metadata": {},
   "outputs": [],
   "source": [
    "additional_test_users = test_user_df[~test_user_df.user_id.isin(train_user_df.user_id)][[\"user_id\"]].copy()\n",
    "additional_test_users[\"user_idx\"] = additional_test_users.user_id.apply(lambda x: user_id_to_idx[x])\n",
    "additional_test_users_user_idx = set(additional_test_users.user_idx.unique())"
   ]
  },
  {
   "cell_type": "code",
   "execution_count": 43,
   "id": "6491a74d",
   "metadata": {},
   "outputs": [],
   "source": [
    "predictions[\"new_user\"] = predictions.user_idx.apply(lambda x: x in additional_test_users_user_idx)"
   ]
  },
  {
   "cell_type": "code",
   "execution_count": 45,
   "id": "593c9f21",
   "metadata": {},
   "outputs": [],
   "source": [
    "predictions[\"prediction_adjusted\"] = predictions.apply(lambda x: top_10_prods if x.new_user else x.prediction, axis = 1)"
   ]
  },
  {
   "cell_type": "code",
   "execution_count": 47,
   "id": "c4c3779b",
   "metadata": {},
   "outputs": [],
   "source": [
    "predictions[\"adj_match_count\"] = predictions.apply(lambda x: len(set(x.prod_idx).intersection(set(x.prediction_adjusted))), axis = 1)"
   ]
  },
  {
   "cell_type": "code",
   "execution_count": 50,
   "id": "0c9f48e3",
   "metadata": {},
   "outputs": [
    {
     "data": {
      "text/plain": [
       "np.float64(0.00826960176381425)"
      ]
     },
     "execution_count": 50,
     "metadata": {},
     "output_type": "execute_result"
    }
   ],
   "source": [
    "(predictions[\"adj_match_count\"] / predictions.prod_idx.apply(len)).mean()"
   ]
  },
  {
   "cell_type": "code",
   "execution_count": 53,
   "id": "969777e0",
   "metadata": {},
   "outputs": [],
   "source": [
    "predictions[\"adj_recall\"]  = predictions[\"adj_match_count\"] / predictions.prod_idx.apply(len)"
   ]
  },
  {
   "cell_type": "code",
   "execution_count": 52,
   "id": "f6dbd6d4",
   "metadata": {},
   "outputs": [
    {
     "data": {
      "text/plain": [
       "0.8269601763814249"
      ]
     },
     "execution_count": 52,
     "metadata": {},
     "output_type": "execute_result"
    }
   ],
   "source": [
    "0.00826960176381425 * 100"
   ]
  }
 ],
 "metadata": {
  "kernelspec": {
   "display_name": "dl_proj",
   "language": "python",
   "name": "python3"
  },
  "language_info": {
   "codemirror_mode": {
    "name": "ipython",
    "version": 3
   },
   "file_extension": ".py",
   "mimetype": "text/x-python",
   "name": "python",
   "nbconvert_exporter": "python",
   "pygments_lexer": "ipython3",
   "version": "3.12.9"
  }
 },
 "nbformat": 4,
 "nbformat_minor": 5
}
