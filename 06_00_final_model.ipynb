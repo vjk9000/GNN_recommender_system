{
 "cells": [
  {
   "cell_type": "code",
   "execution_count": 1,
   "id": "faab79af",
   "metadata": {},
   "outputs": [],
   "source": [
    "%load_ext autoreload\n",
    "%autoreload 2"
   ]
  },
  {
   "cell_type": "markdown",
   "id": "e1ebf3f9",
   "metadata": {},
   "source": [
    "# Introduction \n",
    "\n",
    "These changes are implemented in the new architecture: GNNSAGERecommenderwithSkipConnections.  \n",
    "Internally instead of using the regular GNN, uses the GNNSAGE"
   ]
  },
  {
   "cell_type": "markdown",
   "id": "4b5dbf6d",
   "metadata": {},
   "source": [
    "# Imports"
   ]
  },
  {
   "cell_type": "code",
   "execution_count": 2,
   "id": "6962fb86",
   "metadata": {},
   "outputs": [],
   "source": [
    "import pandas as pd\n",
    "import pickle\n",
    "import numpy as np\n",
    "import torch\n",
    "import os\n",
    "import gc\n",
    "\n",
    "from utils.setup_nodes import create_edge_lists, create_user_df\n",
    "from utils.graph_helpers import train_model_without_test, plot_train_val_loss, final_evaluation, plot_activation_heatmap_and_density\n",
    "from utils.graph_model import GNNSAGERecommenderwithSkipConnections\n",
    "from utils.general import seed_everything\n",
    "from utils.predictions import recommend_products, pretty_print_recomendations, get_top_k_preds"
   ]
  },
  {
   "cell_type": "markdown",
   "id": "98ec0cbf",
   "metadata": {},
   "source": [
    "# Set up"
   ]
  },
  {
   "cell_type": "code",
   "execution_count": 3,
   "id": "036c6543",
   "metadata": {},
   "outputs": [],
   "source": [
    "seed_everything()"
   ]
  },
  {
   "cell_type": "code",
   "execution_count": 4,
   "id": "335eaf2c",
   "metadata": {},
   "outputs": [],
   "source": [
    "user_split = \"train_test\"\n",
    "prod_embed_name = \"meta_features_512\"\n",
    "user_embed_name = \"user_reviews_features_512\"\n",
    "\n",
    "data_dir = \"data\"\n",
    "product_dir = \"full_data\"\n",
    "embedding_dir = \"embedding\"\n",
    "results_folder = \"final_model\"\n",
    "\n",
    "device = \"cuda\"\n",
    "\n",
    "product_cols = [\"parent_asin\", \"average_rating\", \"rating_number\"]\n",
    "user_cols = [\"user_id\", \"rating_mean\", \"rating_count\", \"helpful_vote_mean\", \"helpful_vote_gte_1\", \"verified_purchase_mean\", \"last_active_in_days_min\",\n",
    "            \"last_active_in_days_max\", \"word_count_mean\"]\n",
    "edge_cols = [\"user_id\", \"parent_asin\", \"rating\"]"
   ]
  },
  {
   "cell_type": "markdown",
   "id": "d6ad15db",
   "metadata": {},
   "source": [
    "# Load data"
   ]
  },
  {
   "cell_type": "code",
   "execution_count": 5,
   "id": "8e78d280",
   "metadata": {},
   "outputs": [],
   "source": [
    "product_df = pd.read_parquet(f\"{data_dir}/{product_dir}/product_df.parquet\", columns = product_cols)\n",
    "train_user_df = pd.read_parquet(f\"{data_dir}/{user_split}_split/train_agg.parquet\", columns = user_cols)\n",
    "train_user_edges = pd.read_parquet(f\"{data_dir}/{user_split}_split/train.parquet\", columns = edge_cols)\n",
    "\n",
    "if user_split == \"train_test_valid\":\n",
    "    test_user_df = pd.read_parquet(f\"{data_dir}/{user_split}_split/valid_agg.parquet\", columns = user_cols)\n",
    "    test_user_edges = pd.read_parquet(f\"{data_dir}/{user_split}_split/valid.parquet\", columns = edge_cols)\n",
    "else:\n",
    "    test_user_df = pd.read_parquet(f\"{data_dir}/{user_split}_split/test_agg.parquet\", columns = user_cols)\n",
    "    test_user_edges = pd.read_parquet(f\"{data_dir}/{user_split}_split/test.parquet\", columns = edge_cols)\n"
   ]
  },
  {
   "cell_type": "code",
   "execution_count": 6,
   "id": "2dc6f785",
   "metadata": {},
   "outputs": [],
   "source": [
    "product_embedding = torch.load(f\"{data_dir}/{embedding_dir}/product/{prod_embed_name}.pt\")\n",
    "train_user_embedding = torch.load(f\"{data_dir}/{embedding_dir}/{user_split}_split/train_{user_embed_name}.pt\")\n",
    "if user_split == \"train_test_valid\":\n",
    "    test_user_embedding = torch.load(f\"{data_dir}/{embedding_dir}/{user_split}_split/valid_{user_embed_name}.pt\")\n",
    "else:\n",
    "    test_user_embedding = torch.load(f\"{data_dir}/{embedding_dir}/{user_split}_split/test_{user_embed_name}.pt\")"
   ]
  },
  {
   "cell_type": "markdown",
   "id": "331ba499",
   "metadata": {},
   "source": [
    "# Make nodes"
   ]
  },
  {
   "cell_type": "code",
   "execution_count": 7,
   "id": "51709e28",
   "metadata": {},
   "outputs": [],
   "source": [
    "# Add the embedding \n",
    "train_user_df[\"embedding\"] = list(train_user_embedding.numpy())\n",
    "test_user_df[\"embedding\"] = list(test_user_embedding.numpy())\n",
    "\n",
    "# Make super user df\n",
    "user_df = create_user_df(train_user_df, test_user_df)"
   ]
  },
  {
   "cell_type": "code",
   "execution_count": 8,
   "id": "591e1931",
   "metadata": {},
   "outputs": [],
   "source": [
    "# Set up id mapping\n",
    "offset = user_df.user_id.nunique()\n",
    "user_id_to_idx = {unique_id : idx for idx, unique_id in enumerate(user_df.user_id.unique())}\n",
    "prod_id_to_idx = {unique_id : offset + idx for idx, unique_id in enumerate(product_df.parent_asin.unique())}\n",
    "\n",
    "# Add to df\n",
    "product_df[\"prod_idx\"] = product_df.parent_asin.apply(lambda x: prod_id_to_idx[x])\n",
    "train_user_edges[\"user_idx\"] = train_user_edges.user_id.apply(lambda x: user_id_to_idx[x])\n",
    "test_user_edges[\"user_idx\"] = test_user_edges.user_id.apply(lambda x: user_id_to_idx[x])\n",
    "train_user_edges[\"prod_idx\"] = train_user_edges.parent_asin.apply(lambda x: prod_id_to_idx[x])\n",
    "test_user_edges[\"prod_idx\"] = test_user_edges.parent_asin.apply(lambda x: prod_id_to_idx[x])"
   ]
  },
  {
   "cell_type": "code",
   "execution_count": 9,
   "id": "f2105813",
   "metadata": {},
   "outputs": [],
   "source": [
    "# Concat product nodes \n",
    "product_nodes = torch.cat([torch.tensor(product_df.drop([\"parent_asin\", \"prod_idx\"], axis = 1).to_numpy()), product_embedding], dim = 1)"
   ]
  },
  {
   "cell_type": "code",
   "execution_count": 10,
   "id": "775f57ca",
   "metadata": {},
   "outputs": [],
   "source": [
    "# concat user nodes \n",
    "user_embed = torch.tensor(np.vstack(user_df[\"embedding\"].values))\n",
    "user_info = torch.tensor(user_df.drop([\"user_id\", \"embedding\"], axis = 1).to_numpy())\n",
    "user_nodes = torch.cat([user_info, user_embed], dim = 1)"
   ]
  },
  {
   "cell_type": "code",
   "execution_count": 11,
   "id": "5ccf9384",
   "metadata": {},
   "outputs": [],
   "source": [
    "# Create edge list\n",
    "train_edge_index, train_edge_weights = create_edge_lists(train_user_edges)\n",
    "test_edge_index, test_edge_weights = create_edge_lists(train_user_edges)"
   ]
  },
  {
   "cell_type": "markdown",
   "id": "ea9311e4",
   "metadata": {},
   "source": [
    "# Move to GPU "
   ]
  },
  {
   "cell_type": "code",
   "execution_count": 12,
   "id": "8118624f",
   "metadata": {},
   "outputs": [],
   "source": [
    "product_nodes = product_nodes.type(torch.float).to(device)\n",
    "user_nodes = user_nodes.type(torch.float).to(device)\n",
    "train_edge_index = train_edge_index.to(device)\n",
    "train_edge_weights = train_edge_weights.to(device)\n",
    "test_edge_index = test_edge_index.to(device)\n",
    "test_edge_weights = test_edge_weights.to(device)"
   ]
  },
  {
   "cell_type": "markdown",
   "id": "d8d2ac3a",
   "metadata": {},
   "source": [
    "# Model"
   ]
  },
  {
   "cell_type": "code",
   "execution_count": 13,
   "id": "6576d80a",
   "metadata": {},
   "outputs": [],
   "source": [
    "# Set up model features\n",
    "num_users = len(user_df)\n",
    "num_products = len(product_df)\n",
    "user_feature_dim = user_nodes.shape[1]\n",
    "product_feature_dim = product_nodes.shape[1]\n",
    "embedding_dim = 256\n",
    "dropout_prob = 0.2"
   ]
  },
  {
   "cell_type": "code",
   "execution_count": 14,
   "id": "def696ad",
   "metadata": {},
   "outputs": [],
   "source": [
    "# Instantiate the model\n",
    "model = GNNSAGERecommenderwithSkipConnections(num_users, num_products, user_feature_dim, product_feature_dim, embedding_dim, dropout_prob)"
   ]
  },
  {
   "cell_type": "code",
   "execution_count": 15,
   "id": "5010171b",
   "metadata": {},
   "outputs": [
    {
     "data": {
      "text/plain": [
       "GNNSAGERecommenderwithSkipConnections(\n",
       "  (user_feature_transform): Linear(in_features=776, out_features=256, bias=True)\n",
       "  (product_feature_transform): Linear(in_features=770, out_features=256, bias=True)\n",
       "  (conv1): SAGEConv(256, 256, aggr=mean)\n",
       "  (bn1): BatchNorm1d(256, eps=1e-05, momentum=0.1, affine=True, track_running_stats=True)\n",
       "  (conv2): SAGEConv(256, 256, aggr=mean)\n",
       "  (bn2): BatchNorm1d(256, eps=1e-05, momentum=0.1, affine=True, track_running_stats=True)\n",
       "  (predictor): Linear(in_features=256, out_features=1, bias=True)\n",
       ")"
      ]
     },
     "execution_count": 15,
     "metadata": {},
     "output_type": "execute_result"
    }
   ],
   "source": [
    "# move the model \n",
    "model.to(device)"
   ]
  },
  {
   "cell_type": "code",
   "execution_count": 16,
   "id": "bc66d697",
   "metadata": {},
   "outputs": [],
   "source": [
    "# Record activations for visualization\n",
    "activations = {}  # Dictionary to store activations\n",
    "def hook_fn(module, input, output):\n",
    "    \"\"\"Hook function to capture activations.\"\"\"\n",
    "    activations[module] = output\n",
    "hook_handle_1 = model.conv1.register_forward_hook(hook_fn)\n",
    "hook_handle_2 = model.conv2.register_forward_hook(hook_fn)\n",
    "hook_handle_3 = model.user_feature_transform.register_forward_hook(hook_fn)\n",
    "hook_handle_4 = model.product_feature_transform.register_forward_hook(hook_fn)"
   ]
  },
  {
   "cell_type": "markdown",
   "id": "4833123e",
   "metadata": {},
   "source": [
    "# Train"
   ]
  },
  {
   "cell_type": "code",
   "execution_count": 17,
   "id": "508bf355",
   "metadata": {},
   "outputs": [],
   "source": [
    "num_epochs = 1886\n",
    "lr = 0.01"
   ]
  },
  {
   "cell_type": "code",
   "execution_count": 18,
   "id": "623b2e32",
   "metadata": {},
   "outputs": [
    {
     "name": "stdout",
     "output_type": "stream",
     "text": [
      "Epoch: 100, Train Loss: 5.1362\n",
      "Epoch: 200, Train Loss: 1.8061\n",
      "Epoch: 300, Train Loss: 0.5973\n",
      "Epoch: 400, Train Loss: 0.3159\n",
      "Epoch: 500, Train Loss: 0.1611\n",
      "Epoch: 600, Train Loss: 0.1098\n",
      "Epoch: 700, Train Loss: 0.1278\n",
      "Epoch: 800, Train Loss: 0.0996\n",
      "Epoch: 900, Train Loss: 0.1309\n",
      "Epoch: 1000, Train Loss: 0.0936\n",
      "Epoch: 1100, Train Loss: 0.1048\n",
      "Epoch: 1200, Train Loss: 0.0886\n",
      "Epoch: 1300, Train Loss: 0.1001\n",
      "Epoch: 1400, Train Loss: 0.0847\n",
      "Epoch: 1500, Train Loss: 0.0823\n",
      "Epoch: 1600, Train Loss: 0.0800\n",
      "Epoch: 1700, Train Loss: 0.0879\n",
      "Epoch: 1800, Train Loss: 0.0791\n"
     ]
    }
   ],
   "source": [
    "train_losses = train_model_without_test(model, train_edge_index, train_edge_weights, user_nodes, product_nodes, num_epochs = num_epochs, lr = lr, \n",
    "                                        print_progress = True, print_freq = 100)"
   ]
  },
  {
   "cell_type": "code",
   "execution_count": 19,
   "id": "2ed45815",
   "metadata": {},
   "outputs": [
    {
     "data": {
      "image/png": "[encoded data removed]",
      "text/plain": [
       "<Figure size 650x340 with 1 Axes>"
      ]
     },
     "metadata": {},
     "output_type": "display_data"
    }
   ],
   "source": [
    "plot_train_val_loss(train_losses)"
   ]
  },
  {
   "cell_type": "code",
   "execution_count": 20,
   "id": "808d3b2c",
   "metadata": {},
   "outputs": [],
   "source": [
    "os.makedirs(f\"results/{results_folder}\", exist_ok=True)\n",
    "torch.save(train_losses, f\"results/{results_folder}/train_loss.pt\")\n",
    "\n",
    "pickle.dump(activations, open(f\"results/{results_folder}/activations.pkl\", \"wb\"))"
   ]
  },
  {
   "cell_type": "markdown",
   "id": "aa226330",
   "metadata": {},
   "source": [
    "# Test"
   ]
  },
  {
   "cell_type": "code",
   "execution_count": 21,
   "id": "6c440476",
   "metadata": {},
   "outputs": [
    {
     "data": {
      "image/png": "[encoded data removed]",
      "text/plain": [
       "<Figure size 650x340 with 1 Axes>"
      ]
     },
     "metadata": {},
     "output_type": "display_data"
    },
    {
     "name": "stdout",
     "output_type": "stream",
     "text": [
      "0.07579642534255981\n"
     ]
    }
   ],
   "source": [
    "test_loss, predictions = final_evaluation(model, test_edge_index, test_edge_weights, user_nodes, product_nodes, device, plot = True, print_test = False)\n",
    "print(test_loss.item())"
   ]
  },
  {
   "cell_type": "code",
   "execution_count": 22,
   "id": "faadb2eb",
   "metadata": {},
   "outputs": [],
   "source": [
    "torch.save(predictions, f\"results/{results_folder}/predictions.pt\")\n",
    "torch.save(model.state_dict(), f\"results/{results_folder}/model.pt\")"
   ]
  },
  {
   "cell_type": "markdown",
   "id": "575b777d",
   "metadata": {},
   "source": [
    "# Recomendations "
   ]
  },
  {
   "cell_type": "code",
   "execution_count": 23,
   "id": "e3d36e80",
   "metadata": {},
   "outputs": [],
   "source": [
    "title_mapping = pd.read_parquet(f\"{data_dir}/{product_dir}/product_df.parquet\", columns = [\"parent_asin\", \"title\"])\n",
    "prod_idx_to_id = {idx - offset: asin for asin, idx in prod_id_to_idx.items()}"
   ]
  },
  {
   "cell_type": "code",
   "execution_count": 24,
   "id": "6d405a21",
   "metadata": {},
   "outputs": [
    {
     "name": "stdout",
     "output_type": "stream",
     "text": [
      "Product 1: 15ml Magic Soak-Off Gel Nail Polish Remover, Professional Remover Nail Polish Delete Primer Acrylic Clean Degreaser For Nail Art Lacquer, Easily & Quickly\n",
      "Product 2: Gel Nail Polish Remover, Soak-Off Gel Polish Remover Professional Removes Soak-Off Gel Polish In 2-5 Minutes Easily & Quickly Don't Hurt Your Nails\n",
      "Product 3: Magic Roller Ball Toy, Dog Cat Pet Toy Automatic Roller Ball Magic Ball (1 Rolling Ball + 4 Color Ball Cover)\n",
      "Product 4: Magic Nail Polish Remover (2 Pack) - Remove Gel Nail Polish Within 2-3 Minutes - Quick & Easy Polish Remover - No Need For Foil, Soaking Or Wrapping, 0.5 Fl Oz\n",
      "Product 5: Nail Repair, Nail Repair Pen, Natural Nail Treatment, Maximum Strength Nail Solution, Perfect for Strengthening Unhealthy Nails, 4 Pens\n",
      "Product 6: Jagua Tattoo Kit Freehand Ink Temporary Tattoo Kit 3 Bottles Semi Permanent Tattoo DIY Temp Tattoos for Women Kids Men Fake Tattoos Freckles 30 Pcs Tattoo Stencils\n",
      "Product 7: Aliver Magic Nail Polish Remover, Professional Soak Off Gel Nail Polish Removal, 3-5 Minutes Quick Organic Nail Polish Cleaner Brush on 15ml Travel Size Non-Acetone Gift for Nail Art Lovers\n",
      "Product 8: Magic Soak-Off Gel Nail Polish Remover, Professional Remover Nail Polish Delete Primer Acrylic Clean Degreaser For Nail Art Lacquer, Easily and Quickly(15ml)\n",
      "Product 9: 2 Pack Magic Soak Off Gel Nail Polish Remover, Professional Remover Nail Polish Delete Primer Acrylic Clean Degreaser For Nail Art Lacquer, Easily and Quickly(15ml)\n",
      "Product 10: Nail Polish Remover Electric Steam off UV Gel Polish Removal Machine Acrylic Steamer, Portable Dip Nail Remover Tools Nail Steam Discharge\n",
      "tensor([4.0402, 4.0341, 4.0337, 4.0333, 4.0310, 4.0301, 4.0287, 4.0287, 4.0281,\n",
      "        4.0269], device='cuda:0')\n"
     ]
    }
   ],
   "source": [
    "# The pure random \n",
    "user_id = test_user_df.user_id.sample(1).item()\n",
    "recommended_products, predictions, pred_ratings = recommend_products(model, user_id, user_id_to_idx, prod_id_to_idx, user_nodes, product_nodes, \n",
    "                                                       prod_idx_to_id, ratings = True, top_k=10, device = device)\n",
    "pretty_print_recomendations(recommended_products, title_mapping, \"title\")\n",
    "print(pred_ratings)"
   ]
  },
  {
   "cell_type": "code",
   "execution_count": 25,
   "id": "eb38870a",
   "metadata": {},
   "outputs": [],
   "source": [
    "# The user with some data \n",
    "existing_test_users = test_user_df[test_user_df.user_id.isin(train_user_df.user_id)].copy()[[\"user_id\"]]"
   ]
  },
  {
   "cell_type": "code",
   "execution_count": 26,
   "id": "ee444746",
   "metadata": {},
   "outputs": [
    {
     "name": "stdout",
     "output_type": "stream",
     "text": [
      "Product 1: Maven Thread 2 Count Hair Scrunchies Elastic Hair Bands Scrunchy Hair Ties Accessories for Women or Girls Red and Blue BANDANA Set\n",
      "Product 2: BGGME 100% 25mm Siberian Mink Fur Eyelashes Stackable & Reusable 2pairs for 1 package Luxury Case (S2002)\n",
      "Product 3: SHINEE JONGHYUN - Collection [THE STORY] Op.2 CD+Photo Booklet Sealed K-POP\n",
      "Product 4: JIMIRE 3D Mink Lashes Dramatic Volume Lashes 100% Siberian Mink Fur Eyelashes 1 Pair\n",
      "Product 5: Maven Thread 2 Count Hair Scrunchies Elastic Hair Bands Scrunchy Hair Ties Accessories for Women or Girls Heather Grey Shibori Black and White - SHADOW Set\n",
      "Product 6: Beyond Silence: Life, Diary, Letters of Benedetta Bianchi Porro\n",
      "Product 7: Beautiful Leopard Print Scarf Wrap Stole Chiffon Faux Silk\n",
      "Product 8: Mink Eyelashes 3D Mink Lashes 25mm Lashes Extension Volume Handmade Natural Eyelashes(X15) Ruairie\n",
      "Product 9: JIMIRE 3D Mink Lashes Natural Volume Lashes 100% Siberian Mink Fur Eyelashes 1 Pair\n",
      "Product 10: QIUTIMIY 12 Pack(Green) Lily Flower Hair Pins for Bridal Wedding Women Hair Jewelry Accessories, with Clear Container\n",
      "tensor([3.5647, 3.5058, 3.4999, 3.4994, 3.4657, 3.4456, 3.4455, 3.4431, 3.4403,\n",
      "        3.4400], device='cuda:0')\n"
     ]
    }
   ],
   "source": [
    "user_id = existing_test_users.user_id.sample(1).item()\n",
    "recommended_products, predictions, pred_ratings = recommend_products(model, user_id, user_id_to_idx, prod_id_to_idx, user_nodes, product_nodes, \n",
    "                                                       prod_idx_to_id, ratings = True, top_k=10, device = device)\n",
    "pretty_print_recomendations(recommended_products, title_mapping, \"title\")\n",
    "print(pred_ratings)"
   ]
  },
  {
   "cell_type": "code",
   "execution_count": 27,
   "id": "20717a4c",
   "metadata": {},
   "outputs": [],
   "source": [
    "# count more than 10 purchases\n",
    "min_unique_purchase = 10\n",
    "item_count_df = test_user_edges.groupby(\"user_id\").prod_idx.apply(lambda x: len(set(x))).reset_index()\n",
    "dense_user_id = item_count_df[item_count_df[\"prod_idx\"] >= min_unique_purchase][[\"user_id\"]]"
   ]
  },
  {
   "cell_type": "code",
   "execution_count": 28,
   "id": "9111d12b",
   "metadata": {},
   "outputs": [
    {
     "name": "stdout",
     "output_type": "stream",
     "text": [
      "Product 1: Beyond Silence: Life, Diary, Letters of Benedetta Bianchi Porro\n",
      "Product 2: SHINEE JONGHYUN - Collection [THE STORY] Op.2 CD+Photo Booklet Sealed K-POP\n",
      "Product 3: Livegain Premium Rich Protein Treatment 500ml/16.89oz\n",
      "Product 4: Keo's Thai Cuisine\n",
      "Product 5: ATEEZ TREASURE EP.FIN:ALL TO ACTION SPECIAL LIMITED CD+108p 1st Anniversary Photo Book+36p Treasure Photo Book +1ea Sticker+2p Photo Card+1ea Tresure Card & Film(2ea Set) +1p STORE GIFT+TRACKING CODE\n",
      "Product 6: A Fighter Pilot's Story Wwii VHS\n",
      "Product 7: WAYV [TAKE OVER THE MOON] 2nd Mini Album CD+1p FOLDED Poster+124 pages Booklet+1p Photo Card+1p Circle Card+1p special SM GIFT+TRACKING CODE\n",
      "Product 8: Santa Maria Novella Schiuma Da Barba Shaving Foam 10.1oz\n",
      "Product 9: Claudio Arrau: Birth of a Legend - Columbia Recordings USA 1946-1950\n",
      "Product 10: Pot O' Gold Letterhead (Case of 1)\n",
      "tensor([4.4711, 4.4584, 4.4381, 4.4278, 4.4214, 4.3980, 4.3929, 4.3857, 4.3857,\n",
      "        4.3823], device='cuda:0')\n"
     ]
    },
    {
     "data": {
      "text/html": [
       "<div>\n",
       "<style scoped>\n",
       "    .dataframe tbody tr th:only-of-type {\n",
       "        vertical-align: middle;\n",
       "    }\n",
       "\n",
       "    .dataframe tbody tr th {\n",
       "        vertical-align: top;\n",
       "    }\n",
       "\n",
       "    .dataframe thead th {\n",
       "        text-align: right;\n",
       "    }\n",
       "</style>\n",
       "<table border=\"1\" class=\"dataframe\">\n",
       "  <thead>\n",
       "    <tr style=\"text-align: right;\">\n",
       "      <th></th>\n",
       "      <th>user_id</th>\n",
       "      <th>rating_mean</th>\n",
       "      <th>rating_count</th>\n",
       "      <th>helpful_vote_mean</th>\n",
       "      <th>helpful_vote_gte_1</th>\n",
       "      <th>verified_purchase_mean</th>\n",
       "      <th>last_active_in_days_min</th>\n",
       "      <th>last_active_in_days_max</th>\n",
       "      <th>word_count_mean</th>\n",
       "      <th>embedding</th>\n",
       "    </tr>\n",
       "  </thead>\n",
       "  <tbody>\n",
       "    <tr>\n",
       "      <th>10412</th>\n",
       "      <td>AE5IMGWRBJA7JQFBQTBK25HDYGVA</td>\n",
       "      <td>3.2</td>\n",
       "      <td>5</td>\n",
       "      <td>0.0</td>\n",
       "      <td>0</td>\n",
       "      <td>0.0</td>\n",
       "      <td>328</td>\n",
       "      <td>354</td>\n",
       "      <td>84.6</td>\n",
       "      <td>[0.3325386, -0.044216163, 0.19078752, -0.24438...</td>\n",
       "    </tr>\n",
       "  </tbody>\n",
       "</table>\n",
       "</div>"
      ],
      "text/plain": [
       "                            user_id  rating_mean  rating_count  \\\n",
       "10412  AE5IMGWRBJA7JQFBQTBK25HDYGVA          3.2             5   \n",
       "\n",
       "       helpful_vote_mean  helpful_vote_gte_1  verified_purchase_mean  \\\n",
       "10412                0.0                   0                     0.0   \n",
       "\n",
       "       last_active_in_days_min  last_active_in_days_max  word_count_mean  \\\n",
       "10412                      328                      354             84.6   \n",
       "\n",
       "                                               embedding  \n",
       "10412  [0.3325386, -0.044216163, 0.19078752, -0.24438...  "
      ]
     },
     "execution_count": 28,
     "metadata": {},
     "output_type": "execute_result"
    }
   ],
   "source": [
    "user_id = dense_user_id.user_id.sample(1).item()\n",
    "recommended_products, predictions, pred_ratings = recommend_products(model, user_id, user_id_to_idx, prod_id_to_idx, user_nodes, product_nodes, \n",
    "                                                       prod_idx_to_id, ratings = True, top_k=10, device = device)\n",
    "pretty_print_recomendations(recommended_products, title_mapping, \"title\")\n",
    "print(pred_ratings)\n",
    "\n",
    "user_df[user_df.user_id == user_id]"
   ]
  },
  {
   "cell_type": "markdown",
   "id": "bd902a91",
   "metadata": {},
   "source": [
    "# Memory clear"
   ]
  },
  {
   "cell_type": "code",
   "execution_count": null,
   "id": "0bba87d5",
   "metadata": {},
   "outputs": [
    {
     "data": {
      "text/plain": [
       "7476"
      ]
     },
     "execution_count": 29,
     "metadata": {},
     "output_type": "execute_result"
    }
   ],
   "source": [
    "hook_handle_1.remove()\n",
    "hook_handle_2.remove()\n",
    "hook_handle_3.remove()\n",
    "hook_handle_4.remove()\n",
    "\n",
    "del dense_user_id, recommended_products, predictions, pred_ratings, existing_test_users, activations\n",
    "del train_edge_index, train_edge_weights, train_losses, train_user_df, train_user_edges, train_user_embedding\n",
    "del test_edge_index, test_edge_weights, test_loss, test_user_df, test_user_embedding, user_df, user_info\n",
    "del product_embedding, title_mapping, user_id_to_idx, item_count_df, prod_idx_to_id, product_df\n",
    "torch.cuda.empty_cache()\n",
    "gc.collect()"
   ]
  },
  {
   "cell_type": "markdown",
   "id": "c9cc9cd5",
   "metadata": {},
   "source": [
    "# Metrics"
   ]
  },
  {
   "cell_type": "code",
   "execution_count": 30,
   "id": "19da37b2",
   "metadata": {},
   "outputs": [],
   "source": [
    "product_idx_tensor = torch.tensor(list(prod_id_to_idx.values()), dtype=torch.long, device = device)\n",
    "test_edges_grp = test_user_edges.groupby(\"user_idx\").prod_idx.apply(list).reset_index()\n",
    "test_edges_users = test_edges_grp.user_idx.to_list()"
   ]
  },
  {
   "cell_type": "code",
   "execution_count": 31,
   "id": "4dc21f26",
   "metadata": {},
   "outputs": [],
   "source": [
    "predictions = get_top_k_preds(model, test_edges_users, 10, 32, user_nodes, product_nodes, product_idx_tensor, device) # about 5 min to run\n",
    "test_edges_grp[\"prediction\"] = list(torch.vstack(predictions).cpu().numpy())\n",
    "test_edges_grp[\"match_count\"] = test_edges_grp.apply(lambda x: len(set(x.prod_idx).intersection(set(x.prediction))), axis = 1)"
   ]
  },
  {
   "cell_type": "code",
   "execution_count": 32,
   "id": "4521a29b",
   "metadata": {},
   "outputs": [
    {
     "data": {
      "text/plain": [
       "np.float64(0.0)"
      ]
     },
     "execution_count": 32,
     "metadata": {},
     "output_type": "execute_result"
    }
   ],
   "source": [
    "# Overall recall\n",
    "(test_edges_grp[\"match_count\"] / test_edges_grp.prod_idx.apply(len)).mean()"
   ]
  },
  {
   "cell_type": "code",
   "execution_count": 35,
   "id": "b8c34ed9",
   "metadata": {},
   "outputs": [
    {
     "data": {
      "text/plain": [
       "3150"
      ]
     },
     "execution_count": 35,
     "metadata": {},
     "output_type": "execute_result"
    }
   ],
   "source": [
    "preds = set(y.item() for x in test_edges_grp.prediction for y in x)\n",
    "len(preds)"
   ]
  },
  {
   "cell_type": "code",
   "execution_count": 36,
   "id": "df238948",
   "metadata": {},
   "outputs": [],
   "source": [
    "test_edges_grp.to_parquet(f\"results/{results_folder}/predictions.parquet\")"
   ]
  },
  {
   "cell_type": "code",
   "execution_count": null,
   "id": "9406ab7a",
   "metadata": {},
   "outputs": [],
   "source": [
    "torch.save(test_edge_weights, \"plot_helpers/train_test_edge_weights.pt\")"
   ]
  }
 ],
 "metadata": {
  "kernelspec": {
   "display_name": "dl_proj",
   "language": "python",
   "name": "python3"
  },
  "language_info": {
   "codemirror_mode": {
    "name": "ipython",
    "version": 3
   },
   "file_extension": ".py",
   "mimetype": "text/x-python",
   "name": "python",
   "nbconvert_exporter": "python",
   "pygments_lexer": "ipython3",
   "version": "3.12.9"
  }
 },
 "nbformat": 4,
 "nbformat_minor": 5
}
