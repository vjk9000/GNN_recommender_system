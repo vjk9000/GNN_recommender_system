{
 "cells": [
  {
   "cell_type": "code",
   "execution_count": null,
   "id": "faab79af",
   "metadata": {},
   "outputs": [],
   "source": [
    "%load_ext autoreload\n",
    "%autoreload 2"
   ]
  },
  {
   "cell_type": "markdown",
   "id": "e31bd5b2",
   "metadata": {},
   "source": [
    "# Imports "
   ]
  },
  {
   "cell_type": "code",
   "execution_count": null,
   "id": "6962fb86",
   "metadata": {},
   "outputs": [],
   "source": [
    "import pandas as pd\n",
    "import numpy as np\n",
    "import torch\n",
    "\n",
    "from utils.setup_nodes import create_edge_lists\n",
    "from utils.graph_helpers import train_model_without_test, plot_train_val_loss, final_evaluation\n",
    "from utils.graph_model import Base_GNN_Model\n",
    "from utils.general import seed_everything\n",
    "from utils.predictions import recommend_products, pretty_print_recomendations, evaluate_recall"
   ]
  },
  {
   "cell_type": "markdown",
   "id": "10aad281",
   "metadata": {},
   "source": [
    "# Set variables "
   ]
  },
  {
   "cell_type": "code",
   "execution_count": null,
   "id": "036c6543",
   "metadata": {},
   "outputs": [],
   "source": [
    "seed_everything()"
   ]
  },
  {
   "cell_type": "code",
   "execution_count": null,
   "id": "335eaf2c",
   "metadata": {},
   "outputs": [],
   "source": [
    "user_split = \"train_test\"\n",
    "prod_embed_name = \"meta_features_512\"\n",
    "user_embed_name = \"user_reviews_features_512\"\n",
    "\n",
    "data_dir = \"data\"\n",
    "product_dir = \"full_data\"\n",
    "embedding_dir = \"embedding\"\n",
    "\n",
    "device = \"cuda\"\n",
    "\n",
    "product_cols = [\"parent_asin\", \"average_rating\", \"rating_number\"]\n",
    "user_cols = [\"user_id\", \"rating_mean\", \"rating_count\", \"helpful_vote_mean\", \"helpful_vote_gte_1\", \"verified_purchase_mean\", \"last_active_in_days_min\",\n",
    "            \"last_active_in_days_max\", \"word_count_mean\"]\n",
    "edge_cols = [\"user_id\", \"parent_asin\", \"rating\"]\n",
    "\n",
    "fill_users = \"zero\""
   ]
  },
  {
   "cell_type": "markdown",
   "id": "4433f934",
   "metadata": {},
   "source": [
    "# Load data"
   ]
  },
  {
   "cell_type": "code",
   "execution_count": null,
   "id": "8e78d280",
   "metadata": {},
   "outputs": [],
   "source": [
    "product_df = pd.read_parquet(f\"{data_dir}/{product_dir}/product_df.parquet\", columns = product_cols)\n",
    "train_user_df = pd.read_parquet(f\"{data_dir}/{user_split}_split/train_agg.parquet\", columns = user_cols)\n",
    "train_user_edges = pd.read_parquet(f\"{data_dir}/{user_split}_split/train.parquet\", columns = edge_cols)\n",
    "\n",
    "if user_split == \"train_test_valid\":\n",
    "    test_user_df = pd.read_parquet(f\"{data_dir}/{user_split}_split/valid_agg.parquet\", columns = user_cols)\n",
    "    test_user_edges = pd.read_parquet(f\"{data_dir}/{user_split}_split/valid.parquet\", columns = edge_cols)\n",
    "else:\n",
    "    test_user_df = pd.read_parquet(f\"{data_dir}/{user_split}_split/test_agg.parquet\", columns = user_cols)\n",
    "    test_user_edges = pd.read_parquet(f\"{data_dir}/{user_split}_split/test.parquet\", columns = edge_cols)\n"
   ]
  },
  {
   "cell_type": "code",
   "execution_count": null,
   "id": "2dc6f785",
   "metadata": {},
   "outputs": [],
   "source": [
    "product_embedding = torch.load(f\"{data_dir}/{embedding_dir}/product/{prod_embed_name}.pt\")\n",
    "train_user_embedding = torch.load(f\"{data_dir}/{embedding_dir}/{user_split}_split/train_{user_embed_name}.pt\")\n",
    "if user_split == \"train_test_valid\":\n",
    "    test_user_embedding = torch.load(f\"{data_dir}/{embedding_dir}/{user_split}_split/valid_{user_embed_name}.pt\")\n",
    "else:\n",
    "    test_user_embedding = torch.load(f\"{data_dir}/{embedding_dir}/{user_split}_split/test_{user_embed_name}.pt\")"
   ]
  },
  {
   "cell_type": "markdown",
   "id": "f1edaced",
   "metadata": {},
   "source": [
    "# Make nodes"
   ]
  },
  {
   "cell_type": "code",
   "execution_count": null,
   "id": "51709e28",
   "metadata": {},
   "outputs": [],
   "source": [
    "# Add the embedding \n",
    "train_user_df[\"embedding\"] = list(train_user_embedding.numpy())\n",
    "test_user_df[\"embedding\"] = list(test_user_embedding.numpy())\n",
    "\n",
    "# Concat user nodes \n",
    "additional_test_users = test_user_df[~test_user_df.user_id.isin(train_user_df.user_id)].copy()\n",
    "\n",
    "## these are users that need to be zero-ed out \n",
    "additional_test_users = test_user_df[~test_user_df.user_id.isin(train_user_df.user_id)].copy()\n",
    "additional_test_users[\"embedding\"] = list(torch.zeros((len(additional_test_users), test_user_embedding.shape[1])).numpy())\n",
    "if fill_users == \"zero\":\n",
    "    additional_test_users.iloc[:, 1:-1] = 0\n",
    "elif fill_users == \"mean\":\n",
    "    additional_test_users.iloc[:, 1:-1] = train_user_df.iloc[:, 1:].mean()\n",
    "\n",
    "# Make super user df\n",
    "user_df = pd.concat([train_user_df, additional_test_users])"
   ]
  },
  {
   "cell_type": "code",
   "execution_count": null,
   "id": "591e1931",
   "metadata": {},
   "outputs": [],
   "source": [
    "# Set up id mapping\n",
    "offset = user_df.user_id.nunique()\n",
    "user_id_to_idx = {unique_id : idx for idx, unique_id in enumerate(user_df.user_id.unique())}\n",
    "prod_id_to_idx = {unique_id : offset + idx for idx, unique_id in enumerate(product_df.parent_asin.unique())}\n",
    "\n",
    "# Add to df\n",
    "product_df[\"prod_idx\"] = product_df.parent_asin.apply(lambda x: prod_id_to_idx[x])\n",
    "train_user_edges[\"user_idx\"] = train_user_edges.user_id.apply(lambda x: user_id_to_idx[x])\n",
    "test_user_edges[\"user_idx\"] = test_user_edges.user_id.apply(lambda x: user_id_to_idx[x])\n",
    "train_user_edges[\"prod_idx\"] = train_user_edges.parent_asin.apply(lambda x: prod_id_to_idx[x])\n",
    "test_user_edges[\"prod_idx\"] = test_user_edges.parent_asin.apply(lambda x: prod_id_to_idx[x])"
   ]
  },
  {
   "cell_type": "code",
   "execution_count": null,
   "id": "f2105813",
   "metadata": {},
   "outputs": [],
   "source": [
    "# Concat product nodes \n",
    "product_nodes = torch.cat([torch.tensor(product_df.drop([\"parent_asin\", \"prod_idx\"], axis = 1).to_numpy()), product_embedding], dim = 1)"
   ]
  },
  {
   "cell_type": "code",
   "execution_count": null,
   "id": "775f57ca",
   "metadata": {},
   "outputs": [],
   "source": [
    "# concat user nodes \n",
    "user_embed = torch.tensor(np.vstack(user_df[\"embedding\"].values))\n",
    "user_info = torch.tensor(user_df.drop([\"user_id\", \"embedding\"], axis = 1).to_numpy())\n",
    "user_nodes = torch.cat([user_info, user_embed], dim = 1)"
   ]
  },
  {
   "cell_type": "code",
   "execution_count": null,
   "id": "5ccf9384",
   "metadata": {},
   "outputs": [],
   "source": [
    "# Create edge list\n",
    "train_edge_index, train_edge_weights = create_edge_lists(train_user_edges)\n",
    "test_edge_index, test_edge_weights = create_edge_lists(train_user_edges)"
   ]
  },
  {
   "cell_type": "markdown",
   "id": "ea9311e4",
   "metadata": {},
   "source": [
    "# Move to GPU "
   ]
  },
  {
   "cell_type": "code",
   "execution_count": null,
   "id": "8118624f",
   "metadata": {},
   "outputs": [],
   "source": [
    "product_nodes = product_nodes.type(torch.float).to(device)\n",
    "user_nodes = user_nodes.type(torch.float).to(device)\n",
    "train_edge_index = train_edge_index.to(device)\n",
    "train_edge_weights = train_edge_weights.to(device)\n",
    "test_edge_index = test_edge_index.to(device)\n",
    "test_edge_weights = test_edge_weights.to(device)"
   ]
  },
  {
   "cell_type": "markdown",
   "id": "c0f10702",
   "metadata": {},
   "source": [
    "# Instantiate the model"
   ]
  },
  {
   "cell_type": "code",
   "execution_count": null,
   "id": "6576d80a",
   "metadata": {},
   "outputs": [],
   "source": [
    "# Set up model features\n",
    "num_users = len(user_df)\n",
    "num_products = len(product_df)\n",
    "user_feature_dim = user_nodes.shape[1]\n",
    "product_feature_dim = product_nodes.shape[1]\n",
    "embedding_dim = 64"
   ]
  },
  {
   "cell_type": "code",
   "execution_count": null,
   "id": "def696ad",
   "metadata": {},
   "outputs": [],
   "source": [
    "# Instantiate the model\n",
    "model = Base_GNN_Model(num_users, num_products, user_feature_dim, product_feature_dim, embedding_dim)"
   ]
  },
  {
   "cell_type": "code",
   "execution_count": null,
   "id": "5010171b",
   "metadata": {},
   "outputs": [],
   "source": [
    "# move the model \n",
    "model.to(device)"
   ]
  },
  {
   "cell_type": "markdown",
   "id": "5f43ded2",
   "metadata": {},
   "source": [
    "# Train the model \n"
   ]
  },
  {
   "cell_type": "code",
   "execution_count": null,
   "id": "1c888e6c",
   "metadata": {},
   "outputs": [],
   "source": [
    "train_losses = train_model_without_test(model, train_edge_index, train_edge_weights, user_nodes, product_nodes, num_epochs = 100)"
   ]
  },
  {
   "cell_type": "code",
   "execution_count": null,
   "id": "e8886b3d",
   "metadata": {},
   "outputs": [],
   "source": [
    "plot_train_val_loss(train_losses)"
   ]
  },
  {
   "cell_type": "markdown",
   "id": "0ac6a6a0",
   "metadata": {},
   "source": [
    "# Final model performance "
   ]
  },
  {
   "cell_type": "code",
   "execution_count": null,
   "id": "6c440476",
   "metadata": {},
   "outputs": [],
   "source": [
    "final_evaluation(model, test_edge_index, test_edge_weights, user_nodes, product_nodes, device)"
   ]
  },
  {
   "cell_type": "markdown",
   "id": "14a3e6d0",
   "metadata": {},
   "source": [
    "# Metrics \n",
    "\n",
    "We have two kinds\n",
    "1. Recall at 10\n",
    "2. NDCG at 10\n",
    "\n",
    "The recall takes about ___ mins and will generally be bad   \n",
    "NDCG is a work in progress so TBC"
   ]
  },
  {
   "cell_type": "code",
   "execution_count": null,
   "id": "3e1e88d8",
   "metadata": {},
   "outputs": [],
   "source": [
    "product_idx_tensor = torch.tensor(list(prod_id_to_idx.values()), dtype=torch.long)"
   ]
  },
  {
   "cell_type": "code",
   "execution_count": null,
   "id": "77bfdc22",
   "metadata": {},
   "outputs": [],
   "source": [
    "# recall \n",
    "# evaluate_recall(model, test_edge_index, 10, 32, user_nodes, product_nodes, product_idx_tensor, device)"
   ]
  },
  {
   "cell_type": "markdown",
   "id": "5452c781",
   "metadata": {},
   "source": [
    "# Show recomendations "
   ]
  },
  {
   "cell_type": "code",
   "execution_count": null,
   "id": "30ceeb8b",
   "metadata": {},
   "outputs": [],
   "source": [
    "title_mapping = pd.read_parquet(f\"{data_dir}/{product_dir}/product_df.parquet\", columns = [\"parent_asin\", \"title\"])\n",
    "prod_idx_to_id = {idx - offset: asin for asin, idx in prod_id_to_idx.items()}"
   ]
  },
  {
   "cell_type": "code",
   "execution_count": null,
   "id": "d4361e15",
   "metadata": {},
   "outputs": [],
   "source": [
    "# The pure random \n",
    "user_id = test_user_df.user_id.sample(1).item()\n",
    "recommended_products, predictions = recommend_products(model, user_id, user_id_to_idx, prod_id_to_idx, user_nodes, product_nodes, \n",
    "                                                       prod_idx_to_id, top_k=10, device = device)\n",
    "pretty_print_recomendations(recommended_products, title_mapping, \"title\")"
   ]
  },
  {
   "cell_type": "code",
   "execution_count": null,
   "id": "37722027",
   "metadata": {},
   "outputs": [],
   "source": [
    "# The user with some data \n",
    "existing_test_users = test_user_df[test_user_df.user_id.isin(train_user_df.user_id)].copy()[[\"user_id\"]]"
   ]
  },
  {
   "cell_type": "code",
   "execution_count": null,
   "id": "bda083de",
   "metadata": {},
   "outputs": [],
   "source": [
    "user_id = existing_test_users.user_id.sample(1).item()\n",
    "recommended_products, predictions = recommend_products(model, user_id, user_id_to_idx, prod_id_to_idx, user_nodes, product_nodes, \n",
    "                                                       prod_idx_to_id, top_k=10, device = device)\n",
    "pretty_print_recomendations(recommended_products, title_mapping, \"title\")"
   ]
  },
  {
   "cell_type": "code",
   "execution_count": null,
   "id": "38f718d9",
   "metadata": {},
   "outputs": [],
   "source": [
    "# The boosted way\n",
    "# This is just to see if existing data (a bit of data leak) can help improve performance \n",
    "boosted_additional_test_users = test_user_df[~test_user_df.user_id.isin(train_user_df.user_id)].copy()\n",
    "boosted_user_df = pd.concat([train_user_df, boosted_additional_test_users])\n",
    "boosted_user_embed = torch.tensor(np.vstack(boosted_user_df[\"embedding\"].values))\n",
    "boosted_user_info = torch.tensor(boosted_user_df.drop([\"user_id\", \"embedding\"], axis = 1).to_numpy())\n",
    "boosted_user_nodes = torch.cat([boosted_user_embed, boosted_user_info], dim = 1)"
   ]
  },
  {
   "cell_type": "code",
   "execution_count": null,
   "id": "2ba63127",
   "metadata": {},
   "outputs": [],
   "source": [
    "user_id = boosted_user_df.user_id.sample(1).item()\n",
    "recommended_products, predictions = recommend_products(model, user_id, user_id_to_idx, prod_id_to_idx, user_nodes, product_nodes, \n",
    "                                                       prod_idx_to_id, top_k=10, device = device)\n",
    "pretty_print_recomendations(recommended_products, title_mapping, \"title\")"
   ]
  }
 ],
 "metadata": {
  "kernelspec": {
   "display_name": "dl_proj",
   "language": "python",
   "name": "python3"
  },
  "language_info": {
   "codemirror_mode": {
    "name": "ipython",
    "version": 3
   },
   "file_extension": ".py",
   "mimetype": "text/x-python",
   "name": "python",
   "nbconvert_exporter": "python",
   "pygments_lexer": "ipython3",
   "version": "3.12.9"
  }
 },
 "nbformat": 4,
 "nbformat_minor": 5
}
