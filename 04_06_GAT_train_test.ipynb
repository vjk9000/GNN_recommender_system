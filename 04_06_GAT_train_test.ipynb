{
  "cells": [
    {
      "cell_type": "code",
      "source": [
        "from google.colab import drive\n",
        "drive.mount('/content/drive/')"
      ],
      "metadata": {
        "colab": {
          "base_uri": "https://localhost:8080/"
        },
        "id": "mxAlL1yqVvNr",
        "outputId": "e3afd3a0-26f2-4526-b944-44fe3aa29216"
      },
      "id": "mxAlL1yqVvNr",
      "execution_count": null,
      "outputs": [
        {
          "output_type": "stream",
          "name": "stdout",
          "text": [
            "Mounted at /content/drive/\n"
          ]
        }
      ]
    },
    {
      "cell_type": "code",
      "source": [
        "import os\n",
        "\n",
        "folder_path = '/content/drive/My Drive/dl project self/GNN_recommender_system-vik_dev'\n",
        "os.chdir(folder_path)\n",
        "print(f\"Current working directory: {os.getcwd()}\")"
      ],
      "metadata": {
        "colab": {
          "base_uri": "https://localhost:8080/"
        },
        "id": "3xmB3J9HVvLq",
        "outputId": "942b367a-4859-4f94-f761-773e71fa26a1"
      },
      "id": "3xmB3J9HVvLq",
      "execution_count": null,
      "outputs": [
        {
          "output_type": "stream",
          "name": "stdout",
          "text": [
            "Current working directory: /content/drive/My Drive/dl project self/GNN_recommender_system-vik_dev\n"
          ]
        }
      ]
    },
    {
      "cell_type": "code",
      "execution_count": null,
      "id": "faab79af",
      "metadata": {
        "id": "faab79af"
      },
      "outputs": [],
      "source": [
        "%load_ext autoreload\n",
        "%autoreload 2"
      ]
    },
    {
      "cell_type": "markdown",
      "id": "4c135a5c",
      "metadata": {
        "id": "4c135a5c"
      },
      "source": [
        "# Introduction\n",
        "\n",
        "This is a template code with instructions on how to create and use the GNN model.   \n",
        "This notebook skeleton uses train only\n",
        "Straight away use test for the test\n",
        "\n",
        "For code without the instructions, look at `00_06_barebones_train_test.ipynb`  "
      ]
    },
    {
      "cell_type": "markdown",
      "id": "e31bd5b2",
      "metadata": {
        "id": "e31bd5b2"
      },
      "source": [
        "# Imports"
      ]
    },
    {
      "cell_type": "code",
      "source": [
        "!pip install torch_geometric"
      ],
      "metadata": {
        "colab": {
          "base_uri": "https://localhost:8080/"
        },
        "id": "rWNxL8KGV_sc",
        "outputId": "8fc880fe-f4da-4108-c79b-dd7d5b29f194"
      },
      "id": "rWNxL8KGV_sc",
      "execution_count": null,
      "outputs": [
        {
          "output_type": "stream",
          "name": "stdout",
          "text": [
            "Collecting torch_geometric\n",
            "  Downloading torch_geometric-2.6.1-py3-none-any.whl.metadata (63 kB)\n",
            "\u001b[?25l     \u001b[90m━━━━━━━━━━━━━━━━━━━━━━━━━━━━━━━━━━━━━━━━\u001b[0m \u001b[32m0.0/63.1 kB\u001b[0m \u001b[31m?\u001b[0m eta \u001b[36m-:--:--\u001b[0m\r\u001b[2K     \u001b[90m━━━━━━━━━━━━━━━━━━━━━━━━━━━━━━━━━━━━━━━━\u001b[0m \u001b[32m63.1/63.1 kB\u001b[0m \u001b[31m3.6 MB/s\u001b[0m eta \u001b[36m0:00:00\u001b[0m\n",
            "\u001b[?25hRequirement already satisfied: aiohttp in /usr/local/lib/python3.11/dist-packages (from torch_geometric) (3.11.15)\n",
            "Requirement already satisfied: fsspec in /usr/local/lib/python3.11/dist-packages (from torch_geometric) (2025.3.2)\n",
            "Requirement already satisfied: jinja2 in /usr/local/lib/python3.11/dist-packages (from torch_geometric) (3.1.6)\n",
            "Requirement already satisfied: numpy in /usr/local/lib/python3.11/dist-packages (from torch_geometric) (2.0.2)\n",
            "Requirement already satisfied: psutil>=5.8.0 in /usr/local/lib/python3.11/dist-packages (from torch_geometric) (5.9.5)\n",
            "Requirement already satisfied: pyparsing in /usr/local/lib/python3.11/dist-packages (from torch_geometric) (3.2.3)\n",
            "Requirement already satisfied: requests in /usr/local/lib/python3.11/dist-packages (from torch_geometric) (2.32.3)\n",
            "Requirement already satisfied: tqdm in /usr/local/lib/python3.11/dist-packages (from torch_geometric) (4.67.1)\n",
            "Requirement already satisfied: aiohappyeyeballs>=2.3.0 in /usr/local/lib/python3.11/dist-packages (from aiohttp->torch_geometric) (2.6.1)\n",
            "Requirement already satisfied: aiosignal>=1.1.2 in /usr/local/lib/python3.11/dist-packages (from aiohttp->torch_geometric) (1.3.2)\n",
            "Requirement already satisfied: attrs>=17.3.0 in /usr/local/lib/python3.11/dist-packages (from aiohttp->torch_geometric) (25.3.0)\n",
            "Requirement already satisfied: frozenlist>=1.1.1 in /usr/local/lib/python3.11/dist-packages (from aiohttp->torch_geometric) (1.6.0)\n",
            "Requirement already satisfied: multidict<7.0,>=4.5 in /usr/local/lib/python3.11/dist-packages (from aiohttp->torch_geometric) (6.4.3)\n",
            "Requirement already satisfied: propcache>=0.2.0 in /usr/local/lib/python3.11/dist-packages (from aiohttp->torch_geometric) (0.3.1)\n",
            "Requirement already satisfied: yarl<2.0,>=1.17.0 in /usr/local/lib/python3.11/dist-packages (from aiohttp->torch_geometric) (1.20.0)\n",
            "Requirement already satisfied: MarkupSafe>=2.0 in /usr/local/lib/python3.11/dist-packages (from jinja2->torch_geometric) (3.0.2)\n",
            "Requirement already satisfied: charset-normalizer<4,>=2 in /usr/local/lib/python3.11/dist-packages (from requests->torch_geometric) (3.4.1)\n",
            "Requirement already satisfied: idna<4,>=2.5 in /usr/local/lib/python3.11/dist-packages (from requests->torch_geometric) (3.10)\n",
            "Requirement already satisfied: urllib3<3,>=1.21.1 in /usr/local/lib/python3.11/dist-packages (from requests->torch_geometric) (2.3.0)\n",
            "Requirement already satisfied: certifi>=2017.4.17 in /usr/local/lib/python3.11/dist-packages (from requests->torch_geometric) (2025.1.31)\n",
            "Downloading torch_geometric-2.6.1-py3-none-any.whl (1.1 MB)\n",
            "\u001b[2K   \u001b[90m━━━━━━━━━━━━━━━━━━━━━━━━━━━━━━━━━━━━━━━━\u001b[0m \u001b[32m1.1/1.1 MB\u001b[0m \u001b[31m36.9 MB/s\u001b[0m eta \u001b[36m0:00:00\u001b[0m\n",
            "\u001b[?25hInstalling collected packages: torch_geometric\n",
            "Successfully installed torch_geometric-2.6.1\n"
          ]
        }
      ]
    },
    {
      "cell_type": "code",
      "execution_count": null,
      "id": "6962fb86",
      "metadata": {
        "id": "6962fb86"
      },
      "outputs": [],
      "source": [
        "import pandas as pd\n",
        "import numpy as np\n",
        "import torch\n",
        "\n",
        "from utils.setup_nodes import create_edge_lists\n",
        "from utils.graph_helpers import train_model_without_test, plot_train_val_loss, final_evaluation\n",
        "from utils.graph_model import GAT_model, GATv2_model\n",
        "from utils.general import seed_everything\n",
        "from utils.predictions import recommend_products, pretty_print_recomendations, evaluate_recall, get_top_k_preds"
      ]
    },
    {
      "cell_type": "markdown",
      "id": "84f3eb4e",
      "metadata": {
        "id": "84f3eb4e"
      },
      "source": [
        "# Set seed"
      ]
    },
    {
      "cell_type": "code",
      "execution_count": null,
      "id": "036c6543",
      "metadata": {
        "id": "036c6543"
      },
      "outputs": [],
      "source": [
        "seed_everything()"
      ]
    },
    {
      "cell_type": "markdown",
      "id": "10aad281",
      "metadata": {
        "id": "10aad281"
      },
      "source": [
        "# Set variables\n",
        "\n",
        "1. `user_split` is either `train_test_valid` or `train_test`\n",
        "2. `prod_embed_name` is the name of the embeddings to be used for product\n",
        "3. `user_embed_name` is the name of the embeddings to be used for user (note the files will be preprended with train/test/split)\n",
        "4. `*_dir` is the respective file paths\n",
        "5. `device` cuda or cpu depending on your machine\n",
        "6. `*_cols` the cols to load from the dataframes (change if you need to change the features)\n",
        "7. `fill_users` the method to fill up the new user data (zero or mean)"
      ]
    },
    {
      "cell_type": "code",
      "execution_count": null,
      "id": "335eaf2c",
      "metadata": {
        "id": "335eaf2c"
      },
      "outputs": [],
      "source": [
        "user_split = \"train_test\"\n",
        "prod_embed_name = \"meta_features_512\"\n",
        "user_embed_name = \"user_reviews_features_512\"\n",
        "\n",
        "data_dir = \"data\"\n",
        "product_dir = \"full_data\"\n",
        "embedding_dir = \"embedding\"\n",
        "\n",
        "device = \"cuda\"\n",
        "\n",
        "product_cols = [\"parent_asin\", \"average_rating\", \"rating_number\"]\n",
        "user_cols = [\"user_id\", \"rating_mean\", \"rating_count\", \"helpful_vote_mean\", \"helpful_vote_gte_1\", \"verified_purchase_mean\", \"last_active_in_days_min\",\n",
        "            \"last_active_in_days_max\", \"word_count_mean\"]\n",
        "edge_cols = [\"user_id\", \"parent_asin\", \"rating\"]\n",
        "\n",
        "fill_users = \"zero\""
      ]
    },
    {
      "cell_type": "markdown",
      "id": "4433f934",
      "metadata": {
        "id": "4433f934"
      },
      "source": [
        "# Load data\n",
        "\n",
        "Take special attention to what is being loaded as a the test set.  \n",
        "Remember if you want test data, set the value of `user_split` to `train_test` in the previous cell\n",
        "\n",
        "Also, I am limiting the number of columns being read in. So edit accordingly to what colum values are needed for the current set up\n",
        "\n",
        "If there is more than 1 tensor for the embedding, sugesstion is to do a torch.cat into a single longer tensor first and then carry it on to the next step. So load under different name then join it back to as product_emebdding, train_user_embedding and test_user_embedding"
      ]
    },
    {
      "cell_type": "code",
      "execution_count": null,
      "id": "8e78d280",
      "metadata": {
        "id": "8e78d280"
      },
      "outputs": [],
      "source": [
        "product_df = pd.read_parquet(f\"{data_dir}/{product_dir}/product_df.parquet\", columns = product_cols)\n",
        "train_user_df = pd.read_parquet(f\"{data_dir}/{user_split}_split/train_agg.parquet\", columns = user_cols)\n",
        "train_user_edges = pd.read_parquet(f\"{data_dir}/{user_split}_split/train.parquet\", columns = edge_cols)\n",
        "\n",
        "if user_split == \"train_test_valid\":\n",
        "    test_user_df = pd.read_parquet(f\"{data_dir}/{user_split}_split/valid_agg.parquet\", columns = user_cols)\n",
        "    test_user_edges = pd.read_parquet(f\"{data_dir}/{user_split}_split/valid.parquet\", columns = edge_cols)\n",
        "else:\n",
        "    test_user_df = pd.read_parquet(f\"{data_dir}/{user_split}_split/test_agg.parquet\", columns = user_cols)\n",
        "    test_user_edges = pd.read_parquet(f\"{data_dir}/{user_split}_split/test.parquet\", columns = edge_cols)\n"
      ]
    },
    {
      "cell_type": "code",
      "execution_count": null,
      "id": "2dc6f785",
      "metadata": {
        "id": "2dc6f785"
      },
      "outputs": [],
      "source": [
        "product_embedding = torch.load(f\"{data_dir}/{embedding_dir}/product/{prod_embed_name}.pt\")\n",
        "train_user_embedding = torch.load(f\"{data_dir}/{embedding_dir}/{user_split}_split/train_{user_embed_name}.pt\")\n",
        "if user_split == \"train_test_valid\":\n",
        "    test_user_embedding = torch.load(f\"{data_dir}/{embedding_dir}/{user_split}_split/valid_{user_embed_name}.pt\")\n",
        "else:\n",
        "    test_user_embedding = torch.load(f\"{data_dir}/{embedding_dir}/{user_split}_split/test_{user_embed_name}.pt\")"
      ]
    },
    {
      "cell_type": "markdown",
      "id": "f1edaced",
      "metadata": {
        "id": "f1edaced"
      },
      "source": [
        "# Make nodes\n",
        "\n",
        "We need to do a few things\n",
        "1. Make a super user df - so that all the nodes are inside the graph and the idx would be correct later\n",
        "2. Set up an index mapping from ids to idx (note that the product index need to be offeset)\n",
        "3. Concat information to form the product nodes\n",
        "4. Concat information to form the user nodes - only for the train users, test users need to init as something if they dont exist in train (maybe zero or mean)\n",
        "5. Create edge list for train and test (using the idx)\n",
        "\n",
        "For product nodes, we assume the df has information, less the ids. If there is no information, then change the creation accordingly  \n",
        "\n",
        "For the user nodes, for users in test but not in train, the current method is to user zero.  \n",
        "There is also a flag to fill with mean instead"
      ]
    },
    {
      "cell_type": "code",
      "execution_count": null,
      "id": "51709e28",
      "metadata": {
        "id": "51709e28"
      },
      "outputs": [],
      "source": [
        "# Add the embedding\n",
        "train_user_df[\"embedding\"] = list(train_user_embedding.numpy())\n",
        "test_user_df[\"embedding\"] = list(test_user_embedding.numpy())\n",
        "\n",
        "# Concat user nodes\n",
        "additional_test_users = test_user_df[~test_user_df.user_id.isin(train_user_df.user_id)].copy()\n",
        "\n",
        "## these are users that need to be zero-ed out\n",
        "additional_test_users = test_user_df[~test_user_df.user_id.isin(train_user_df.user_id)].copy()\n",
        "additional_test_users[\"embedding\"] = list(torch.zeros((len(additional_test_users), test_user_embedding.shape[1])).numpy())\n",
        "if fill_users == \"zero\":\n",
        "    additional_test_users.iloc[:, 1:-1] = 0\n",
        "elif fill_users == \"mean\":\n",
        "    additional_test_users.iloc[:, 1:-1] = train_user_df.iloc[:, 1:].mean()\n",
        "\n",
        "# Make super user df\n",
        "user_df = pd.concat([train_user_df, additional_test_users])"
      ]
    },
    {
      "cell_type": "code",
      "execution_count": null,
      "id": "591e1931",
      "metadata": {
        "id": "591e1931"
      },
      "outputs": [],
      "source": [
        "# Set up id mapping\n",
        "offset = user_df.user_id.nunique()\n",
        "user_id_to_idx = {unique_id : idx for idx, unique_id in enumerate(user_df.user_id.unique())}\n",
        "prod_id_to_idx = {unique_id : offset + idx for idx, unique_id in enumerate(product_df.parent_asin.unique())}\n",
        "\n",
        "# Add to df\n",
        "product_df[\"prod_idx\"] = product_df.parent_asin.apply(lambda x: prod_id_to_idx[x])\n",
        "train_user_edges[\"user_idx\"] = train_user_edges.user_id.apply(lambda x: user_id_to_idx[x])\n",
        "test_user_edges[\"user_idx\"] = test_user_edges.user_id.apply(lambda x: user_id_to_idx[x])\n",
        "train_user_edges[\"prod_idx\"] = train_user_edges.parent_asin.apply(lambda x: prod_id_to_idx[x])\n",
        "test_user_edges[\"prod_idx\"] = test_user_edges.parent_asin.apply(lambda x: prod_id_to_idx[x])"
      ]
    },
    {
      "cell_type": "code",
      "execution_count": null,
      "id": "f2105813",
      "metadata": {
        "id": "f2105813"
      },
      "outputs": [],
      "source": [
        "# Concat product nodes\n",
        "product_nodes = torch.cat([torch.tensor(product_df.drop([\"parent_asin\", \"prod_idx\"], axis = 1).to_numpy()), product_embedding], dim = 1)"
      ]
    },
    {
      "cell_type": "code",
      "execution_count": null,
      "id": "775f57ca",
      "metadata": {
        "id": "775f57ca"
      },
      "outputs": [],
      "source": [
        "# concat user nodes\n",
        "user_embed = torch.tensor(np.vstack(user_df[\"embedding\"].values))\n",
        "user_info = torch.tensor(user_df.drop([\"user_id\", \"embedding\"], axis = 1).to_numpy())\n",
        "user_nodes = torch.cat([user_info, user_embed], dim = 1)"
      ]
    },
    {
      "cell_type": "code",
      "execution_count": null,
      "id": "5ccf9384",
      "metadata": {
        "id": "5ccf9384"
      },
      "outputs": [],
      "source": [
        "# Create edge list\n",
        "train_edge_index, train_edge_weights = create_edge_lists(train_user_edges)\n",
        "test_edge_index, test_edge_weights = create_edge_lists(train_user_edges)"
      ]
    },
    {
      "cell_type": "markdown",
      "id": "ea9311e4",
      "metadata": {
        "id": "ea9311e4"
      },
      "source": [
        "# Move to GPU\n",
        "\n",
        "This is placed here for clarity"
      ]
    },
    {
      "cell_type": "code",
      "execution_count": null,
      "id": "8118624f",
      "metadata": {
        "id": "8118624f"
      },
      "outputs": [],
      "source": [
        "product_nodes = product_nodes.type(torch.float).to(device)\n",
        "user_nodes = user_nodes.type(torch.float).to(device)\n",
        "train_edge_index = train_edge_index.to(device)\n",
        "train_edge_weights = train_edge_weights.to(device)\n",
        "test_edge_index = test_edge_index.to(device)\n",
        "test_edge_weights = test_edge_weights.to(device)"
      ]
    },
    {
      "cell_type": "markdown",
      "id": "c0f10702",
      "metadata": {
        "id": "c0f10702"
      },
      "source": [
        "# Instantiate the model\n",
        "\n",
        "Whatever the model is decided, create it here  \n",
        "ideally assign it to model so easier for the overall run  \n",
        "\n",
        "The model when instantiating will take in the following variables (based on the default architecture that we are doing)\n",
        "1. number of users - create extra embeddings for each user\n",
        "2. number of products - create extra embedding for each product\n",
        "3. user feature dimensions - size of self created information for users\n",
        "4. product feature dimensions - size of self created information for products\n",
        "5. embedding dim - what size the features reduce to (for default base model, this was the same for every place)\n",
        "\n",
        "If you make any changes, feel free to edit accordingly\n",
        "\n",
        "Finally don't forget to move the model to gpu"
      ]
    },
    {
      "cell_type": "code",
      "execution_count": null,
      "id": "6576d80a",
      "metadata": {
        "id": "6576d80a"
      },
      "outputs": [],
      "source": [
        "# Set up model features\n",
        "num_users = len(user_df)\n",
        "num_products = len(product_df)\n",
        "user_feature_dim = user_nodes.shape[1]\n",
        "product_feature_dim = product_nodes.shape[1]"
      ]
    },
    {
      "cell_type": "markdown",
      "source": [
        "## Best GAT params"
      ],
      "metadata": {
        "id": "J3SnJtYIdWpc"
      },
      "id": "J3SnJtYIdWpc"
    },
    {
      "cell_type": "code",
      "execution_count": null,
      "id": "def696ad",
      "metadata": {
        "id": "def696ad"
      },
      "outputs": [],
      "source": [
        "# Instantiate the model\n",
        "model = GAT_model(num_users, num_products, user_feature_dim, product_feature_dim,\n",
        "                  hidden_dim=64, dropout_prob=0.1)"
      ]
    },
    {
      "cell_type": "code",
      "execution_count": null,
      "id": "5010171b",
      "metadata": {
        "id": "5010171b",
        "colab": {
          "base_uri": "https://localhost:8080/"
        },
        "outputId": "6309d61e-7189-4939-d69c-7881aaa90b50"
      },
      "outputs": [
        {
          "output_type": "execute_result",
          "data": {
            "text/plain": [
              "GAT_model(\n",
              "  (user_feature_transform): Linear(in_features=776, out_features=64, bias=True)\n",
              "  (product_feature_transform): Linear(in_features=770, out_features=64, bias=True)\n",
              "  (conv1): GATConv(64, 64, heads=1)\n",
              "  (conv2): GCNConv(64, 64)\n",
              "  (predictor): Sequential(\n",
              "    (0): Linear(in_features=64, out_features=64, bias=True)\n",
              "    (1): ReLU()\n",
              "    (2): Linear(in_features=64, out_features=1, bias=True)\n",
              "  )\n",
              ")"
            ]
          },
          "metadata": {},
          "execution_count": 19
        }
      ],
      "source": [
        "# move the model\n",
        "model.to(device)"
      ]
    },
    {
      "cell_type": "markdown",
      "source": [
        "## Best GATv2 params"
      ],
      "metadata": {
        "id": "GmaRA6H2dUiz"
      },
      "id": "GmaRA6H2dUiz"
    },
    {
      "cell_type": "code",
      "source": [
        "model_GATv2 = GATv2_model(num_users, num_products, user_feature_dim, product_feature_dim,\n",
        "                  hidden_dim=100, dropout_prob=0.1, heads=2)"
      ],
      "metadata": {
        "id": "dsVY-xU5c4cf"
      },
      "id": "dsVY-xU5c4cf",
      "execution_count": null,
      "outputs": []
    },
    {
      "cell_type": "code",
      "source": [
        "# move the model\n",
        "model_GATv2.to(device)"
      ],
      "metadata": {
        "colab": {
          "base_uri": "https://localhost:8080/"
        },
        "id": "PlAH5ITZc4XA",
        "outputId": "3754b066-0f48-4831-f167-133b322ef1ca"
      },
      "id": "PlAH5ITZc4XA",
      "execution_count": null,
      "outputs": [
        {
          "output_type": "execute_result",
          "data": {
            "text/plain": [
              "GATv2_model(\n",
              "  (user_feature_transform): Linear(in_features=776, out_features=128, bias=True)\n",
              "  (product_feature_transform): Linear(in_features=770, out_features=128, bias=True)\n",
              "  (conv1): GATv2Conv(128, 128, heads=2)\n",
              "  (conv2): GATv2Conv(128, 128, heads=2)\n",
              "  (predictor): Sequential(\n",
              "    (0): Linear(in_features=128, out_features=128, bias=True)\n",
              "    (1): ReLU()\n",
              "    (2): Linear(in_features=128, out_features=1, bias=True)\n",
              "  )\n",
              ")"
            ]
          },
          "metadata": {},
          "execution_count": 22
        }
      ]
    },
    {
      "cell_type": "markdown",
      "id": "5f43ded2",
      "metadata": {
        "id": "5f43ded2"
      },
      "source": [
        "# Train the model\n",
        "\n",
        "Pass the model, data and all into a loop and let it train"
      ]
    },
    {
      "cell_type": "markdown",
      "source": [
        "## Best GAT model"
      ],
      "metadata": {
        "id": "rs4WM57LdNsV"
      },
      "id": "rs4WM57LdNsV"
    },
    {
      "cell_type": "code",
      "source": [
        "train_losses = train_model_without_test(model, train_edge_index, train_edge_weights, user_nodes, product_nodes,lr=0.01, num_epochs = 2000)"
      ],
      "metadata": {
        "id": "YAgt2xWZGPMy"
      },
      "id": "YAgt2xWZGPMy",
      "execution_count": null,
      "outputs": []
    },
    {
      "cell_type": "code",
      "execution_count": null,
      "id": "e8886b3d",
      "metadata": {
        "id": "e8886b3d",
        "colab": {
          "base_uri": "https://localhost:8080/",
          "height": 364
        },
        "outputId": "b440a53b-94bf-4f50-aac8-40f752a9131e"
      },
      "outputs": [
        {
          "output_type": "display_data",
          "data": {
            "text/plain": [
              "<Figure size 650x340 with 1 Axes>"
            ],
            "image/png": "[encoded data removed]"
          },
          "metadata": {}
        }
      ],
      "source": [
        "plot_train_val_loss(train_losses)"
      ]
    },
    {
      "cell_type": "markdown",
      "source": [
        "## Best GATv2 model"
      ],
      "metadata": {
        "id": "z4pIqvjgdLNC"
      },
      "id": "z4pIqvjgdLNC"
    },
    {
      "cell_type": "code",
      "source": [
        "train_losses_GATv2 = train_model_without_test(model_GATv2, train_edge_index, train_edge_weights, user_nodes, product_nodes,lr=0.001, num_epochs = 2000)"
      ],
      "metadata": {
        "id": "t38NRNivdLBZ"
      },
      "id": "t38NRNivdLBZ",
      "execution_count": null,
      "outputs": []
    },
    {
      "cell_type": "code",
      "source": [
        "plot_train_val_loss(train_losses_GATv2)"
      ],
      "metadata": {
        "colab": {
          "base_uri": "https://localhost:8080/",
          "height": 364
        },
        "id": "ix3OXhqDdK5e",
        "outputId": "99394400-e124-43d6-864f-72b71cc93adc"
      },
      "id": "ix3OXhqDdK5e",
      "execution_count": null,
      "outputs": [
        {
          "output_type": "display_data",
          "data": {
            "text/plain": [
              "<Figure size 650x340 with 1 Axes>"
            ],
            "image/png": "[encoded data removed]"
          },
          "metadata": {}
        }
      ]
    },
    {
      "cell_type": "markdown",
      "id": "0ac6a6a0",
      "metadata": {
        "id": "0ac6a6a0"
      },
      "source": [
        "# Final model performance\n",
        "\n",
        "This is simply to load the best model during training and to print that loss  \n",
        "Has no other purpose"
      ]
    },
    {
      "cell_type": "markdown",
      "source": [
        "GAT"
      ],
      "metadata": {
        "id": "ldzGYqMdfcOm"
      },
      "id": "ldzGYqMdfcOm"
    },
    {
      "cell_type": "code",
      "source": [
        "final_evaluation(model, test_edge_index, test_edge_weights, user_nodes, product_nodes, device=device)"
      ],
      "metadata": {
        "colab": {
          "base_uri": "https://localhost:8080/"
        },
        "id": "fwN2ouoEx34r",
        "outputId": "3b7c7c53-cf66-40d0-e31b-ca120db5ae87"
      },
      "id": "fwN2ouoEx34r",
      "execution_count": 2,
      "outputs": [
        {
          "output_type": "stream",
          "name": "stdout",
          "text": [
            "{'Test loss': 0.0871168154478073}\n"
          ]
        }
      ]
    },
    {
      "cell_type": "markdown",
      "source": [
        "GATv2"
      ],
      "metadata": {
        "id": "Treg6zlCfdJ-"
      },
      "id": "Treg6zlCfdJ-"
    },
    {
      "cell_type": "code",
      "source": [
        "final_evaluation(model_GATv2, test_edge_index, test_edge_weights, user_nodes, product_nodes, device=device)"
      ],
      "metadata": {
        "colab": {
          "base_uri": "https://localhost:8080/"
        },
        "id": "KsyVh4gBhSxW",
        "outputId": "5ff4eb86-1d56-4171-b4b1-0d160465da71"
      },
      "id": "KsyVh4gBhSxW",
      "execution_count": 5,
      "outputs": [
        {
          "output_type": "stream",
          "name": "stdout",
          "text": [
            "{'Test loss': 0.0783832527399063}\n"
          ]
        }
      ]
    },
    {
      "cell_type": "markdown",
      "id": "14a3e6d0",
      "metadata": {
        "id": "14a3e6d0"
      },
      "source": [
        "# Metrics\n",
        "\n",
        "We have two kinds\n",
        "1. Recall at 10\n",
        "2. NDCG at 10\n",
        "\n",
        "The recall takes about ___ mins and will generally be bad   \n",
        "NDCG is a work in progress so TBC"
      ]
    },
    {
      "cell_type": "code",
      "execution_count": null,
      "id": "3e1e88d8",
      "metadata": {
        "id": "3e1e88d8"
      },
      "outputs": [],
      "source": [
        "product_idx_tensor = torch.tensor(list(prod_id_to_idx.values()), dtype=torch.long, device = device)\n",
        "test_edges_grp = test_user_edges.groupby(\"user_idx\").prod_idx.apply(list).reset_index()\n",
        "test_edges_users = test_edges_grp.user_idx.to_list()"
      ]
    },
    {
      "cell_type": "markdown",
      "source": [
        "GAT"
      ],
      "metadata": {
        "id": "q8dyHg_Pfn0C"
      },
      "id": "q8dyHg_Pfn0C"
    },
    {
      "cell_type": "code",
      "execution_count": null,
      "id": "77bfdc22",
      "metadata": {
        "id": "77bfdc22"
      },
      "outputs": [],
      "source": [
        "predictions = get_top_k_preds(model, test_edges_users, 10, 32, user_nodes, product_nodes, product_idx_tensor, device) # about 5 min to run\n",
        "test_edges_grp[\"prediction\"] = list(torch.vstack(predictions).cpu().numpy())\n",
        "test_edges_grp[\"match_count\"] = test_edges_grp.apply(lambda x: len(set(x.prod_idx).intersection(set(x.prediction))), axis = 1)"
      ]
    },
    {
      "cell_type": "code",
      "execution_count": null,
      "id": "75e7e57a",
      "metadata": {
        "id": "75e7e57a",
        "colab": {
          "base_uri": "https://localhost:8080/"
        },
        "outputId": "dff75f79-1521-419d-ff75-106c01dac074"
      },
      "outputs": [
        {
          "output_type": "execute_result",
          "data": {
            "text/plain": [
              "np.float64(0.0)"
            ]
          },
          "metadata": {},
          "execution_count": 47
        }
      ],
      "source": [
        "# Overall recall\n",
        "(test_edges_grp[\"match_count\"] / test_edges_grp.prod_idx.apply(len)).mean()"
      ]
    },
    {
      "cell_type": "code",
      "execution_count": null,
      "id": "269b56f3",
      "metadata": {
        "id": "269b56f3",
        "colab": {
          "base_uri": "https://localhost:8080/"
        },
        "outputId": "b3030134-1607-4aaa-dc66-ab0a25fec274"
      },
      "outputs": [
        {
          "output_type": "execute_result",
          "data": {
            "text/plain": [
              "np.float64(0.0)"
            ]
          },
          "metadata": {},
          "execution_count": 48
        }
      ],
      "source": [
        "# Only those with prior history\n",
        "existing_test_edges_grp = test_edges_grp[test_edges_grp.user_idx.isin(train_user_df.user_id.apply(lambda x: user_id_to_idx[x]))]\n",
        "(existing_test_edges_grp[\"match_count\"] / existing_test_edges_grp.prod_idx.apply(len)).mean()"
      ]
    },
    {
      "cell_type": "markdown",
      "source": [
        "GATv2"
      ],
      "metadata": {
        "id": "ZaZDEtcLfooj"
      },
      "id": "ZaZDEtcLfooj"
    },
    {
      "cell_type": "code",
      "source": [
        "predictions = get_top_k_preds(model_GATv2, test_edges_users, 10, 32, user_nodes, product_nodes, product_idx_tensor, device) # about 5 min to run\n",
        "test_edges_grp[\"prediction\"] = list(torch.vstack(predictions).cpu().numpy())\n",
        "test_edges_grp[\"match_count\"] = test_edges_grp.apply(lambda x: len(set(x.prod_idx).intersection(set(x.prediction))), axis = 1)"
      ],
      "metadata": {
        "id": "stFq_A1szC2w"
      },
      "id": "stFq_A1szC2w",
      "execution_count": null,
      "outputs": []
    },
    {
      "cell_type": "code",
      "source": [
        "# Overall recall\n",
        "(test_edges_grp[\"match_count\"] / test_edges_grp.prod_idx.apply(len)).mean()"
      ],
      "metadata": {
        "colab": {
          "base_uri": "https://localhost:8080/"
        },
        "id": "P4dQx7HezCyH",
        "outputId": "4c286713-6b43-46ba-94fe-1ce05fdfa734"
      },
      "id": "P4dQx7HezCyH",
      "execution_count": null,
      "outputs": [
        {
          "output_type": "stream",
          "name": "stdout",
          "text": [
            "np.float64(0.0)\n"
          ]
        }
      ]
    },
    {
      "cell_type": "code",
      "source": [
        "# Only those with prior history\n",
        "existing_test_edges_grp = test_edges_grp[test_edges_grp.user_idx.isin(train_user_df.user_id.apply(lambda x: user_id_to_idx[x]))]\n",
        "(existing_test_edges_grp[\"match_count\"] / existing_test_edges_grp.prod_idx.apply(len)).mean()"
      ],
      "metadata": {
        "colab": {
          "base_uri": "https://localhost:8080/"
        },
        "id": "SqgIvb1wzCry",
        "outputId": "cf684a7b-81f5-40a5-c845-30b5c57fe2bc"
      },
      "id": "SqgIvb1wzCry",
      "execution_count": null,
      "outputs": [
        {
          "output_type": "stream",
          "name": "stdout",
          "text": [
            "np.float64(0.0)\n"
          ]
        }
      ]
    },
    {
      "cell_type": "markdown",
      "id": "5452c781",
      "metadata": {
        "id": "5452c781"
      },
      "source": [
        "# Show recomendations\n",
        "\n",
        "This is just to sample and see what kind of results we get   \n",
        "I am going to do three kinds of sampling\n",
        "1. Pure random of the test set\n",
        "2. Select test set that have some existance in the training set\n",
        "3. Take the test set that dont have existance in the training set but use their user node information\n",
        "\n",
        "\n",
        "But first we need to create a reverse mapping that does the offset\n",
        "Also need to load up a df to map ids to titles"
      ]
    },
    {
      "cell_type": "markdown",
      "source": [
        "GAT"
      ],
      "metadata": {
        "id": "4b3HcAh1fzF-"
      },
      "id": "4b3HcAh1fzF-"
    },
    {
      "cell_type": "code",
      "execution_count": null,
      "id": "30ceeb8b",
      "metadata": {
        "id": "30ceeb8b"
      },
      "outputs": [],
      "source": [
        "title_mapping = pd.read_parquet(f\"{data_dir}/{product_dir}/product_df.parquet\", columns = [\"parent_asin\", \"title\"])\n",
        "prod_idx_to_id = {idx - offset: asin for asin, idx in prod_id_to_idx.items()}"
      ]
    },
    {
      "cell_type": "code",
      "execution_count": null,
      "id": "d4361e15",
      "metadata": {
        "id": "d4361e15",
        "outputId": "850a92a0-cdf3-4575-f16d-4e021585188a",
        "colab": {
          "base_uri": "https://localhost:8080/"
        }
      },
      "outputs": [
        {
          "output_type": "stream",
          "name": "stdout",
          "text": [
            "Product 1: 50 Pieces False Eyelash Packaging Box Empty Eyelash Box Plastic Eyelash Storage Case with Glitter Paper and Clear Tray for Women Girls Eyelash (Holographic)\n",
            "Product 2: Stain Bonnet For Baby Bonnet Silk Sleep Cap For Toddler Child Shower Cap Teens Kids\n",
            "Product 3: Precision Plunger Bars for Cartridge Grips – 93mm – Bag of 10 Plungers\n",
            "Product 4: Lurrose 100Pcs Full Cover Fake Toenails Artificial Transparent Nail Tips Nail Art for DIY\n",
            "Product 5: Yes to Tomatoes Detoxifying Charcoal Cleanser (Pack of 2) with Charcoal Powder, Tomato Fruit Extract, and Gingko Biloba Leaf Extract, 5 fl. oz.\n",
            "Product 6: Howard LC0008 Leather Conditioner, 8-Ounce (4-Pack)\n",
            "Product 7: Eye Patch Black Adult with Tie Band (6 Per Pack)\n",
            "Product 8: Tattoo Eyebrow Stickers, Waterproof Eyebrow, 4D Imitation Eyebrow Tattoos, 4D Hair-like Authentic Eyebrows Waterproof Long Lasting for Woman & Man Makeup Tool\n",
            "Product 9: Gold extatic Musk EDT 90ml\n",
            "Product 10: 4 Pieces Satin Bonnet Adjustable Sleep Cap Double Layer Printed Hair Bonnet Large Reversible Sleeping Silk Night Hair Cap for Women Natural Curly Hair (Floral, Flamingo, Flower)\n"
          ]
        }
      ],
      "source": [
        "# The pure random\n",
        "user_id = test_user_df.user_id.sample(1).item()\n",
        "recommended_products, predictions = recommend_products(model, user_id, user_id_to_idx, prod_id_to_idx, user_nodes, product_nodes,\n",
        "                                                       prod_idx_to_id, top_k=10, device = device)\n",
        "pretty_print_recomendations(recommended_products, title_mapping, \"title\")"
      ]
    },
    {
      "cell_type": "code",
      "execution_count": null,
      "id": "37722027",
      "metadata": {
        "id": "37722027"
      },
      "outputs": [],
      "source": [
        "# The user with some data\n",
        "existing_test_users = test_user_df[test_user_df.user_id.isin(train_user_df.user_id)].copy()[[\"user_id\"]]"
      ]
    },
    {
      "cell_type": "code",
      "execution_count": null,
      "id": "bda083de",
      "metadata": {
        "id": "bda083de",
        "outputId": "f7c79af2-fcd6-4080-88b0-207a5997dd65",
        "colab": {
          "base_uri": "https://localhost:8080/"
        }
      },
      "outputs": [
        {
          "output_type": "stream",
          "name": "stdout",
          "text": [
            "Product 1: 50 Pieces False Eyelash Packaging Box Empty Eyelash Box Plastic Eyelash Storage Case with Glitter Paper and Clear Tray for Women Girls Eyelash (Holographic)\n",
            "Product 2: Stain Bonnet For Baby Bonnet Silk Sleep Cap For Toddler Child Shower Cap Teens Kids\n",
            "Product 3: Precision Plunger Bars for Cartridge Grips – 93mm – Bag of 10 Plungers\n",
            "Product 4: Lurrose 100Pcs Full Cover Fake Toenails Artificial Transparent Nail Tips Nail Art for DIY\n",
            "Product 5: Yes to Tomatoes Detoxifying Charcoal Cleanser (Pack of 2) with Charcoal Powder, Tomato Fruit Extract, and Gingko Biloba Leaf Extract, 5 fl. oz.\n",
            "Product 6: Howard LC0008 Leather Conditioner, 8-Ounce (4-Pack)\n",
            "Product 7: Eye Patch Black Adult with Tie Band (6 Per Pack)\n",
            "Product 8: Tattoo Eyebrow Stickers, Waterproof Eyebrow, 4D Imitation Eyebrow Tattoos, 4D Hair-like Authentic Eyebrows Waterproof Long Lasting for Woman & Man Makeup Tool\n",
            "Product 9: Gold extatic Musk EDT 90ml\n",
            "Product 10: 4 Pieces Satin Bonnet Adjustable Sleep Cap Double Layer Printed Hair Bonnet Large Reversible Sleeping Silk Night Hair Cap for Women Natural Curly Hair (Floral, Flamingo, Flower)\n"
          ]
        }
      ],
      "source": [
        "user_id = existing_test_users.user_id.sample(1).item()\n",
        "recommended_products, predictions = recommend_products(model, user_id, user_id_to_idx, prod_id_to_idx, user_nodes, product_nodes,\n",
        "                                                       prod_idx_to_id, top_k=10, device = device)\n",
        "pretty_print_recomendations(recommended_products, title_mapping, \"title\")"
      ]
    },
    {
      "cell_type": "code",
      "execution_count": null,
      "id": "38f718d9",
      "metadata": {
        "id": "38f718d9"
      },
      "outputs": [],
      "source": [
        "# The boosted way\n",
        "# This is just to see if existing data (a bit of data leak) can help improve performance\n",
        "boosted_additional_test_users = test_user_df[~test_user_df.user_id.isin(train_user_df.user_id)].copy()\n",
        "boosted_user_df = pd.concat([train_user_df, boosted_additional_test_users])\n",
        "boosted_user_embed = torch.tensor(np.vstack(boosted_user_df[\"embedding\"].values))\n",
        "boosted_user_info = torch.tensor(boosted_user_df.drop([\"user_id\", \"embedding\"], axis = 1).to_numpy())\n",
        "boosted_user_nodes = torch.cat([boosted_user_embed, boosted_user_info], dim = 1)"
      ]
    },
    {
      "cell_type": "code",
      "source": [
        "user_id = boosted_user_df.user_id.sample(1).item()\n",
        "recommended_products, predictions = recommend_products(model, user_id, user_id_to_idx, prod_id_to_idx, user_nodes, product_nodes,\n",
        "                                                       prod_idx_to_id, top_k=10, device = device)\n",
        "pretty_print_recomendations(recommended_products, title_mapping, \"title\")"
      ],
      "metadata": {
        "colab": {
          "base_uri": "https://localhost:8080/"
        },
        "id": "yT_jjbR6ABut",
        "outputId": "40c9fe71-1504-4e5b-c0dc-22b8c72c351c"
      },
      "id": "yT_jjbR6ABut",
      "execution_count": null,
      "outputs": [
        {
          "output_type": "stream",
          "name": "stdout",
          "text": [
            "\n",
            "Product 1: 50 Pieces False Eyelash Packaging Box Empty Eyelash Box Plastic Eyelash Storage Case with Glitter Paper and Clear Tray for Women Girls Eyelash (Holographic)\n",
            "Product 2: Stain Bonnet For Baby Bonnet Silk Sleep Cap For Toddler Child Shower Cap Teens Kids\n",
            "Product 3: Precision Plunger Bars for Cartridge Grips – 93mm – Bag of 10 Plungers\n",
            "Product 4: Lurrose 100Pcs Full Cover Fake Toenails Artificial Transparent Nail Tips Nail Art for DIY\n",
            "Product 5: Yes to Tomatoes Detoxifying Charcoal Cleanser (Pack of 2) with Charcoal Powder, Tomato Fruit Extract, and Gingko Biloba Leaf Extract, 5 fl. oz.\n",
            "Product 6: Howard LC0008 Leather Conditioner, 8-Ounce (4-Pack)\n",
            "Product 7: Eye Patch Black Adult with Tie Band (6 Per Pack)\n",
            "Product 8: Tattoo Eyebrow Stickers, Waterproof Eyebrow, 4D Imitation Eyebrow Tattoos, 4D Hair-like Authentic Eyebrows Waterproof Long Lasting for Woman & Man Makeup Tool\n",
            "Product 9: Gold extatic Musk EDT 90ml\n",
            "Product 10: 4 Pieces Satin Bonnet Adjustable Sleep Cap Double Layer Printed Hair Bonnet Large Reversible Sleeping Silk Night Hair Cap for Women Natural Curly Hair (Floral, Flamingo, Flower)\n",
            "\n"
          ]
        }
      ]
    }
  ],
  "metadata": {
    "kernelspec": {
      "display_name": "Python 3",
      "name": "python3"
    },
    "language_info": {
      "codemirror_mode": {
        "name": "ipython",
        "version": 3
      },
      "file_extension": ".py",
      "mimetype": "text/x-python",
      "name": "python",
      "nbconvert_exporter": "python",
      "pygments_lexer": "ipython3",
      "version": "3.12.9"
    },
    "colab": {
      "provenance": [],
      "gpuType": "T4"
    },
    "accelerator": "GPU"
  },
  "nbformat": 4,
  "nbformat_minor": 5
}