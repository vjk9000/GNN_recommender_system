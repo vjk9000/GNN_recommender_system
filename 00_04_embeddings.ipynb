{
 "cells": [
  {
   "cell_type": "code",
   "execution_count": 1,
   "id": "af234a89",
   "metadata": {},
   "outputs": [
    {
     "name": "stderr",
     "output_type": "stream",
     "text": [
      "/home/viknesh/.venv_ls/dl_proj/lib/python3.12/site-packages/tqdm/auto.py:21: TqdmWarning: IProgress not found. Please update jupyter and ipywidgets. See https://ipywidgets.readthedocs.io/en/stable/user_install.html\n",
      "  from .autonotebook import tqdm as notebook_tqdm\n"
     ]
    }
   ],
   "source": [
    "import pandas as pd\n",
    "import torch\n",
    "from utils.setup_embeddings import custom_BLaIR_text_embedding_model"
   ]
  },
  {
   "cell_type": "code",
   "execution_count": 2,
   "id": "fecd0a26",
   "metadata": {},
   "outputs": [],
   "source": [
    "product_features_string = pd.read_parquet(\"data/cleaned_v2/product_features_string.parquet\", columns = [\"parent_asin\", \"meta\"])\n",
    "user_features_string_agg = pd.read_parquet(\"data/cleaned_v2/user_features_string_agg.parquet\", columns = [\"user_id\", \"reviews\"] )"
   ]
  },
  {
   "cell_type": "code",
   "execution_count": 3,
   "id": "bca7d3d4",
   "metadata": {},
   "outputs": [
    {
     "name": "stderr",
     "output_type": "stream",
     "text": [
      "Some weights of RobertaModel were not initialized from the model checkpoint at custom_blair/massive and are newly initialized: ['pooler.dense.bias', 'pooler.dense.weight']\n",
      "You should probably TRAIN this model on a down-stream task to be able to use it for predictions and inference.\n"
     ]
    }
   ],
   "source": [
    "user_embedding = custom_BLaIR_text_embedding_model(user_features_string_agg[\"reviews\"].to_list(), \"custom_blair/massive\", batch_size = 512, max_length = 512)\n",
    "torch.save(user_embedding, \"data/embeddings_v2/user_agg_reviews_512.pt\")"
   ]
  },
  {
   "cell_type": "code",
   "execution_count": 4,
   "id": "b29536ec",
   "metadata": {},
   "outputs": [
    {
     "name": "stderr",
     "output_type": "stream",
     "text": [
      "Some weights of RobertaModel were not initialized from the model checkpoint at custom_blair/massive and are newly initialized: ['pooler.dense.bias', 'pooler.dense.weight']\n",
      "You should probably TRAIN this model on a down-stream task to be able to use it for predictions and inference.\n"
     ]
    }
   ],
   "source": [
    "prod_embedding = custom_BLaIR_text_embedding_model(product_features_string[\"meta\"].to_list(), \"custom_blair/massive\", batch_size = 512, max_length = 512)\n",
    "torch.save(prod_embedding, \"data/embeddings_v2/product_meta_512.pt\")"
   ]
  }
 ],
 "metadata": {
  "kernelspec": {
   "display_name": "dl_proj",
   "language": "python",
   "name": "python3"
  },
  "language_info": {
   "codemirror_mode": {
    "name": "ipython",
    "version": 3
   },
   "file_extension": ".py",
   "mimetype": "text/x-python",
   "name": "python",
   "nbconvert_exporter": "python",
   "pygments_lexer": "ipython3",
   "version": "3.12.9"
  }
 },
 "nbformat": 4,
 "nbformat_minor": 5
}
