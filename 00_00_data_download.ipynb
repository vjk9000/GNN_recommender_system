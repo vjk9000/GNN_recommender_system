{
 "cells": [
  {
   "cell_type": "markdown",
   "id": "0793c05f",
   "metadata": {},
   "source": [
    "# Introduction \n",
    "\n",
    "This notebook will download the Amazon 2023 dataset"
   ]
  },
  {
   "cell_type": "markdown",
   "id": "11d00c13",
   "metadata": {},
   "source": [
    "# Import"
   ]
  },
  {
   "cell_type": "code",
   "execution_count": 1,
   "id": "ef0100c1",
   "metadata": {},
   "outputs": [],
   "source": [
    "import os\n",
    "from datasets import load_dataset"
   ]
  },
  {
   "cell_type": "markdown",
   "id": "f6b8d195",
   "metadata": {},
   "source": [
    "# Set variables"
   ]
  },
  {
   "cell_type": "code",
   "execution_count": 2,
   "id": "374a293b",
   "metadata": {},
   "outputs": [],
   "source": [
    "data_folder = \"data\""
   ]
  },
  {
   "cell_type": "markdown",
   "id": "28e24447",
   "metadata": {},
   "source": [
    "# Make directory "
   ]
  },
  {
   "cell_type": "code",
   "execution_count": 3,
   "id": "e03768bd",
   "metadata": {},
   "outputs": [],
   "source": [
    "os.makedirs(data_folder, exist_ok=True)"
   ]
  },
  {
   "cell_type": "code",
   "execution_count": 5,
   "id": "06cbfa5d",
   "metadata": {},
   "outputs": [],
   "source": [
    "os.makedirs(f\"{data_folder}/original\")"
   ]
  },
  {
   "cell_type": "markdown",
   "id": "04917a14",
   "metadata": {},
   "source": [
    "# Download data"
   ]
  },
  {
   "cell_type": "code",
   "execution_count": 4,
   "id": "901283e6",
   "metadata": {},
   "outputs": [],
   "source": [
    "reviews_dataset = load_dataset(\"McAuley-Lab/Amazon-Reviews-2023\", \"raw_review_All_Beauty\", trust_remote_code=True)\n",
    "product_dataset = load_dataset(\"McAuley-Lab/Amazon-Reviews-2023\", \"raw_meta_All_Beauty\", split=\"full\", trust_remote_code=True)\n",
    "\n",
    "review_df = reviews_dataset['full'].to_pandas()\n",
    "product_df = product_dataset.to_pandas()"
   ]
  },
  {
   "cell_type": "markdown",
   "id": "4b041e86",
   "metadata": {},
   "source": [
    "# Save data"
   ]
  },
  {
   "cell_type": "code",
   "execution_count": 7,
   "id": "32fa667d",
   "metadata": {},
   "outputs": [],
   "source": [
    "review_df.to_parquet(f\"{data_folder}/original/review_df.parquet\")\n",
    "product_df.to_parquet(f\"{data_folder}/original/product_df.parquet\")"
   ]
  }
 ],
 "metadata": {
  "kernelspec": {
   "display_name": "dl_proj",
   "language": "python",
   "name": "python3"
  },
  "language_info": {
   "codemirror_mode": {
    "name": "ipython",
    "version": 3
   },
   "file_extension": ".py",
   "mimetype": "text/x-python",
   "name": "python",
   "nbconvert_exporter": "python",
   "pygments_lexer": "ipython3",
   "version": "3.12.9"
  }
 },
 "nbformat": 4,
 "nbformat_minor": 5
}
