{
 "cells": [
  {
   "cell_type": "code",
   "execution_count": 58,
   "id": "faab79af",
   "metadata": {},
   "outputs": [
    {
     "name": "stdout",
     "output_type": "stream",
     "text": [
      "The autoreload extension is already loaded. To reload it, use:\n",
      "  %reload_ext autoreload\n"
     ]
    }
   ],
   "source": [
    "%load_ext autoreload\n",
    "%autoreload 2"
   ]
  },
  {
   "cell_type": "markdown",
   "id": "4c135a5c",
   "metadata": {},
   "source": [
    "# Introduction \n",
    "\n",
    "This is the baseline model run on train and validation to give a baseline value to compare against. \n",
    "We use the combined strings column and the default blair model as the embedder. "
   ]
  },
  {
   "cell_type": "markdown",
   "id": "e31bd5b2",
   "metadata": {},
   "source": [
    "# Imports "
   ]
  },
  {
   "cell_type": "code",
   "execution_count": 59,
   "id": "6962fb86",
   "metadata": {},
   "outputs": [],
   "source": [
    "import os\n",
    "import pandas as pd\n",
    "import numpy as np\n",
    "import torch\n",
    "\n",
    "from utils.setup_nodes import create_edge_lists, create_user_df\n",
    "from utils.graph_helpers import train_model, plot_train_val_loss, final_evaluation\n",
    "from utils.graph_model import Base_GNN_Model\n",
    "from utils.general import seed_everything\n",
    "from utils.predictions import recommend_products, pretty_print_recomendations, get_top_k_preds"
   ]
  },
  {
   "cell_type": "markdown",
   "id": "84f3eb4e",
   "metadata": {},
   "source": [
    "# Set seed"
   ]
  },
  {
   "cell_type": "code",
   "execution_count": 60,
   "id": "036c6543",
   "metadata": {},
   "outputs": [],
   "source": [
    "seed_everything()"
   ]
  },
  {
   "cell_type": "markdown",
   "id": "10aad281",
   "metadata": {},
   "source": [
    "# Set variables "
   ]
  },
  {
   "cell_type": "code",
   "execution_count": 61,
   "id": "335eaf2c",
   "metadata": {},
   "outputs": [],
   "source": [
    "user_split = \"train_test_valid\"\n",
    "prod_embed_name = \"meta_features_base\"\n",
    "user_embed_name = \"user_reviews_features_base\"\n",
    "\n",
    "data_dir = \"data\"\n",
    "product_dir = \"full_data\"\n",
    "embedding_dir = \"embedding\"\n",
    "results_folder = \"baseline\"\n",
    "\n",
    "device = \"cuda\"\n",
    "\n",
    "product_cols = [\"parent_asin\", \"average_rating\", \"rating_number\"]\n",
    "user_cols = [\"user_id\", \"rating_mean\", \"rating_count\", \"helpful_vote_mean\", \"helpful_vote_gte_1\", \"verified_purchase_mean\", \"last_active_in_days_min\",\n",
    "            \"last_active_in_days_max\", \"word_count_mean\"]\n",
    "edge_cols = [\"user_id\", \"parent_asin\", \"rating\"]"
   ]
  },
  {
   "cell_type": "markdown",
   "id": "4433f934",
   "metadata": {},
   "source": [
    "# Load data"
   ]
  },
  {
   "cell_type": "code",
   "execution_count": 62,
   "id": "8e78d280",
   "metadata": {},
   "outputs": [],
   "source": [
    "product_df = pd.read_parquet(f\"{data_dir}/{product_dir}/product_df.parquet\", columns = product_cols)\n",
    "train_user_df = pd.read_parquet(f\"{data_dir}/{user_split}_split/train_agg.parquet\", columns = user_cols)\n",
    "train_user_edges = pd.read_parquet(f\"{data_dir}/{user_split}_split/train.parquet\", columns = edge_cols)\n",
    "\n",
    "if user_split == \"train_test_valid\":\n",
    "    test_user_df = pd.read_parquet(f\"{data_dir}/{user_split}_split/valid_agg.parquet\", columns = user_cols)\n",
    "    test_user_edges = pd.read_parquet(f\"{data_dir}/{user_split}_split/valid.parquet\", columns = edge_cols)\n",
    "else:\n",
    "    test_user_df = pd.read_parquet(f\"{data_dir}/{user_split}_split/test_agg.parquet\", columns = user_cols)\n",
    "    test_user_edges = pd.read_parquet(f\"{data_dir}/{user_split}_split/test.parquet\", columns = edge_cols)\n"
   ]
  },
  {
   "cell_type": "code",
   "execution_count": 63,
   "id": "2dc6f785",
   "metadata": {},
   "outputs": [],
   "source": [
    "product_embedding = torch.load(f\"{data_dir}/{embedding_dir}/product/{prod_embed_name}.pt\")\n",
    "train_user_embedding = torch.load(f\"{data_dir}/{embedding_dir}/{user_split}_split/train_{user_embed_name}.pt\")\n",
    "if user_split == \"train_test_valid\":\n",
    "    test_user_embedding = torch.load(f\"{data_dir}/{embedding_dir}/{user_split}_split/valid_{user_embed_name}.pt\")\n",
    "else:\n",
    "    test_user_embedding = torch.load(f\"{data_dir}/{embedding_dir}/{user_split}_split/test_{user_embed_name}.pt\")"
   ]
  },
  {
   "cell_type": "markdown",
   "id": "f1edaced",
   "metadata": {},
   "source": [
    "# Make nodes"
   ]
  },
  {
   "cell_type": "code",
   "execution_count": 64,
   "id": "51709e28",
   "metadata": {},
   "outputs": [],
   "source": [
    "# Add the embedding \n",
    "train_user_df[\"embedding\"] = list(train_user_embedding.numpy())\n",
    "test_user_df[\"embedding\"] = list(test_user_embedding.numpy())\n",
    "\n",
    "# Make super user df\n",
    "user_df = create_user_df(train_user_df, test_user_df)"
   ]
  },
  {
   "cell_type": "code",
   "execution_count": 65,
   "id": "591e1931",
   "metadata": {},
   "outputs": [],
   "source": [
    "# Set up id mapping\n",
    "offset = user_df.user_id.nunique()\n",
    "user_id_to_idx = {unique_id : idx for idx, unique_id in enumerate(user_df.user_id.unique())}\n",
    "prod_id_to_idx = {unique_id : offset + idx for idx, unique_id in enumerate(product_df.parent_asin.unique())}\n",
    "\n",
    "# Add to df\n",
    "product_df[\"prod_idx\"] = product_df.parent_asin.apply(lambda x: prod_id_to_idx[x])\n",
    "train_user_edges[\"user_idx\"] = train_user_edges.user_id.apply(lambda x: user_id_to_idx[x])\n",
    "test_user_edges[\"user_idx\"] = test_user_edges.user_id.apply(lambda x: user_id_to_idx[x])\n",
    "train_user_edges[\"prod_idx\"] = train_user_edges.parent_asin.apply(lambda x: prod_id_to_idx[x])\n",
    "test_user_edges[\"prod_idx\"] = test_user_edges.parent_asin.apply(lambda x: prod_id_to_idx[x])"
   ]
  },
  {
   "cell_type": "code",
   "execution_count": 66,
   "id": "f2105813",
   "metadata": {},
   "outputs": [],
   "source": [
    "# Concat product nodes \n",
    "product_nodes = torch.cat([torch.tensor(product_df.drop([\"parent_asin\", \"prod_idx\"], axis = 1).to_numpy()), product_embedding], dim = 1)"
   ]
  },
  {
   "cell_type": "code",
   "execution_count": 67,
   "id": "775f57ca",
   "metadata": {},
   "outputs": [],
   "source": [
    "# concat user nodes \n",
    "user_embed = torch.tensor(np.vstack(user_df[\"embedding\"].values))\n",
    "user_info = torch.tensor(user_df.drop([\"user_id\", \"embedding\"], axis = 1).to_numpy())\n",
    "user_nodes = torch.cat([user_info, user_embed], dim = 1)"
   ]
  },
  {
   "cell_type": "code",
   "execution_count": 68,
   "id": "5ccf9384",
   "metadata": {},
   "outputs": [],
   "source": [
    "# Create edge list\n",
    "train_edge_index, train_edge_weights = create_edge_lists(train_user_edges)\n",
    "test_edge_index, test_edge_weights = create_edge_lists(train_user_edges)"
   ]
  },
  {
   "cell_type": "markdown",
   "id": "ea9311e4",
   "metadata": {},
   "source": [
    "# Move to GPU "
   ]
  },
  {
   "cell_type": "code",
   "execution_count": 69,
   "id": "8118624f",
   "metadata": {},
   "outputs": [],
   "source": [
    "product_nodes = product_nodes.type(torch.float).to(device)\n",
    "user_nodes = user_nodes.type(torch.float).to(device)\n",
    "train_edge_index = train_edge_index.to(device)\n",
    "train_edge_weights = train_edge_weights.to(device)\n",
    "test_edge_index = test_edge_index.to(device)\n",
    "test_edge_weights = test_edge_weights.to(device)"
   ]
  },
  {
   "cell_type": "markdown",
   "id": "c0f10702",
   "metadata": {},
   "source": [
    "# Instantiate the model"
   ]
  },
  {
   "cell_type": "code",
   "execution_count": 70,
   "id": "6576d80a",
   "metadata": {},
   "outputs": [],
   "source": [
    "# Set up model features\n",
    "num_users = len(user_df)\n",
    "num_products = len(product_df)\n",
    "user_feature_dim = user_nodes.shape[1]\n",
    "product_feature_dim = product_nodes.shape[1]\n",
    "embedding_dim = 64"
   ]
  },
  {
   "cell_type": "code",
   "execution_count": 71,
   "id": "def696ad",
   "metadata": {},
   "outputs": [],
   "source": [
    "# Instantiate the model\n",
    "model = Base_GNN_Model(num_users, num_products, user_feature_dim, product_feature_dim, embedding_dim)"
   ]
  },
  {
   "cell_type": "code",
   "execution_count": 72,
   "id": "5010171b",
   "metadata": {},
   "outputs": [
    {
     "data": {
      "text/plain": [
       "Base_GNN_Model(\n",
       "  (user_embedding): Embedding(383703, 64)\n",
       "  (product_embedding): Embedding(89060, 64)\n",
       "  (user_feature_transform): Linear(in_features=776, out_features=64, bias=True)\n",
       "  (product_feature_transform): Linear(in_features=770, out_features=64, bias=True)\n",
       "  (conv1): GCNConv(64, 64)\n",
       "  (conv2): GCNConv(64, 64)\n",
       "  (predictor): Sequential(\n",
       "    (0): Linear(in_features=128, out_features=64, bias=True)\n",
       "    (1): ReLU()\n",
       "    (2): Linear(in_features=64, out_features=1, bias=True)\n",
       "  )\n",
       ")"
      ]
     },
     "execution_count": 72,
     "metadata": {},
     "output_type": "execute_result"
    }
   ],
   "source": [
    "# move the model \n",
    "model.to(device)"
   ]
  },
  {
   "cell_type": "markdown",
   "id": "5f43ded2",
   "metadata": {},
   "source": [
    "# Train the model "
   ]
  },
  {
   "cell_type": "code",
   "execution_count": 73,
   "id": "623b2e32",
   "metadata": {},
   "outputs": [
    {
     "name": "stdout",
     "output_type": "stream",
     "text": [
      "Epoch: 100, Train Loss: 4.7544, Val Loss: 4.6752, best model epoch: 87\n",
      "Epoch: 200, Train Loss: 4.4551, Val Loss: 4.6062, best model epoch: 193\n",
      "Epoch: 300, Train Loss: 4.7274, Val Loss: 4.0712, best model epoch: 292\n",
      "Epoch: 400, Train Loss: 3.9642, Val Loss: 3.7962, best model epoch: 388\n",
      "Epoch: 500, Train Loss: 3.2847, Val Loss: 3.7623, best model epoch: 492\n",
      "Epoch: 600, Train Loss: 2.7262, Val Loss: 2.4391, best model epoch: 593\n",
      "Epoch: 700, Train Loss: 2.2567, Val Loss: 2.0372, best model epoch: 694\n",
      "Epoch: 800, Train Loss: 2.1882, Val Loss: 1.8052, best model epoch: 753\n",
      "Epoch: 900, Train Loss: 1.9255, Val Loss: 1.5887, best model epoch: 882\n",
      "Epoch: 1000, Train Loss: 1.5171, Val Loss: 1.3512, best model epoch: 1000\n"
     ]
    }
   ],
   "source": [
    "train_loss, test_loss, best_model = train_model(model, train_edge_index, train_edge_weights, test_edge_index, test_edge_weights, \n",
    "                                                 user_nodes, product_nodes, num_epochs = 1000, print_progress=True, print_freq=100)"
   ]
  },
  {
   "cell_type": "code",
   "execution_count": 74,
   "id": "2ed45815",
   "metadata": {},
   "outputs": [
    {
     "data": {
      "image/png": "[encoded data removed]",
      "text/plain": [
       "<Figure size 650x340 with 1 Axes>"
      ]
     },
     "metadata": {},
     "output_type": "display_data"
    }
   ],
   "source": [
    "plot_train_val_loss(train_loss, test_loss)"
   ]
  },
  {
   "cell_type": "code",
   "execution_count": 75,
   "id": "13261b2d",
   "metadata": {},
   "outputs": [],
   "source": [
    "os.makedirs(\"results/baseline\", exist_ok=True)\n",
    "torch.save(train_loss, f\"results/{results_folder}/train_loss.pt\")\n",
    "torch.save(test_loss, f\"results/{results_folder}/test_loss.pt\")"
   ]
  },
  {
   "cell_type": "markdown",
   "id": "0ac6a6a0",
   "metadata": {},
   "source": [
    "# Best model performance \n",
    "\n",
    "Note this is on the validation set "
   ]
  },
  {
   "cell_type": "code",
   "execution_count": 76,
   "id": "27e92a22",
   "metadata": {},
   "outputs": [
    {
     "data": {
      "image/png": "[encoded data removed]",
      "text/plain": [
       "<Figure size 650x340 with 1 Axes>"
      ]
     },
     "metadata": {},
     "output_type": "display_data"
    },
    {
     "name": "stdout",
     "output_type": "stream",
     "text": [
      "1.351219892501831\n"
     ]
    }
   ],
   "source": [
    "model.load_state_dict(best_model)\n",
    "best_loss, predictions = final_evaluation(model, test_edge_index, test_edge_weights, user_nodes, product_nodes, device, plot = True, print_test = False)\n",
    "print(best_loss.item())"
   ]
  },
  {
   "cell_type": "code",
   "execution_count": 77,
   "id": "88e56a5f",
   "metadata": {},
   "outputs": [],
   "source": [
    "torch.save(predictions, f\"results/{results_folder}/predictions.pt\")"
   ]
  },
  {
   "cell_type": "markdown",
   "id": "14a3e6d0",
   "metadata": {},
   "source": [
    "# Metrics "
   ]
  },
  {
   "cell_type": "code",
   "execution_count": 78,
   "id": "3e1e88d8",
   "metadata": {},
   "outputs": [],
   "source": [
    "product_idx_tensor = torch.tensor(list(prod_id_to_idx.values()), dtype=torch.long, device = device)\n",
    "test_edges_grp = test_user_edges.groupby(\"user_idx\").prod_idx.apply(list).reset_index()\n",
    "test_edges_users = test_edges_grp.user_idx.to_list()"
   ]
  },
  {
   "cell_type": "code",
   "execution_count": 79,
   "id": "9a196ded",
   "metadata": {},
   "outputs": [],
   "source": [
    "predictions = get_top_k_preds(model, test_edges_users, 10, 32, user_nodes, product_nodes, product_idx_tensor, device) # about 5 min to run\n",
    "test_edges_grp[\"prediction\"] = list(torch.vstack(predictions).cpu().numpy())\n",
    "test_edges_grp[\"match_count\"] = test_edges_grp.apply(lambda x: len(set(x.prod_idx).intersection(set(x.prediction))), axis = 1)"
   ]
  },
  {
   "cell_type": "code",
   "execution_count": 80,
   "id": "e21c6612",
   "metadata": {},
   "outputs": [
    {
     "data": {
      "text/plain": [
       "np.float64(0.0)"
      ]
     },
     "execution_count": 80,
     "metadata": {},
     "output_type": "execute_result"
    }
   ],
   "source": [
    "# Overall recall\n",
    "(test_edges_grp[\"match_count\"] / test_edges_grp.prod_idx.apply(len)).mean()"
   ]
  },
  {
   "cell_type": "code",
   "execution_count": 81,
   "id": "0568bf8d",
   "metadata": {},
   "outputs": [
    {
     "data": {
      "text/plain": [
       "np.float64(0.0)"
      ]
     },
     "execution_count": 81,
     "metadata": {},
     "output_type": "execute_result"
    }
   ],
   "source": [
    "# Only those with prior history \n",
    "existing_test_edges_grp = test_edges_grp[test_edges_grp.user_idx.isin(train_user_df.user_id.apply(lambda x: user_id_to_idx[x]))]\n",
    "(existing_test_edges_grp[\"match_count\"] / existing_test_edges_grp.prod_idx.apply(len)).mean()"
   ]
  },
  {
   "cell_type": "code",
   "execution_count": 82,
   "id": "0c688e6e",
   "metadata": {},
   "outputs": [],
   "source": [
    "test_edges_grp.to_parquet(f\"results/{results_folder}/predictions.parquet\")"
   ]
  },
  {
   "cell_type": "markdown",
   "id": "5452c781",
   "metadata": {},
   "source": [
    "# Show sample recomendations "
   ]
  },
  {
   "cell_type": "code",
   "execution_count": 83,
   "id": "30ceeb8b",
   "metadata": {},
   "outputs": [],
   "source": [
    "title_mapping = pd.read_parquet(f\"{data_dir}/{product_dir}/product_df.parquet\", columns = [\"parent_asin\", \"title\"])\n",
    "prod_idx_to_id = {idx - offset: asin for asin, idx in prod_id_to_idx.items()}"
   ]
  },
  {
   "cell_type": "code",
   "execution_count": 84,
   "id": "d4361e15",
   "metadata": {},
   "outputs": [
    {
     "name": "stdout",
     "output_type": "stream",
     "text": [
      "Product 1: AVON Mesmerize Black for Him Eau de Toilette 100ml - 3.4oz\n",
      "Product 2: Pack of 2 CoverGirl So Lashy blast PRO Mascara, Black/Brown, 810\n",
      "Product 3: IoYoI White 1 Inch Craft Girls Headband Women's Hair Bands No Teeth DIY Plastic Material Decorative Wide Headwears Clip Adolescent Female (50 pcs)\n",
      "Product 4: Kiss I Envy Knot Free Trio Medium Ultra Black\n",
      "Product 5: Leopard Headbands by GNAWRISHING,Fashion Headbands, Knot Dot Hair Bands for Women's Hair Accessories, Cheetah Headband for Girls 3 color with 3 leopard hair ties,6 Pack\n",
      "Product 6: 2PCS Messy Bun Hair Piece 100% Human Hair Scrunchies Buns Hair Pieces for Women Curly Wavy Black Bun Elegant Chignons Wedding … (2PCS Human hair, Medium Brown).\n",
      "Product 7: Afro Kinky Curly Clip in for American Lady 12.1\" #126\n",
      "Product 8: Voskhod Double Edge Safety Razor Blades, 100 blades (5x20)\n",
      "Product 9: Volume Lash Extensions Easy Fan Volume Lashes C Curl Mixed Tray 0.10 Self Fanning Lashes (0.10-C, Mix 8-14mm)\n",
      "Product 10: Replacement Slide Door Universal Port Cover Repair Part Compitable w Dji Osmo Pocket\n"
     ]
    }
   ],
   "source": [
    "# The pure random \n",
    "user_id = test_user_df.user_id.sample(1).item()\n",
    "recommended_products, predictions = recommend_products(model, user_id, user_id_to_idx, prod_id_to_idx, user_nodes, product_nodes, \n",
    "                                                       prod_idx_to_id, top_k=10, device = device)\n",
    "pretty_print_recomendations(recommended_products, title_mapping, \"title\")"
   ]
  },
  {
   "cell_type": "code",
   "execution_count": 85,
   "id": "37722027",
   "metadata": {},
   "outputs": [],
   "source": [
    "# The user with some data \n",
    "existing_test_users = test_user_df[test_user_df.user_id.isin(train_user_df.user_id)].copy()[[\"user_id\"]]"
   ]
  },
  {
   "cell_type": "code",
   "execution_count": 86,
   "id": "bda083de",
   "metadata": {},
   "outputs": [
    {
     "name": "stdout",
     "output_type": "stream",
     "text": [
      "Product 1: AVON Mesmerize Black for Him Eau de Toilette 100ml - 3.4oz\n",
      "Product 2: Pack of 2 CoverGirl So Lashy blast PRO Mascara, Black/Brown, 810\n",
      "Product 3: IoYoI White 1 Inch Craft Girls Headband Women's Hair Bands No Teeth DIY Plastic Material Decorative Wide Headwears Clip Adolescent Female (50 pcs)\n",
      "Product 4: Kiss I Envy Knot Free Trio Medium Ultra Black\n",
      "Product 5: Leopard Headbands by GNAWRISHING,Fashion Headbands, Knot Dot Hair Bands for Women's Hair Accessories, Cheetah Headband for Girls 3 color with 3 leopard hair ties,6 Pack\n",
      "Product 6: Voskhod Double Edge Safety Razor Blades, 100 blades (5x20)\n",
      "Product 7: 2PCS Messy Bun Hair Piece 100% Human Hair Scrunchies Buns Hair Pieces for Women Curly Wavy Black Bun Elegant Chignons Wedding … (2PCS Human hair, Medium Brown).\n",
      "Product 8: Nose Hair Trimmer for Men,Electric Facial Ear Hair Clippers 4 in 1,Rechargeable Mute Motor Waterproof Double-Edge Stainless Steel Blades Nose Hair Scissors,Wet/Dry Use Trimming Tool for Men\n",
      "Product 9: Sminiker Professional 4 in 1 Waterproof Women Electric Razor Set 3-Blade Cordless Precise Bikini Trimmer Rechargeable Electric Shaver for Women Arm Underarm Bikini Line Legs\n",
      "Product 10: Afro Kinky Curly Clip in for American Lady 12.1\" #126\n"
     ]
    }
   ],
   "source": [
    "user_id = existing_test_users.user_id.sample(1).item()\n",
    "recommended_products, predictions = recommend_products(model, user_id, user_id_to_idx, prod_id_to_idx, user_nodes, product_nodes, \n",
    "                                                       prod_idx_to_id, top_k=10, device = device)\n",
    "pretty_print_recomendations(recommended_products, title_mapping, \"title\")"
   ]
  }
 ],
 "metadata": {
  "kernelspec": {
   "display_name": "dl_proj",
   "language": "python",
   "name": "python3"
  },
  "language_info": {
   "codemirror_mode": {
    "name": "ipython",
    "version": 3
   },
   "file_extension": ".py",
   "mimetype": "text/x-python",
   "name": "python",
   "nbconvert_exporter": "python",
   "pygments_lexer": "ipython3",
   "version": "3.12.9"
  }
 },
 "nbformat": 4,
 "nbformat_minor": 5
}
