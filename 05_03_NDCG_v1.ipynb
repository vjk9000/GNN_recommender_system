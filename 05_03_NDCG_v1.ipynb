{
 "cells": [
  {
   "cell_type": "markdown",
   "id": "5fd7e365",
   "metadata": {},
   "source": [
    "# Introduction\n",
    "\n",
    "This is the attempt to compute NDCG"
   ]
  },
  {
   "cell_type": "markdown",
   "id": "3610ea28",
   "metadata": {},
   "source": [
    "# Imports"
   ]
  },
  {
   "cell_type": "code",
   "execution_count": 1,
   "id": "dff88c70",
   "metadata": {},
   "outputs": [],
   "source": [
    "import pandas as pd\n",
    "from utils.predictions import ndcg_v1"
   ]
  },
  {
   "cell_type": "markdown",
   "id": "33644ef6",
   "metadata": {},
   "source": [
    "# Load results"
   ]
  },
  {
   "cell_type": "code",
   "execution_count": 2,
   "id": "62fd2b52",
   "metadata": {},
   "outputs": [],
   "source": [
    "df = pd.read_parquet(\"results/final_model/predictions.parquet\")"
   ]
  },
  {
   "cell_type": "code",
   "execution_count": 3,
   "id": "d902eae5",
   "metadata": {},
   "outputs": [
    {
     "data": {
      "text/html": [
       "<div>\n",
       "<style scoped>\n",
       "    .dataframe tbody tr th:only-of-type {\n",
       "        vertical-align: middle;\n",
       "    }\n",
       "\n",
       "    .dataframe tbody tr th {\n",
       "        vertical-align: top;\n",
       "    }\n",
       "\n",
       "    .dataframe thead th {\n",
       "        text-align: right;\n",
       "    }\n",
       "</style>\n",
       "<table border=\"1\" class=\"dataframe\">\n",
       "  <thead>\n",
       "    <tr style=\"text-align: right;\">\n",
       "      <th></th>\n",
       "      <th>user_idx</th>\n",
       "      <th>prod_idx</th>\n",
       "      <th>prediction</th>\n",
       "      <th>match_count</th>\n",
       "    </tr>\n",
       "  </thead>\n",
       "  <tbody>\n",
       "    <tr>\n",
       "      <th>0</th>\n",
       "      <td>188</td>\n",
       "      <td>[528489, 534192, 482519, 546831, 522967, 55116...</td>\n",
       "      <td>[69636, 27475, 24789, 41158, 53029, 12809, 791...</td>\n",
       "      <td>0</td>\n",
       "    </tr>\n",
       "    <tr>\n",
       "      <th>1</th>\n",
       "      <td>224</td>\n",
       "      <td>[558378]</td>\n",
       "      <td>[42990, 82265, 42342, 34666, 12440, 55618, 713...</td>\n",
       "      <td>0</td>\n",
       "    </tr>\n",
       "    <tr>\n",
       "      <th>2</th>\n",
       "      <td>249</td>\n",
       "      <td>[477104, 553206]</td>\n",
       "      <td>[24789, 27475, 28385, 79104, 84008, 69636, 128...</td>\n",
       "      <td>0</td>\n",
       "    </tr>\n",
       "    <tr>\n",
       "      <th>3</th>\n",
       "      <td>312</td>\n",
       "      <td>[503341]</td>\n",
       "      <td>[87123, 685, 44563, 24789, 34849, 67238, 61343...</td>\n",
       "      <td>0</td>\n",
       "    </tr>\n",
       "    <tr>\n",
       "      <th>4</th>\n",
       "      <td>382</td>\n",
       "      <td>[540763]</td>\n",
       "      <td>[19966, 4179, 17960, 50030, 55398, 39824, 3139...</td>\n",
       "      <td>0</td>\n",
       "    </tr>\n",
       "  </tbody>\n",
       "</table>\n",
       "</div>"
      ],
      "text/plain": [
       "   user_idx                                           prod_idx  \\\n",
       "0       188  [528489, 534192, 482519, 546831, 522967, 55116...   \n",
       "1       224                                           [558378]   \n",
       "2       249                                   [477104, 553206]   \n",
       "3       312                                           [503341]   \n",
       "4       382                                           [540763]   \n",
       "\n",
       "                                          prediction  match_count  \n",
       "0  [69636, 27475, 24789, 41158, 53029, 12809, 791...            0  \n",
       "1  [42990, 82265, 42342, 34666, 12440, 55618, 713...            0  \n",
       "2  [24789, 27475, 28385, 79104, 84008, 69636, 128...            0  \n",
       "3  [87123, 685, 44563, 24789, 34849, 67238, 61343...            0  \n",
       "4  [19966, 4179, 17960, 50030, 55398, 39824, 3139...            0  "
      ]
     },
     "execution_count": 3,
     "metadata": {},
     "output_type": "execute_result"
    }
   ],
   "source": [
    "df.head()"
   ]
  },
  {
   "cell_type": "code",
   "execution_count": 4,
   "id": "7443afc9",
   "metadata": {},
   "outputs": [],
   "source": [
    "df[\"ndcg\"] = df.apply(lambda x: ndcg_v1(x.prod_idx, x.prediction), axis = 1)"
   ]
  },
  {
   "cell_type": "code",
   "execution_count": 5,
   "id": "cc0d0cbc",
   "metadata": {},
   "outputs": [
    {
     "data": {
      "text/plain": [
       "np.float64(0.0)"
      ]
     },
     "execution_count": 5,
     "metadata": {},
     "output_type": "execute_result"
    }
   ],
   "source": [
    "df[\"ndcg\"].mean()"
   ]
  }
 ],
 "metadata": {
  "kernelspec": {
   "display_name": "dl_proj",
   "language": "python",
   "name": "python3"
  },
  "language_info": {
   "codemirror_mode": {
    "name": "ipython",
    "version": 3
   },
   "file_extension": ".py",
   "mimetype": "text/x-python",
   "name": "python",
   "nbconvert_exporter": "python",
   "pygments_lexer": "ipython3",
   "version": "3.12.9"
  }
 },
 "nbformat": 4,
 "nbformat_minor": 5
}
