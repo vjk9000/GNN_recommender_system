{
 "cells": [
  {
   "cell_type": "code",
   "execution_count": 1,
   "id": "e3f24c1d",
   "metadata": {},
   "outputs": [],
   "source": [
    "%load_ext autoreload\n",
    "%autoreload 2"
   ]
  },
  {
   "cell_type": "markdown",
   "id": "4aad33f4",
   "metadata": {},
   "source": [
    "# Introduction \n",
    "\n",
    "This is an attempt to compute NDCG"
   ]
  },
  {
   "cell_type": "code",
   "execution_count": 2,
   "id": "224d4c12",
   "metadata": {},
   "outputs": [],
   "source": [
    "import torch\n",
    "import pandas as pd\n",
    "import numpy as np\n",
    "\n",
    "from utils.graph_model import GNNSAGERecommenderwithSkipConnections \n",
    "from utils.setup_nodes import create_edge_lists, create_user_df\n",
    "from utils.predictions import pretty_print_recomendations\n",
    "from utils.ndcg_computations import recommend_products_with_ndcg"
   ]
  },
  {
   "cell_type": "markdown",
   "id": "47562fa2",
   "metadata": {},
   "source": [
    "# Set up"
   ]
  },
  {
   "cell_type": "code",
   "execution_count": 3,
   "id": "a5e09a10",
   "metadata": {},
   "outputs": [],
   "source": [
    "user_split = \"train_test\"\n",
    "prod_embed_name = \"meta_features_512\"\n",
    "user_embed_name = \"user_reviews_features_512\"\n",
    "\n",
    "data_dir = \"data\"\n",
    "product_dir = \"full_data\"\n",
    "embedding_dir = \"embedding\"\n",
    "results_folder = \"final_model\"\n",
    "\n",
    "device = \"cuda\"\n",
    "\n",
    "product_cols = [\"parent_asin\", \"average_rating\", \"rating_number\"]\n",
    "user_cols = [\"user_id\", \"rating_mean\", \"rating_count\", \"helpful_vote_mean\", \"helpful_vote_gte_1\", \"verified_purchase_mean\", \"last_active_in_days_min\",\n",
    "            \"last_active_in_days_max\", \"word_count_mean\"]\n",
    "edge_cols = [\"user_id\", \"parent_asin\", \"rating\"]"
   ]
  },
  {
   "cell_type": "markdown",
   "id": "2cc236df",
   "metadata": {},
   "source": [
    "# Load data"
   ]
  },
  {
   "cell_type": "code",
   "execution_count": 4,
   "id": "03022d88",
   "metadata": {},
   "outputs": [],
   "source": [
    "product_df = pd.read_parquet(f\"{data_dir}/{product_dir}/product_df.parquet\", columns = product_cols)\n",
    "train_user_df = pd.read_parquet(f\"{data_dir}/{user_split}_split/train_agg.parquet\", columns = user_cols)\n",
    "train_user_edges = pd.read_parquet(f\"{data_dir}/{user_split}_split/train.parquet\", columns = edge_cols)\n",
    "\n",
    "if user_split == \"train_test_valid\":\n",
    "    test_user_df = pd.read_parquet(f\"{data_dir}/{user_split}_split/valid_agg.parquet\", columns = user_cols)\n",
    "    test_user_edges = pd.read_parquet(f\"{data_dir}/{user_split}_split/valid.parquet\", columns = edge_cols)\n",
    "else:\n",
    "    test_user_df = pd.read_parquet(f\"{data_dir}/{user_split}_split/test_agg.parquet\", columns = user_cols)\n",
    "    test_user_edges = pd.read_parquet(f\"{data_dir}/{user_split}_split/test.parquet\", columns = edge_cols)\n"
   ]
  },
  {
   "cell_type": "code",
   "execution_count": 5,
   "id": "ee605786",
   "metadata": {},
   "outputs": [],
   "source": [
    "product_embedding = torch.load(f\"{data_dir}/{embedding_dir}/product/{prod_embed_name}.pt\")\n",
    "train_user_embedding = torch.load(f\"{data_dir}/{embedding_dir}/{user_split}_split/train_{user_embed_name}.pt\")\n",
    "if user_split == \"train_test_valid\":\n",
    "    test_user_embedding = torch.load(f\"{data_dir}/{embedding_dir}/{user_split}_split/valid_{user_embed_name}.pt\")\n",
    "else:\n",
    "    test_user_embedding = torch.load(f\"{data_dir}/{embedding_dir}/{user_split}_split/test_{user_embed_name}.pt\")"
   ]
  },
  {
   "cell_type": "markdown",
   "id": "69fa853e",
   "metadata": {},
   "source": [
    "# Make nodes"
   ]
  },
  {
   "cell_type": "code",
   "execution_count": 6,
   "id": "81bed1ff",
   "metadata": {},
   "outputs": [],
   "source": [
    "# Add the embedding \n",
    "train_user_df[\"embedding\"] = list(train_user_embedding.numpy())\n",
    "test_user_df[\"embedding\"] = list(test_user_embedding.numpy())\n",
    "\n",
    "# Make super user df\n",
    "user_df = create_user_df(train_user_df, test_user_df)"
   ]
  },
  {
   "cell_type": "code",
   "execution_count": 7,
   "id": "1f7635ed",
   "metadata": {},
   "outputs": [],
   "source": [
    "# Set up id mapping\n",
    "offset = user_df.user_id.nunique()\n",
    "user_id_to_idx = {unique_id : idx for idx, unique_id in enumerate(user_df.user_id.unique())}\n",
    "prod_id_to_idx = {unique_id : offset + idx for idx, unique_id in enumerate(product_df.parent_asin.unique())}\n",
    "\n",
    "# Add to df\n",
    "product_df[\"prod_idx\"] = product_df.parent_asin.apply(lambda x: prod_id_to_idx[x])\n",
    "train_user_edges[\"user_idx\"] = train_user_edges.user_id.apply(lambda x: user_id_to_idx[x])\n",
    "test_user_edges[\"user_idx\"] = test_user_edges.user_id.apply(lambda x: user_id_to_idx[x])\n",
    "train_user_edges[\"prod_idx\"] = train_user_edges.parent_asin.apply(lambda x: prod_id_to_idx[x])\n",
    "test_user_edges[\"prod_idx\"] = test_user_edges.parent_asin.apply(lambda x: prod_id_to_idx[x])"
   ]
  },
  {
   "cell_type": "code",
   "execution_count": 8,
   "id": "e2c33921",
   "metadata": {},
   "outputs": [],
   "source": [
    "# Concat product nodes \n",
    "product_nodes = torch.cat([torch.tensor(product_df.drop([\"parent_asin\", \"prod_idx\"], axis = 1).to_numpy()), product_embedding], dim = 1)"
   ]
  },
  {
   "cell_type": "code",
   "execution_count": 9,
   "id": "7638002c",
   "metadata": {},
   "outputs": [],
   "source": [
    "# concat user nodes \n",
    "user_embed = torch.tensor(np.vstack(user_df[\"embedding\"].values))\n",
    "user_info = torch.tensor(user_df.drop([\"user_id\", \"embedding\"], axis = 1).to_numpy())\n",
    "user_nodes = torch.cat([user_info, user_embed], dim = 1)"
   ]
  },
  {
   "cell_type": "code",
   "execution_count": 10,
   "id": "e234b6ba",
   "metadata": {},
   "outputs": [],
   "source": [
    "# Create edge list\n",
    "train_edge_index, train_edge_weights = create_edge_lists(train_user_edges)\n",
    "test_edge_index, test_edge_weights = create_edge_lists(train_user_edges)"
   ]
  },
  {
   "cell_type": "markdown",
   "id": "5e5cb00a",
   "metadata": {},
   "source": [
    "# Move to GPU "
   ]
  },
  {
   "cell_type": "code",
   "execution_count": 11,
   "id": "bcc1ba02",
   "metadata": {},
   "outputs": [],
   "source": [
    "product_nodes = product_nodes.type(torch.float).to(device)\n",
    "user_nodes = user_nodes.type(torch.float).to(device)\n",
    "train_edge_index = train_edge_index.to(device)\n",
    "train_edge_weights = train_edge_weights.to(device)\n",
    "test_edge_index = test_edge_index.to(device)\n",
    "test_edge_weights = test_edge_weights.to(device)"
   ]
  },
  {
   "cell_type": "markdown",
   "id": "d8606996",
   "metadata": {},
   "source": [
    "# Model"
   ]
  },
  {
   "cell_type": "code",
   "execution_count": 12,
   "id": "f579f7fc",
   "metadata": {},
   "outputs": [],
   "source": [
    "# Set up model features\n",
    "num_users = len(user_df)\n",
    "num_products = len(product_df)\n",
    "user_feature_dim = user_nodes.shape[1]\n",
    "product_feature_dim = product_nodes.shape[1]\n",
    "embedding_dim = 256\n",
    "dropout_prob = 0.2"
   ]
  },
  {
   "cell_type": "code",
   "execution_count": 13,
   "id": "18772c4c",
   "metadata": {},
   "outputs": [],
   "source": [
    "# Instantiate the model\n",
    "model = GNNSAGERecommenderwithSkipConnections(num_users, num_products, user_feature_dim, product_feature_dim, embedding_dim, dropout_prob)"
   ]
  },
  {
   "cell_type": "code",
   "execution_count": 14,
   "id": "51465a4b",
   "metadata": {},
   "outputs": [
    {
     "data": {
      "text/plain": [
       "GNNSAGERecommenderwithSkipConnections(\n",
       "  (user_feature_transform): Linear(in_features=776, out_features=256, bias=True)\n",
       "  (product_feature_transform): Linear(in_features=770, out_features=256, bias=True)\n",
       "  (conv1): SAGEConv(256, 256, aggr=mean)\n",
       "  (bn1): BatchNorm1d(256, eps=1e-05, momentum=0.1, affine=True, track_running_stats=True)\n",
       "  (conv2): SAGEConv(256, 256, aggr=mean)\n",
       "  (bn2): BatchNorm1d(256, eps=1e-05, momentum=0.1, affine=True, track_running_stats=True)\n",
       "  (predictor): Linear(in_features=256, out_features=1, bias=True)\n",
       ")"
      ]
     },
     "execution_count": 14,
     "metadata": {},
     "output_type": "execute_result"
    }
   ],
   "source": [
    "# move the model \n",
    "model.to(device)"
   ]
  },
  {
   "cell_type": "code",
   "execution_count": 15,
   "id": "331d6033",
   "metadata": {},
   "outputs": [
    {
     "data": {
      "text/plain": [
       "<All keys matched successfully>"
      ]
     },
     "execution_count": 15,
     "metadata": {},
     "output_type": "execute_result"
    }
   ],
   "source": [
    "# Load trained model \n",
    "model.load_state_dict(torch.load(\"results/final_model/model.pt\", weights_only=True))"
   ]
  },
  {
   "cell_type": "markdown",
   "id": "c5afd8e4",
   "metadata": {},
   "source": [
    "# Test NDCG"
   ]
  },
  {
   "cell_type": "code",
   "execution_count": 16,
   "id": "7a1cf4a7",
   "metadata": {},
   "outputs": [],
   "source": [
    "title_mapping = pd.read_parquet(f\"{data_dir}/{product_dir}/product_df.parquet\", columns = [\"parent_asin\", \"title\"])\n",
    "prod_idx_to_id = {idx - offset: asin for asin, idx in prod_id_to_idx.items()}"
   ]
  },
  {
   "cell_type": "code",
   "execution_count": 17,
   "id": "d859495a",
   "metadata": {},
   "outputs": [
    {
     "name": "stdout",
     "output_type": "stream",
     "text": [
      "128754 \n",
      "\n",
      "Recommended products \n",
      "\n",
      "Running batch number 1 out of 1...\n",
      "Product 1: NewBeauty Magazine New Fall 2011 The World's Most Unique Beauty Magazine\n",
      "Product 2: Charles J. Wahba Side Comb (Paired) - 17 Teeth (Black Color) - Handmade in France\n",
      "Product 3: The Men From Shiloh\n",
      "Product 4: PUNARA Organic & Natural Makeup Music Box Set for Kids, Merry Go Round Beauty Treasure 10pcs, Safe & Gentle for Sensitive Skin, ECOCERT Certified Ingredients\n",
      "Product 5: Candlelight Shadowsense by Senegence\n",
      "Product 6: Charles J. Wahba - Side Combs for Thin Hair (Paired) - Made in France (Demi Blonde (Pair))\n",
      "Product 7: Diane oil-infused lift comb, 6-1/4\", green, DBC024\n",
      "Product 8: TANGLE Jr. MetallicTexture - Purple\n",
      "Product 9: ETUDE HOUSE HERSHEY's Chocolate Drink Kit #Original - Play Color Eyes Mini Eyeshadow Palette & Tumbler - Special Limited edition\n",
      "Product 10: Sustainability: Radical Solutions Inspiring Hope\n",
      "\n",
      "\n",
      "NDCG score is:  0.0\n",
      "Ratings are:  [5.233306  5.2319746 5.2272487 5.224562  5.2228847 5.222747  5.22261\n",
      " 5.222274  5.2219744 5.2211637]\n"
     ]
    }
   ],
   "source": [
    "user_id = test_edge_index[0][torch.randint(0, test_edge_index.shape[1], (1,))].item() #Here we are only selecting from users in test set\n",
    "print(user_id, \"\\n\")\n",
    "print(\"Recommended products\", \"\\n\")\n",
    "recomendations = recommend_products_with_ndcg(model, test_edge_index, test_edge_weights, user_id, user_id_to_idx, prod_id_to_idx, user_nodes, product_nodes, \n",
    "                                              top_k=10, batch_size=2048)\n",
    "pretty_print_recomendations(recomendations[0], title_mapping, \"title\")\n",
    "print(\"\\n\")\n",
    "print(\"NDCG score is: \", recomendations[1].numpy())\n",
    "print(\"Ratings are: \", recomendations[2].cpu().numpy())"
   ]
  },
  {
   "cell_type": "code",
   "execution_count": 18,
   "id": "86a5b932",
   "metadata": {},
   "outputs": [
    {
     "name": "stdout",
     "output_type": "stream",
     "text": [
      "Actual products bought \n",
      "\n",
      "Product 1: e.l.f. Moisturizing Foundation Stick 83187 Almond by e.l.f. Cosmetics\n",
      "\n",
      "\n",
      "Ratings are:  [5.0]\n",
      "\n",
      "\n",
      "\n",
      "\n"
     ]
    }
   ],
   "source": [
    "print(\"Actual products bought\", \"\\n\")\n",
    "actual_prod = test_edge_index[1][test_edge_index[0] == user_id]\n",
    "actual_weights = test_edge_weights[test_edge_index[0] == user_id]\n",
    "actual_recommendations = [prod_idx_to_id[x.item() - offset] for x in actual_prod]\n",
    "pretty_print_recomendations(actual_recommendations, title_mapping, \"title\")\n",
    "print(\"\\n\")\n",
    "print(\"Ratings are: \", [x.item() for x in actual_weights])\n",
    "print(\"\\n\")\n",
    "print(\"\\n\")"
   ]
  }
 ],
 "metadata": {
  "kernelspec": {
   "display_name": "dl_proj",
   "language": "python",
   "name": "python3"
  },
  "language_info": {
   "codemirror_mode": {
    "name": "ipython",
    "version": 3
   },
   "file_extension": ".py",
   "mimetype": "text/x-python",
   "name": "python",
   "nbconvert_exporter": "python",
   "pygments_lexer": "ipython3",
   "version": "3.12.9"
  }
 },
 "nbformat": 4,
 "nbformat_minor": 5
}
