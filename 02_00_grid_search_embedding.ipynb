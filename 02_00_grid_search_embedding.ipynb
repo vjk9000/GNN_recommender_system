{
 "cells": [
  {
   "cell_type": "code",
   "execution_count": null,
   "id": "faab79af",
   "metadata": {},
   "outputs": [],
   "source": [
    "%load_ext autoreload\n",
    "%autoreload 2"
   ]
  },
  {
   "cell_type": "markdown",
   "id": "4c135a5c",
   "metadata": {},
   "source": [
    "# Introduction \n",
    "\n",
    "This will run the baseline model on the various combinations of the embeddings done. We will use the loss as the performance metric"
   ]
  },
  {
   "cell_type": "markdown",
   "id": "e31bd5b2",
   "metadata": {},
   "source": [
    "# Imports "
   ]
  },
  {
   "cell_type": "code",
   "execution_count": null,
   "id": "6962fb86",
   "metadata": {},
   "outputs": [],
   "source": [
    "from utils.graph_helpers import make_df, single_grid_search\n",
    "from utils.general import seed_everything\n",
    "\n",
    "import os"
   ]
  },
  {
   "cell_type": "markdown",
   "id": "84f3eb4e",
   "metadata": {},
   "source": [
    "# Set seed"
   ]
  },
  {
   "cell_type": "code",
   "execution_count": null,
   "id": "036c6543",
   "metadata": {},
   "outputs": [],
   "source": [
    "seed_everything()"
   ]
  },
  {
   "cell_type": "markdown",
   "id": "10aad281",
   "metadata": {},
   "source": [
    "# Set variables "
   ]
  },
  {
   "cell_type": "code",
   "execution_count": null,
   "id": "335eaf2c",
   "metadata": {},
   "outputs": [],
   "source": [
    "user_split = \"train_test_valid\"\n",
    "\n",
    "data_dir = \"data\"\n",
    "product_dir = \"full_data\"\n",
    "embedding_dir = \"embedding\"\n",
    "results_folder = \"embedding_grid_search\"\n",
    "\n",
    "device = \"cuda\"\n",
    "\n",
    "product_cols = [\"parent_asin\", \"average_rating\", \"rating_number\"]\n",
    "user_cols = [\"user_id\", \"rating_mean\", \"rating_count\", \"helpful_vote_mean\", \"helpful_vote_gte_1\", \"verified_purchase_mean\", \"last_active_in_days_min\",\n",
    "            \"last_active_in_days_max\", \"word_count_mean\"]\n",
    "edge_cols = [\"user_id\", \"parent_asin\", \"rating\"]"
   ]
  },
  {
   "cell_type": "markdown",
   "id": "f1edaced",
   "metadata": {},
   "source": [
    "# Grid search"
   ]
  },
  {
   "cell_type": "code",
   "execution_count": null,
   "id": "02bd902a",
   "metadata": {},
   "outputs": [],
   "source": [
    "train_loss_ls = []\n",
    "test_loss_ls = []\n",
    "full_test_loss_ls = []\n",
    "best_epoch_ls = []\n",
    "best_test_loss_ls = []\n",
    "config_ls = []"
   ]
  },
  {
   "cell_type": "code",
   "execution_count": null,
   "id": "a0b6edd9",
   "metadata": {},
   "outputs": [],
   "source": [
    "model_choice_ls = [\"base\", \"512\"]\n",
    "prod_embed_ls = [\"title\", \"description\", \"features\", \"details\", \n",
    "                 \"meta\", \"meta_cleaned\",\n",
    "                 \"combined_title_details\", \"combined_title_description\", \"combined_title_features\", \n",
    "                 \"combined_all\"]"
   ]
  },
  {
   "cell_type": "code",
   "execution_count": null,
   "id": "525078b2",
   "metadata": {},
   "outputs": [],
   "source": [
    "for model_choice in model_choice_ls:\n",
    "    for prod_embed in prod_embed_ls:\n",
    "        train_loss, test_loss, final_test_loss, best_epoch, best_test_loss = single_grid_search(model_choice, prod_embed, data_dir, product_dir, \n",
    "                                                                                                embedding_dir, user_split, product_cols, user_cols, \n",
    "                                                                                                edge_cols, device)\n",
    "        config_ls.append((model_choice, prod_embed))\n",
    "        train_loss_ls.append(train_loss)\n",
    "        test_loss_ls.append(test_loss)\n",
    "        full_test_loss_ls.append(final_test_loss.item())\n",
    "        best_epoch_ls.append(best_epoch)\n",
    "        best_test_loss_ls.append(best_test_loss.item())"
   ]
  },
  {
   "cell_type": "code",
   "execution_count": null,
   "id": "7dec544e",
   "metadata": {},
   "outputs": [],
   "source": [
    "results_df = make_df(config_ls, [\"embed_model\", \"prod_col\"], train_loss_ls, test_loss_ls, full_test_loss_ls, best_epoch_ls, best_test_loss_ls)"
   ]
  },
  {
   "cell_type": "code",
   "execution_count": null,
   "id": "9202ba4c",
   "metadata": {},
   "outputs": [],
   "source": [
    "os.makedirs(f\"results/{results_folder}\", exist_ok=True)\n",
    "results_df.to_parquet(f\"results/{results_folder}/grid_search_results.parquet\")"
   ]
  },
  {
   "cell_type": "code",
   "execution_count": null,
   "id": "c9662070",
   "metadata": {},
   "outputs": [],
   "source": [
    "results_df.sort_values(\"best_test_loss\")"
   ]
  }
 ],
 "metadata": {
  "kernelspec": {
   "display_name": "dl_proj",
   "language": "python",
   "name": "python3"
  },
  "language_info": {
   "codemirror_mode": {
    "name": "ipython",
    "version": 3
   },
   "file_extension": ".py",
   "mimetype": "text/x-python",
   "name": "python",
   "nbconvert_exporter": "python",
   "pygments_lexer": "ipython3",
   "version": "3.12.9"
  }
 },
 "nbformat": 4,
 "nbformat_minor": 5
}
