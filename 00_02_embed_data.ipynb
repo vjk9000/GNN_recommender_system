{
 "cells": [
  {
   "cell_type": "markdown",
   "id": "cd65cc31",
   "metadata": {},
   "source": [
    "# Introduction\n",
    "\n",
    "This notebook will handle the embedding of strings.  \n",
    "What is important here is the columns that will be emebedded as well as the embedding model to use "
   ]
  },
  {
   "cell_type": "markdown",
   "id": "9aa7dbde",
   "metadata": {},
   "source": [
    "# Imports\n"
   ]
  },
  {
   "cell_type": "code",
   "execution_count": 1,
   "id": "c9762ca1",
   "metadata": {},
   "outputs": [],
   "source": [
    "import os\n",
    "import pandas as pd\n",
    "import torch \n",
    "\n",
    "from utils.make_embedding import custom_BLaIR_text_embedding_model, save_embedding"
   ]
  },
  {
   "cell_type": "markdown",
   "id": "08e49b06",
   "metadata": {},
   "source": [
    "# Set variables"
   ]
  },
  {
   "cell_type": "code",
   "execution_count": 2,
   "id": "c2af5d11",
   "metadata": {},
   "outputs": [],
   "source": [
    "save_dir = \"data/embedding\"\n",
    "prod_dir = \"product\"\n",
    "two_split = \"train_test_split\"\n",
    "three_split = \"train_test_valid_split\""
   ]
  },
  {
   "cell_type": "markdown",
   "id": "b4a85121",
   "metadata": {},
   "source": [
    "# Load data"
   ]
  },
  {
   "cell_type": "code",
   "execution_count": 3,
   "id": "3109e89d",
   "metadata": {},
   "outputs": [],
   "source": [
    "# product df \n",
    "product_df = pd.read_parquet(\"data/full_data/product_df.parquet\")\n",
    "\n",
    "# Aggregated users \n",
    "two_split_review_train_agg = pd.read_parquet(f\"data/train_test_split/two_split_review_train_agg.parquet\")\n",
    "two_split_review_test_agg = pd.read_parquet(f\"data/train_test_split/two_split_review_test_agg.parquet\")\n",
    "three_split_review_train_agg = pd.read_parquet(f\"data/train_test_valid_split/three_split_review_train_agg.parquet\")\n",
    "three_split_review_test_agg = pd.read_parquet(f\"data/train_test_valid_split/three_split_review_test_agg.parquet\")\n",
    "three_split_review_valid_agg = pd.read_parquet(f\"data/train_test_valid_split/three_split_review_valid_agg.parquet\")"
   ]
  },
  {
   "cell_type": "markdown",
   "id": "45afc15f",
   "metadata": {},
   "source": [
    "# define AND embed AND save"
   ]
  },
  {
   "cell_type": "code",
   "execution_count": 4,
   "id": "6cfbc0d7",
   "metadata": {},
   "outputs": [],
   "source": [
    "# Define\n",
    "\n",
    "## Cols\n",
    "product_col = \"meta\"\n",
    "user_col = \"reviews\"\n",
    "\n",
    "## Save dir\n",
    "product_df_save_name = \"meta_features_512\"\n",
    "two_split_review_train_agg_save_name = \"train_user_reviews_features_512\"\n",
    "two_split_review_test_agg_save_name = \"test_user_reviews_features_512\"\n",
    "three_split_review_train_agg_save_name = \"train_user_reviews_features_512\"\n",
    "three_split_review_test_agg_save_name = \"test_user_reviews_features_512\"\n",
    "three_split_review_valid_agg_save_name = \"valid_user_reviews_features_512\"\n",
    "\n",
    "## model params\n",
    "\n",
    "### blair \n",
    "model_dir = \"custom_blair/massive\"\n",
    "batch_size = 512\n",
    "max_length = 512\n",
    "device = \"cuda\""
   ]
  },
  {
   "cell_type": "code",
   "execution_count": null,
   "id": "f3f5cb59",
   "metadata": {},
   "outputs": [
    {
     "name": "stderr",
     "output_type": "stream",
     "text": [
      "Some weights of RobertaModel were not initialized from the model checkpoint at custom_blair/massive and are newly initialized: ['pooler.dense.bias', 'pooler.dense.weight']\n",
      "You should probably TRAIN this model on a down-stream task to be able to use it for predictions and inference.\n"
     ]
    }
   ],
   "source": [
    "# embed \n",
    "product_df_embed = custom_BLaIR_text_embedding_model(product_df[product_col].to_list(), model_dir, batch_size, max_length, device)\n",
    "two_split_review_train_agg_embed = custom_BLaIR_text_embedding_model(two_split_review_train_agg[user_col].to_list(), model_dir, batch_size, max_length, device)\n",
    "two_split_review_test_agg_embed = custom_BLaIR_text_embedding_model(two_split_review_test_agg[user_col].to_list(), model_dir, batch_size, max_length, device)\n",
    "three_split_review_train_agg_embed = custom_BLaIR_text_embedding_model(three_split_review_train_agg[user_col].to_list(), model_dir, batch_size, max_length, device)\n",
    "three_split_review_test_agg_embed = custom_BLaIR_text_embedding_model(three_split_review_test_agg[user_col].to_list(), model_dir, batch_size, max_length, device)\n",
    "three_split_review_valid_agg_embed = custom_BLaIR_text_embedding_model(three_split_review_valid_agg[user_col].to_list(), model_dir, batch_size, max_length, device)"
   ]
  },
  {
   "cell_type": "code",
   "execution_count": null,
   "id": "9bdf3fe9",
   "metadata": {},
   "outputs": [],
   "source": [
    "# save\n",
    "\n",
    "## make dir\n",
    "os.makedirs(f\"{save_dir}\", exist_ok=True)\n",
    "os.makedirs(f\"{save_dir}/{prod_dir}\", exist_ok=True)\n",
    "os.makedirs(f\"{save_dir}/{two_split}\", exist_ok=True)\n",
    "os.makedirs(f\"{save_dir}/{three_split}\", exist_ok=True)\n",
    "\n",
    "## save files \n",
    "save_embedding(product_df_embed, f\"{save_dir}/{prod_dir}/{product_df_save_name}.pt\")\n",
    "save_embedding(two_split_review_train_agg_embed, f\"{save_dir}/{two_split}/{two_split_review_train_agg_save_name}.pt\")\n",
    "save_embedding(two_split_review_test_agg_embed, f\"{save_dir}/{two_split}/{two_split_review_test_agg_save_name}.pt\")\n",
    "save_embedding(three_split_review_train_agg_embed, f\"{save_dir}/{three_split}/{three_split_review_train_agg_save_name}.pt\")\n",
    "save_embedding(three_split_review_test_agg_embed, f\"{save_dir}/{three_split}/{three_split_review_test_agg_save_name}.pt\")\n",
    "save_embedding(three_split_review_valid_agg_embed, f\"{save_dir}/{three_split}/{three_split_review_valid_agg_save_name}.pt\")"
   ]
  }
 ],
 "metadata": {
  "kernelspec": {
   "display_name": "dl_proj",
   "language": "python",
   "name": "python3"
  },
  "language_info": {
   "codemirror_mode": {
    "name": "ipython",
    "version": 3
   },
   "file_extension": ".py",
   "mimetype": "text/x-python",
   "name": "python",
   "nbconvert_exporter": "python",
   "pygments_lexer": "ipython3",
   "version": "3.12.9"
  }
 },
 "nbformat": 4,
 "nbformat_minor": 5
}
