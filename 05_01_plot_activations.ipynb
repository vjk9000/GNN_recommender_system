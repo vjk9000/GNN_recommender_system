{
 "cells": [
  {
   "cell_type": "markdown",
   "id": "4b5dbf6d",
   "metadata": {},
   "source": [
    "# Imports"
   ]
  },
  {
   "cell_type": "code",
   "execution_count": null,
   "id": "6962fb86",
   "metadata": {},
   "outputs": [],
   "source": [
    "import pickle\n",
    "import torch\n",
    "\n",
    "from utils.graph_helpers import plot_activation_heatmap_and_density\n",
    "from utils.graph_model import GNNSAGERecommenderwithSkipConnections"
   ]
  },
  {
   "cell_type": "code",
   "execution_count": null,
   "id": "6576d80a",
   "metadata": {},
   "outputs": [],
   "source": [
    "# Set up model features\n",
    "num_users = 474892\n",
    "num_products = 89060\n",
    "user_feature_dim = 776\n",
    "product_feature_dim = 770\n",
    "embedding_dim = 256\n",
    "dropout_prob = 0.2"
   ]
  },
  {
   "cell_type": "code",
   "execution_count": null,
   "id": "def696ad",
   "metadata": {},
   "outputs": [],
   "source": [
    "# Instantiate the model\n",
    "model = GNNSAGERecommenderwithSkipConnections(num_users, num_products, user_feature_dim, product_feature_dim, embedding_dim, dropout_prob)\n",
    "model.load_state_dict(torch.load(\"results/final_model/model.pt\", weights_only=True))"
   ]
  },
  {
   "cell_type": "code",
   "execution_count": null,
   "id": "9837b656",
   "metadata": {},
   "outputs": [],
   "source": [
    "# Record activations for visualization\n",
    "activations = {}  # Dictionary to store activations\n",
    "def hook_fn(module, input, output):\n",
    "    \"\"\"Hook function to capture activations.\"\"\"\n",
    "    activations[module] = output\n",
    "model.conv1.register_forward_hook(hook_fn)\n",
    "model.conv2.register_forward_hook(hook_fn)\n",
    "model.user_feature_transform.register_forward_hook(hook_fn)\n",
    "model.product_feature_transform.register_forward_hook(hook_fn)"
   ]
  },
  {
   "cell_type": "code",
   "execution_count": null,
   "id": "86f9adb2",
   "metadata": {},
   "outputs": [],
   "source": [
    "activations = pickle.load(open(\"results/final_model/activations.pkl\", \"rb\"))"
   ]
  },
  {
   "cell_type": "markdown",
   "id": "7890e0d5",
   "metadata": {},
   "source": [
    "# Analysing predictions"
   ]
  },
  {
   "cell_type": "code",
   "execution_count": null,
   "id": "8f983fec",
   "metadata": {},
   "outputs": [],
   "source": [
    "keys = list(activations.keys())\n",
    "conv2 = keys[3]\n",
    "conv1 = keys[2]\n",
    "product_feature_transform = keys[1]\n",
    "user_feature_transform = keys[0]"
   ]
  },
  {
   "cell_type": "code",
   "execution_count": null,
   "id": "08740f48",
   "metadata": {},
   "outputs": [],
   "source": [
    "# Visualize activations of conv2 activation output\n",
    "activations_of_interest = activations[conv2].detach().cpu().numpy()\n",
    "plot_activation_heatmap_and_density(activations_of_interest, \"results/final_model/conv_2\")"
   ]
  },
  {
   "cell_type": "code",
   "execution_count": null,
   "id": "c18dd40b",
   "metadata": {},
   "outputs": [],
   "source": [
    "# Visualize activations of conv1 activation output\n",
    "activations_of_interest = activations[conv1].detach().cpu().numpy()\n",
    "plot_activation_heatmap_and_density(activations_of_interest, \"results/final_model/conv_1\")"
   ]
  },
  {
   "cell_type": "code",
   "execution_count": null,
   "id": "80ce446f",
   "metadata": {},
   "outputs": [],
   "source": [
    "# Visualize activations of product_feature_transform activation output\n",
    "activations_of_interest = activations[product_feature_transform].detach().cpu().numpy()\n",
    "plot_activation_heatmap_and_density(activations_of_interest, \"results/final_model/product_feature_transform\")"
   ]
  },
  {
   "cell_type": "code",
   "execution_count": null,
   "id": "b82c6d2c",
   "metadata": {},
   "outputs": [],
   "source": [
    "# Visualize activations of user_feature_transform activation output\n",
    "activations_of_interest = activations[user_feature_transform].detach().cpu().numpy()\n",
    "plot_activation_heatmap_and_density(activations_of_interest, \"results/final_model/user_feature_transform\")"
   ]
  }
 ],
 "metadata": {
  "kernelspec": {
   "display_name": "dl_proj",
   "language": "python",
   "name": "python3"
  },
  "language_info": {
   "codemirror_mode": {
    "name": "ipython",
    "version": 3
   },
   "file_extension": ".py",
   "mimetype": "text/x-python",
   "name": "python",
   "nbconvert_exporter": "python",
   "pygments_lexer": "ipython3",
   "version": "3.12.9"
  }
 },
 "nbformat": 4,
 "nbformat_minor": 5
}
