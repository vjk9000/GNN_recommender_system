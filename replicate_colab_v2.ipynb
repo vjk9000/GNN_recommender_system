{
 "cells": [
  {
   "cell_type": "code",
   "execution_count": 1,
   "metadata": {},
   "outputs": [],
   "source": [
    "%load_ext autoreload\n",
    "%autoreload 2"
   ]
  },
  {
   "cell_type": "markdown",
   "metadata": {},
   "source": [
    "# Introduction \n",
    "\n",
    "This notebook aims to do the following\n",
    "1. Replicate (most) of the work done in the colab file\n",
    "2. Integrate the blair model embedding as inputs\n",
    "3. Use our input files (product and user) metadata instead of the hugging face ones \n"
   ]
  },
  {
   "cell_type": "markdown",
   "metadata": {},
   "source": [
    "# Imports"
   ]
  },
  {
   "cell_type": "code",
   "execution_count": 2,
   "metadata": {},
   "outputs": [
    {
     "name": "stderr",
     "output_type": "stream",
     "text": [
      "/home/viknesh/.venv_ls/dl_proj/lib/python3.12/site-packages/tqdm/auto.py:21: TqdmWarning: IProgress not found. Please update jupyter and ipywidgets. See https://ipywidgets.readthedocs.io/en/stable/user_install.html\n",
      "  from .autonotebook import tqdm as notebook_tqdm\n"
     ]
    }
   ],
   "source": [
    "import pandas as pd\n",
    "import torch\n",
    "import random\n",
    "\n",
    "from datasets import load_dataset\n",
    "from utils.setup_graph import make_mapping, create_nodes, train_test_validation_split\n",
    "from utils.setup_embeddings import instantiate_users, custom_BLaIR_text_embedding_model\n",
    "from utils.graph_model import BaseGNNRecommender, GNNSAGERecommender\n",
    "from utils.graph_helpers import train_model, plot_loss, final_evaluation\n",
    "from utils.recomendations import recommend_products, pretty_print_recomendations, paper_evaluation"
   ]
  },
  {
   "cell_type": "markdown",
   "metadata": {},
   "source": [
    "# Load dataset\n",
    "\n",
    "Original data as obtained from the colab notebook  \n",
    "Additional data is obtained from the `All_Beauty_cleaned data` folder. "
   ]
  },
  {
   "cell_type": "code",
   "execution_count": 3,
   "metadata": {},
   "outputs": [],
   "source": [
    "reviews_dataset = load_dataset(\"McAuley-Lab/Amazon-Reviews-2023\", \"raw_review_All_Beauty\", trust_remote_code=True)\n",
    "product_dataset = load_dataset(\"McAuley-Lab/Amazon-Reviews-2023\", \"raw_meta_All_Beauty\", split=\"full\", trust_remote_code=True)\n",
    "\n",
    "review_df = reviews_dataset['full'].to_pandas()\n",
    "product_df = product_dataset.to_pandas()"
   ]
  },
  {
   "cell_type": "code",
   "execution_count": 4,
   "metadata": {},
   "outputs": [],
   "source": [
    "agg_user_df = pd.read_csv(\"data/user_metadata.csv\")\n",
    "new_product_df = pd.read_csv(\"data/product_metadata.csv\")"
   ]
  },
  {
   "cell_type": "code",
   "execution_count": 5,
   "metadata": {},
   "outputs": [
    {
     "data": {
      "text/html": [
       "<div>\n",
       "<style scoped>\n",
       "    .dataframe tbody tr th:only-of-type {\n",
       "        vertical-align: middle;\n",
       "    }\n",
       "\n",
       "    .dataframe tbody tr th {\n",
       "        vertical-align: top;\n",
       "    }\n",
       "\n",
       "    .dataframe thead th {\n",
       "        text-align: right;\n",
       "    }\n",
       "</style>\n",
       "<table border=\"1\" class=\"dataframe\">\n",
       "  <thead>\n",
       "    <tr style=\"text-align: right;\">\n",
       "      <th></th>\n",
       "      <th>rating</th>\n",
       "      <th>title</th>\n",
       "      <th>text</th>\n",
       "      <th>images</th>\n",
       "      <th>asin</th>\n",
       "      <th>parent_asin</th>\n",
       "      <th>user_id</th>\n",
       "      <th>timestamp</th>\n",
       "      <th>helpful_vote</th>\n",
       "      <th>verified_purchase</th>\n",
       "    </tr>\n",
       "  </thead>\n",
       "  <tbody>\n",
       "    <tr>\n",
       "      <th>0</th>\n",
       "      <td>5.0</td>\n",
       "      <td>Such a lovely scent but not overpowering.</td>\n",
       "      <td>This spray is really nice. It smells really go...</td>\n",
       "      <td>[]</td>\n",
       "      <td>B00YQ6X8EO</td>\n",
       "      <td>B00YQ6X8EO</td>\n",
       "      <td>AGKHLEW2SOWHNMFQIJGBECAF7INQ</td>\n",
       "      <td>1588687728923</td>\n",
       "      <td>0</td>\n",
       "      <td>True</td>\n",
       "    </tr>\n",
       "    <tr>\n",
       "      <th>1</th>\n",
       "      <td>4.0</td>\n",
       "      <td>Works great but smells a little weird.</td>\n",
       "      <td>This product does what I need it to do, I just...</td>\n",
       "      <td>[]</td>\n",
       "      <td>B081TJ8YS3</td>\n",
       "      <td>B081TJ8YS3</td>\n",
       "      <td>AGKHLEW2SOWHNMFQIJGBECAF7INQ</td>\n",
       "      <td>1588615855070</td>\n",
       "      <td>1</td>\n",
       "      <td>True</td>\n",
       "    </tr>\n",
       "    <tr>\n",
       "      <th>2</th>\n",
       "      <td>5.0</td>\n",
       "      <td>Yes!</td>\n",
       "      <td>Smells good, feels great!</td>\n",
       "      <td>[]</td>\n",
       "      <td>B07PNNCSP9</td>\n",
       "      <td>B097R46CSY</td>\n",
       "      <td>AE74DYR3QUGVPZJ3P7RFWBGIX7XQ</td>\n",
       "      <td>1589665266052</td>\n",
       "      <td>2</td>\n",
       "      <td>True</td>\n",
       "    </tr>\n",
       "    <tr>\n",
       "      <th>3</th>\n",
       "      <td>1.0</td>\n",
       "      <td>Synthetic feeling</td>\n",
       "      <td>Felt synthetic</td>\n",
       "      <td>[]</td>\n",
       "      <td>B09JS339BZ</td>\n",
       "      <td>B09JS339BZ</td>\n",
       "      <td>AFQLNQNQYFWQZPJQZS6V3NZU4QBQ</td>\n",
       "      <td>1643393630220</td>\n",
       "      <td>0</td>\n",
       "      <td>True</td>\n",
       "    </tr>\n",
       "    <tr>\n",
       "      <th>4</th>\n",
       "      <td>5.0</td>\n",
       "      <td>A+</td>\n",
       "      <td>Love it</td>\n",
       "      <td>[]</td>\n",
       "      <td>B08BZ63GMJ</td>\n",
       "      <td>B08BZ63GMJ</td>\n",
       "      <td>AFQLNQNQYFWQZPJQZS6V3NZU4QBQ</td>\n",
       "      <td>1609322563534</td>\n",
       "      <td>0</td>\n",
       "      <td>True</td>\n",
       "    </tr>\n",
       "  </tbody>\n",
       "</table>\n",
       "</div>"
      ],
      "text/plain": [
       "   rating                                      title  \\\n",
       "0     5.0  Such a lovely scent but not overpowering.   \n",
       "1     4.0     Works great but smells a little weird.   \n",
       "2     5.0                                       Yes!   \n",
       "3     1.0                          Synthetic feeling   \n",
       "4     5.0                                         A+   \n",
       "\n",
       "                                                text images        asin  \\\n",
       "0  This spray is really nice. It smells really go...     []  B00YQ6X8EO   \n",
       "1  This product does what I need it to do, I just...     []  B081TJ8YS3   \n",
       "2                          Smells good, feels great!     []  B07PNNCSP9   \n",
       "3                                     Felt synthetic     []  B09JS339BZ   \n",
       "4                                            Love it     []  B08BZ63GMJ   \n",
       "\n",
       "  parent_asin                       user_id      timestamp  helpful_vote  \\\n",
       "0  B00YQ6X8EO  AGKHLEW2SOWHNMFQIJGBECAF7INQ  1588687728923             0   \n",
       "1  B081TJ8YS3  AGKHLEW2SOWHNMFQIJGBECAF7INQ  1588615855070             1   \n",
       "2  B097R46CSY  AE74DYR3QUGVPZJ3P7RFWBGIX7XQ  1589665266052             2   \n",
       "3  B09JS339BZ  AFQLNQNQYFWQZPJQZS6V3NZU4QBQ  1643393630220             0   \n",
       "4  B08BZ63GMJ  AFQLNQNQYFWQZPJQZS6V3NZU4QBQ  1609322563534             0   \n",
       "\n",
       "   verified_purchase  \n",
       "0               True  \n",
       "1               True  \n",
       "2               True  \n",
       "3               True  \n",
       "4               True  "
      ]
     },
     "execution_count": 5,
     "metadata": {},
     "output_type": "execute_result"
    }
   ],
   "source": [
    "review_df.head()"
   ]
  },
  {
   "cell_type": "code",
   "execution_count": 6,
   "metadata": {},
   "outputs": [
    {
     "data": {
      "text/html": [
       "<div>\n",
       "<style scoped>\n",
       "    .dataframe tbody tr th:only-of-type {\n",
       "        vertical-align: middle;\n",
       "    }\n",
       "\n",
       "    .dataframe tbody tr th {\n",
       "        vertical-align: top;\n",
       "    }\n",
       "\n",
       "    .dataframe thead th {\n",
       "        text-align: right;\n",
       "    }\n",
       "</style>\n",
       "<table border=\"1\" class=\"dataframe\">\n",
       "  <thead>\n",
       "    <tr style=\"text-align: right;\">\n",
       "      <th></th>\n",
       "      <th>main_category</th>\n",
       "      <th>title</th>\n",
       "      <th>average_rating</th>\n",
       "      <th>rating_number</th>\n",
       "      <th>features</th>\n",
       "      <th>description</th>\n",
       "      <th>price</th>\n",
       "      <th>images</th>\n",
       "      <th>videos</th>\n",
       "      <th>store</th>\n",
       "      <th>categories</th>\n",
       "      <th>details</th>\n",
       "      <th>parent_asin</th>\n",
       "      <th>bought_together</th>\n",
       "      <th>subtitle</th>\n",
       "      <th>author</th>\n",
       "    </tr>\n",
       "  </thead>\n",
       "  <tbody>\n",
       "    <tr>\n",
       "      <th>90598</th>\n",
       "      <td>All Beauty</td>\n",
       "      <td>Brazilian Body Wave Virgin Hair 3 Bundles 8A G...</td>\n",
       "      <td>2.6</td>\n",
       "      <td>2</td>\n",
       "      <td>[]</td>\n",
       "      <td>[]</td>\n",
       "      <td>None</td>\n",
       "      <td>{'hi_res': ['https://m.media-amazon.com/images...</td>\n",
       "      <td>{'title': [], 'url': [], 'user_id': []}</td>\n",
       "      <td>nice hair</td>\n",
       "      <td>[]</td>\n",
       "      <td>{\"Brand\": \"Nice hair\", \"Material\": \"Human Hair...</td>\n",
       "      <td>B08GP2DHYF</td>\n",
       "      <td>None</td>\n",
       "      <td>None</td>\n",
       "      <td>None</td>\n",
       "    </tr>\n",
       "    <tr>\n",
       "      <th>13477</th>\n",
       "      <td>All Beauty</td>\n",
       "      <td>Peach Bloom Color Blossoming Lip &amp; Cheek Tint</td>\n",
       "      <td>3.7</td>\n",
       "      <td>11</td>\n",
       "      <td>[]</td>\n",
       "      <td>[Color Blossoming Lip &amp; Cheek Tint Details HOW...</td>\n",
       "      <td>22.0</td>\n",
       "      <td>{'hi_res': ['https://m.media-amazon.com/images...</td>\n",
       "      <td>{'title': [], 'url': [], 'user_id': []}</td>\n",
       "      <td>Too Faced</td>\n",
       "      <td>[]</td>\n",
       "      <td>{\"Brand\": \"Too Faced\", \"Color\": \"Peach Glow\", ...</td>\n",
       "      <td>B08SC7H9VY</td>\n",
       "      <td>None</td>\n",
       "      <td>None</td>\n",
       "      <td>None</td>\n",
       "    </tr>\n",
       "  </tbody>\n",
       "</table>\n",
       "</div>"
      ],
      "text/plain": [
       "      main_category                                              title  \\\n",
       "90598    All Beauty  Brazilian Body Wave Virgin Hair 3 Bundles 8A G...   \n",
       "13477    All Beauty      Peach Bloom Color Blossoming Lip & Cheek Tint   \n",
       "\n",
       "       average_rating  rating_number features  \\\n",
       "90598             2.6              2       []   \n",
       "13477             3.7             11       []   \n",
       "\n",
       "                                             description price  \\\n",
       "90598                                                 []  None   \n",
       "13477  [Color Blossoming Lip & Cheek Tint Details HOW...  22.0   \n",
       "\n",
       "                                                  images  \\\n",
       "90598  {'hi_res': ['https://m.media-amazon.com/images...   \n",
       "13477  {'hi_res': ['https://m.media-amazon.com/images...   \n",
       "\n",
       "                                        videos      store categories  \\\n",
       "90598  {'title': [], 'url': [], 'user_id': []}  nice hair         []   \n",
       "13477  {'title': [], 'url': [], 'user_id': []}  Too Faced         []   \n",
       "\n",
       "                                                 details parent_asin  \\\n",
       "90598  {\"Brand\": \"Nice hair\", \"Material\": \"Human Hair...  B08GP2DHYF   \n",
       "13477  {\"Brand\": \"Too Faced\", \"Color\": \"Peach Glow\", ...  B08SC7H9VY   \n",
       "\n",
       "      bought_together subtitle author  \n",
       "90598            None     None   None  \n",
       "13477            None     None   None  "
      ]
     },
     "execution_count": 6,
     "metadata": {},
     "output_type": "execute_result"
    }
   ],
   "source": [
    "product_df.sample(2)"
   ]
  },
  {
   "cell_type": "code",
   "execution_count": 7,
   "metadata": {},
   "outputs": [
    {
     "data": {
      "text/html": [
       "<div>\n",
       "<style scoped>\n",
       "    .dataframe tbody tr th:only-of-type {\n",
       "        vertical-align: middle;\n",
       "    }\n",
       "\n",
       "    .dataframe tbody tr th {\n",
       "        vertical-align: top;\n",
       "    }\n",
       "\n",
       "    .dataframe thead th {\n",
       "        text-align: right;\n",
       "    }\n",
       "</style>\n",
       "<table border=\"1\" class=\"dataframe\">\n",
       "  <thead>\n",
       "    <tr style=\"text-align: right;\">\n",
       "      <th></th>\n",
       "      <th>user_id</th>\n",
       "      <th>rating_mean</th>\n",
       "      <th>rating_count</th>\n",
       "      <th>helpful_vote_mean</th>\n",
       "      <th>helpful_vote_gte_1</th>\n",
       "      <th>verified_purchase_mean</th>\n",
       "      <th>last_active_in_days_min</th>\n",
       "      <th>last_active_in_days_max</th>\n",
       "      <th>word_count_mean</th>\n",
       "      <th>reviews</th>\n",
       "    </tr>\n",
       "  </thead>\n",
       "  <tbody>\n",
       "    <tr>\n",
       "      <th>0</th>\n",
       "      <td>AE222BBOVZIF42YOOPNBXL4UUMYA</td>\n",
       "      <td>5.0</td>\n",
       "      <td>1</td>\n",
       "      <td>0.0</td>\n",
       "      <td>0</td>\n",
       "      <td>1.0</td>\n",
       "      <td>2739</td>\n",
       "      <td>2739</td>\n",
       "      <td>8.0</td>\n",
       "      <td>Five Stars Great product....excellent price fo...</td>\n",
       "    </tr>\n",
       "    <tr>\n",
       "      <th>1</th>\n",
       "      <td>AE222FP7YRNFCEQ2W3ZDIGMSYTLQ</td>\n",
       "      <td>5.0</td>\n",
       "      <td>1</td>\n",
       "      <td>0.0</td>\n",
       "      <td>0</td>\n",
       "      <td>1.0</td>\n",
       "      <td>185</td>\n",
       "      <td>185</td>\n",
       "      <td>6.0</td>\n",
       "      <td>Nice consistency and great smell [[VIDEOID:8b3...</td>\n",
       "    </tr>\n",
       "    <tr>\n",
       "      <th>2</th>\n",
       "      <td>AE222X475JC6ONXMIKZDFGQ7IAUA</td>\n",
       "      <td>5.0</td>\n",
       "      <td>1</td>\n",
       "      <td>2.0</td>\n",
       "      <td>1</td>\n",
       "      <td>1.0</td>\n",
       "      <td>2436</td>\n",
       "      <td>2436</td>\n",
       "      <td>4.0</td>\n",
       "      <td>Wow It tastes good</td>\n",
       "    </tr>\n",
       "    <tr>\n",
       "      <th>3</th>\n",
       "      <td>AE222Y4WTST6BUZ4J5Y2H6QMBITQ</td>\n",
       "      <td>4.0</td>\n",
       "      <td>1</td>\n",
       "      <td>1.0</td>\n",
       "      <td>1</td>\n",
       "      <td>1.0</td>\n",
       "      <td>3728</td>\n",
       "      <td>3728</td>\n",
       "      <td>34.0</td>\n",
       "      <td>Lensoclean Unit The cleaning unit does a good ...</td>\n",
       "    </tr>\n",
       "    <tr>\n",
       "      <th>4</th>\n",
       "      <td>AE2232TEZOEWQLAFEX2NA6VBGMYQ</td>\n",
       "      <td>5.0</td>\n",
       "      <td>1</td>\n",
       "      <td>0.0</td>\n",
       "      <td>0</td>\n",
       "      <td>1.0</td>\n",
       "      <td>1501</td>\n",
       "      <td>1501</td>\n",
       "      <td>7.0</td>\n",
       "      <td>Sus colores Son como en la foto</td>\n",
       "    </tr>\n",
       "  </tbody>\n",
       "</table>\n",
       "</div>"
      ],
      "text/plain": [
       "                        user_id  rating_mean  rating_count  helpful_vote_mean  \\\n",
       "0  AE222BBOVZIF42YOOPNBXL4UUMYA          5.0             1                0.0   \n",
       "1  AE222FP7YRNFCEQ2W3ZDIGMSYTLQ          5.0             1                0.0   \n",
       "2  AE222X475JC6ONXMIKZDFGQ7IAUA          5.0             1                2.0   \n",
       "3  AE222Y4WTST6BUZ4J5Y2H6QMBITQ          4.0             1                1.0   \n",
       "4  AE2232TEZOEWQLAFEX2NA6VBGMYQ          5.0             1                0.0   \n",
       "\n",
       "   helpful_vote_gte_1  verified_purchase_mean  last_active_in_days_min  \\\n",
       "0                   0                     1.0                     2739   \n",
       "1                   0                     1.0                      185   \n",
       "2                   1                     1.0                     2436   \n",
       "3                   1                     1.0                     3728   \n",
       "4                   0                     1.0                     1501   \n",
       "\n",
       "   last_active_in_days_max  word_count_mean  \\\n",
       "0                     2739              8.0   \n",
       "1                      185              6.0   \n",
       "2                     2436              4.0   \n",
       "3                     3728             34.0   \n",
       "4                     1501              7.0   \n",
       "\n",
       "                                             reviews  \n",
       "0  Five Stars Great product....excellent price fo...  \n",
       "1  Nice consistency and great smell [[VIDEOID:8b3...  \n",
       "2                                 Wow It tastes good  \n",
       "3  Lensoclean Unit The cleaning unit does a good ...  \n",
       "4                    Sus colores Son como en la foto  "
      ]
     },
     "execution_count": 7,
     "metadata": {},
     "output_type": "execute_result"
    }
   ],
   "source": [
    "agg_user_df.head()"
   ]
  },
  {
   "cell_type": "code",
   "execution_count": 8,
   "metadata": {},
   "outputs": [
    {
     "data": {
      "text/html": [
       "<div>\n",
       "<style scoped>\n",
       "    .dataframe tbody tr th:only-of-type {\n",
       "        vertical-align: middle;\n",
       "    }\n",
       "\n",
       "    .dataframe tbody tr th {\n",
       "        vertical-align: top;\n",
       "    }\n",
       "\n",
       "    .dataframe thead th {\n",
       "        text-align: right;\n",
       "    }\n",
       "</style>\n",
       "<table border=\"1\" class=\"dataframe\">\n",
       "  <thead>\n",
       "    <tr style=\"text-align: right;\">\n",
       "      <th></th>\n",
       "      <th>parent_asin</th>\n",
       "      <th>meta</th>\n",
       "      <th>reviews</th>\n",
       "    </tr>\n",
       "  </thead>\n",
       "  <tbody>\n",
       "    <tr>\n",
       "      <th>0</th>\n",
       "      <td>0124784577</td>\n",
       "      <td>WOW Organics Apple Cider Vinegar Shampoo - 300 mL</td>\n",
       "      <td>Product delivers Makes my hair look healthy ||...</td>\n",
       "    </tr>\n",
       "    <tr>\n",
       "      <th>1</th>\n",
       "      <td>0692508988</td>\n",
       "      <td>The Listening Cards The Listening Cards are an...</td>\n",
       "      <td>Delightful and Profound This is a wonderful to...</td>\n",
       "    </tr>\n",
       "    <tr>\n",
       "      <th>2</th>\n",
       "      <td>069267599X</td>\n",
       "      <td>Inspirational Card Deck Nicole Piar created th...</td>\n",
       "      <td>Sigh I soo much wanted to Really love this dec...</td>\n",
       "    </tr>\n",
       "    <tr>\n",
       "      <th>3</th>\n",
       "      <td>0764490117</td>\n",
       "      <td>Kingdom Rock Starter Kit: Where Kids Stand Str...</td>\n",
       "      <td>Amazing VBS kit! We just completed our week of...</td>\n",
       "    </tr>\n",
       "    <tr>\n",
       "      <th>4</th>\n",
       "      <td>0816091846</td>\n",
       "      <td>Sissy Spacek Collection - Raggedy Man, The Riv...</td>\n",
       "      <td>Wish she would'a done comedy, too! Spacek can ...</td>\n",
       "    </tr>\n",
       "  </tbody>\n",
       "</table>\n",
       "</div>"
      ],
      "text/plain": [
       "  parent_asin                                               meta  \\\n",
       "0  0124784577  WOW Organics Apple Cider Vinegar Shampoo - 300 mL   \n",
       "1  0692508988  The Listening Cards The Listening Cards are an...   \n",
       "2  069267599X  Inspirational Card Deck Nicole Piar created th...   \n",
       "3  0764490117  Kingdom Rock Starter Kit: Where Kids Stand Str...   \n",
       "4  0816091846  Sissy Spacek Collection - Raggedy Man, The Riv...   \n",
       "\n",
       "                                             reviews  \n",
       "0  Product delivers Makes my hair look healthy ||...  \n",
       "1  Delightful and Profound This is a wonderful to...  \n",
       "2  Sigh I soo much wanted to Really love this dec...  \n",
       "3  Amazing VBS kit! We just completed our week of...  \n",
       "4  Wish she would'a done comedy, too! Spacek can ...  "
      ]
     },
     "execution_count": 8,
     "metadata": {},
     "output_type": "execute_result"
    }
   ],
   "source": [
    "new_product_df.head()"
   ]
  },
  {
   "cell_type": "code",
   "execution_count": 9,
   "metadata": {},
   "outputs": [
    {
     "name": "stdout",
     "output_type": "stream",
     "text": [
      "review df len:\t\t 701528\n",
      "product df len:\t\t 112590\n",
      "agg user df len:\t 631986\n",
      "new product df len:\t 89060\n"
     ]
    }
   ],
   "source": [
    "print('review df len:\\t\\t', len(review_df))\n",
    "print('product df len:\\t\\t', len(product_df))\n",
    "print(\"agg user df len:\\t\", len(agg_user_df))\n",
    "print(\"new product df len:\\t\", len(new_product_df))"
   ]
  },
  {
   "cell_type": "markdown",
   "metadata": {},
   "source": [
    "So we now want to transfor the dataset to the columns / how we want them to be \n",
    "\n",
    "**review_df**  \n",
    "This is the original df used.  \n",
    "We only need to know the user to product mapping (node to node) and the rating (edge weight) \n",
    "\n",
    "**product_df**  \n",
    "I elect not to use it because the new product df might be a better source (cleaned i guess)   \n",
    "kept some columns for the pretty print of recomendations \n",
    "\n",
    "**agg_user_df**  \n",
    "I take the aggregated data as the start embeddings.   \n",
    "self note / to do: a method to also create a blank user start embedding as seen in the colab  \n",
    "\n",
    "**new product df**  \n",
    "used as is given "
   ]
  },
  {
   "cell_type": "code",
   "execution_count": 10,
   "metadata": {},
   "outputs": [],
   "source": [
    "edge_list_df = review_df[[\"user_id\", \"parent_asin\", \"rating\"]].copy()"
   ]
  },
  {
   "cell_type": "code",
   "execution_count": 11,
   "metadata": {},
   "outputs": [],
   "source": [
    "user_node_content_df = agg_user_df.drop(\"reviews\", axis = 1).copy()"
   ]
  },
  {
   "cell_type": "code",
   "execution_count": 12,
   "metadata": {},
   "outputs": [],
   "source": [
    "product_title_df = product_df[[\"parent_asin\", \"title\"]].copy()"
   ]
  },
  {
   "cell_type": "code",
   "execution_count": 13,
   "metadata": {},
   "outputs": [],
   "source": [
    "product_node_content_df = new_product_df.copy()"
   ]
  },
  {
   "cell_type": "code",
   "execution_count": 14,
   "metadata": {},
   "outputs": [],
   "source": [
    "# memory saving \n",
    "del reviews_dataset, product_dataset, product_df, new_product_df, agg_user_df, review_df"
   ]
  },
  {
   "cell_type": "markdown",
   "metadata": {},
   "source": [
    "# Making the nodes "
   ]
  },
  {
   "cell_type": "code",
   "execution_count": 15,
   "metadata": {},
   "outputs": [],
   "source": [
    "user_mapping = make_mapping(user_node_content_df, \"user_id\")\n",
    "product_mapping = make_mapping(product_node_content_df, \"parent_asin\")"
   ]
  },
  {
   "cell_type": "code",
   "execution_count": 16,
   "metadata": {},
   "outputs": [],
   "source": [
    "reverse_product_mapping = {idx: asin for asin, idx in product_mapping.items()}"
   ]
  },
  {
   "cell_type": "code",
   "execution_count": 17,
   "metadata": {},
   "outputs": [
    {
     "name": "stdout",
     "output_type": "stream",
     "text": [
      "No of unique users: 631986\n",
      "No of unique products: 89060\n"
     ]
    }
   ],
   "source": [
    "print('No of unique users:', len(user_mapping))\n",
    "print('No of unique products:', len(product_mapping))"
   ]
  },
  {
   "cell_type": "markdown",
   "metadata": {},
   "source": [
    "The number of users is the same  \n",
    "The number of unique products is smaller (original 112590)  \n",
    "So we need to do a sanity check (just in case)"
   ]
  },
  {
   "cell_type": "code",
   "execution_count": 18,
   "metadata": {},
   "outputs": [
    {
     "data": {
      "text/plain": [
       "66265"
      ]
     },
     "execution_count": 18,
     "metadata": {},
     "output_type": "execute_result"
    }
   ],
   "source": [
    "# I have edges without a correspodning data entry in the product node contnet \n",
    "sum(~edge_list_df.parent_asin.isin(product_node_content_df.parent_asin))"
   ]
  },
  {
   "cell_type": "code",
   "execution_count": 19,
   "metadata": {},
   "outputs": [],
   "source": [
    "reduced_edge_list_df = edge_list_df[edge_list_df.parent_asin.isin(product_node_content_df.parent_asin)].reset_index(drop=True)"
   ]
  },
  {
   "cell_type": "code",
   "execution_count": 20,
   "metadata": {},
   "outputs": [
    {
     "name": "stdout",
     "output_type": "stream",
     "text": [
      "Remaining edge list percentage: 90.554\n"
     ]
    }
   ],
   "source": [
    "print(\"Remaining edge list percentage:\", round(len(reduced_edge_list_df) / len(edge_list_df) * 100, 3))"
   ]
  },
  {
   "cell_type": "markdown",
   "metadata": {},
   "source": [
    "The actual making of the nodes and edges "
   ]
  },
  {
   "cell_type": "code",
   "execution_count": 21,
   "metadata": {},
   "outputs": [],
   "source": [
    "user_nodes = create_nodes(user_mapping, reduced_edge_list_df, \"user_id\")\n",
    "product_nodes = create_nodes(product_mapping, reduced_edge_list_df, \"parent_asin\")\n",
    "edge_index = torch.tensor([user_nodes, product_nodes], dtype=torch.long)\n",
    "edge_weights = torch.tensor(reduced_edge_list_df.rating.values, dtype=torch.float)"
   ]
  },
  {
   "cell_type": "markdown",
   "metadata": {},
   "source": [
    "# Making the embeddings \n",
    "\n",
    "In the colab notebook, there was a `product category embedding`.   \n",
    "This column does not exist in the new product df that we are using so not included.  \n",
    "Perhaps we need a flow to do experiments with how the data used can affect performance \n",
    "\n",
    "The embedding process is long and expensive.  \n",
    "So there is an additional notebook to conver it all into embeddings.  \n",
    "Here were just load the files \n",
    "\n",
    "User embeddings is fast (since all numbers) so no pre computation"
   ]
  },
  {
   "cell_type": "code",
   "execution_count": 22,
   "metadata": {},
   "outputs": [],
   "source": [
    "## Loading of the variables \n",
    "## for the timebeing we take a sample\n",
    "# meta_features = custom_BLaIR_text_embedding_model(product_node_content_df[\"meta\"], \"custom_blair/massive\", batch_size = 512, max_length = 512) # 1h 30 min \n",
    "# review_features = custom_BLaIR_text_embedding_model(product_node_content_df[\"reviews\"], \"custom_blair/massive\", batch_size = 512, max_length = 512) # 10 min\n",
    "\n",
    "# temporary\n",
    "# torch.save(meta_features, \"data/embeddings/meta_features_512.pt\")\n",
    "# torch.save(review_features, \"data/embeddings/review_features_512.pt\")\n",
    "\n",
    "meta_features = torch.load(\"data/embeddings/meta_features_512.pt\")\n",
    "review_features = torch.load(\"data/embeddings/review_features_512.pt\")"
   ]
  },
  {
   "cell_type": "code",
   "execution_count": 23,
   "metadata": {},
   "outputs": [],
   "source": [
    "# join back i guess\n",
    "product_features = torch.cat([meta_features, review_features], dim=1)"
   ]
  },
  {
   "cell_type": "code",
   "execution_count": 24,
   "metadata": {},
   "outputs": [],
   "source": [
    "user_features = instantiate_users(user_node_content_df)"
   ]
  },
  {
   "cell_type": "markdown",
   "metadata": {},
   "source": [
    "# Train test validation splits "
   ]
  },
  {
   "cell_type": "code",
   "execution_count": 25,
   "metadata": {},
   "outputs": [],
   "source": [
    "train_edge_index, train_edge_weights, val_edge_index, val_edge_weights, test_edge_index, test_edge_weights = train_test_validation_split(edge_index, edge_weights)"
   ]
  },
  {
   "cell_type": "markdown",
   "metadata": {},
   "source": [
    "# Set up variables"
   ]
  },
  {
   "cell_type": "code",
   "execution_count": 26,
   "metadata": {},
   "outputs": [],
   "source": [
    "num_users = len(user_mapping)\n",
    "num_products = len(product_mapping)\n",
    "user_feature_dim = user_features.shape[1]\n",
    "product_feature_dim = product_features.shape[1]"
   ]
  },
  {
   "cell_type": "markdown",
   "metadata": {},
   "source": [
    "# Move to GPU "
   ]
  },
  {
   "cell_type": "code",
   "execution_count": 27,
   "metadata": {},
   "outputs": [],
   "source": [
    "device = \"cuda\" if torch.cuda.is_available() else \"cpu\"\n",
    "\n",
    "train_edge_index = train_edge_index.to(device)\n",
    "train_edge_weights = train_edge_weights.to(device)\n",
    "val_edge_index = val_edge_index.to(device)\n",
    "val_edge_weights = val_edge_weights.to(device)\n",
    "test_edge_index = test_edge_index.to(device)\n",
    "test_edge_weights = test_edge_weights.to(device)\n",
    "user_features = user_features.to(device)\n",
    "product_features = product_features.to(device)"
   ]
  },
  {
   "cell_type": "markdown",
   "metadata": {},
   "source": [
    "# Run the models\n",
    "\n",
    "This is a copy paste of the models in the notebooks, no changes to logic.  \n",
    "Modificiations if made is mainly for the function wrappers or stuff \n",
    "\n",
    "Tried batching, but it ended up not being that effective.   \n",
    "Code works but slow.    \n",
    "It was written in case not enough memory but guess right now might not be needed - gpu works on full set one shot "
   ]
  },
  {
   "cell_type": "code",
   "execution_count": 28,
   "metadata": {},
   "outputs": [],
   "source": [
    "# Base GNN\n",
    "base_gnn_model = BaseGNNRecommender(num_users, num_products, user_feature_dim,product_feature_dim)\n",
    "optimizer = torch.optim.Adam(base_gnn_model.parameters(), lr=0.01)"
   ]
  },
  {
   "cell_type": "code",
   "execution_count": 29,
   "metadata": {},
   "outputs": [
    {
     "name": "stdout",
     "output_type": "stream",
     "text": [
      "Epoch: 10, Train Loss: 51.7347, Val Loss: 6.0002, best model epoch: 10\n",
      "Epoch: 20, Train Loss: 10.2693, Val Loss: 10.0156, best model epoch: 18\n",
      "Epoch: 30, Train Loss: 5.4053, Val Loss: 4.5490, best model epoch: 18\n",
      "Epoch: 40, Train Loss: 2.9647, Val Loss: 2.4694, best model epoch: 39\n",
      "Epoch: 50, Train Loss: 2.9621, Val Loss: 2.3196, best model epoch: 39\n",
      "Epoch: 60, Train Loss: 2.6631, Val Loss: 2.2658, best model epoch: 58\n",
      "Epoch: 70, Train Loss: 2.5599, Val Loss: 2.2316, best model epoch: 70\n",
      "Epoch: 80, Train Loss: 2.5241, Val Loss: 2.2266, best model epoch: 75\n",
      "Epoch: 90, Train Loss: 2.4737, Val Loss: 2.2224, best model epoch: 85\n",
      "Epoch: 100, Train Loss: 2.4633, Val Loss: 2.2167, best model epoch: 95\n"
     ]
    }
   ],
   "source": [
    "base_gnn_model.to(device)\n",
    "train_loss, valid_loss, best_model = train_model(base_gnn_model, train_edge_index, train_edge_weights, val_edge_index, val_edge_weights, \n",
    "                                                 user_features, product_features, num_epochs = 100, print_progress=True)"
   ]
  },
  {
   "cell_type": "code",
   "execution_count": 30,
   "metadata": {},
   "outputs": [
    {
     "data": {
      "image/png": "[encoded data removed]",
      "text/plain": [
       "<Figure size 1000x600 with 1 Axes>"
      ]
     },
     "metadata": {},
     "output_type": "display_data"
    }
   ],
   "source": [
    "plot_loss(train_loss, valid_loss) # SAGE"
   ]
  },
  {
   "cell_type": "code",
   "execution_count": 31,
   "metadata": {},
   "outputs": [
    {
     "name": "stdout",
     "output_type": "stream",
     "text": [
      "Test loss: 2.2265\n",
      "Best possible loss: 2.2265\n"
     ]
    }
   ],
   "source": [
    "final_evaluation(base_gnn_model, test_edge_index, test_edge_weights, user_features, product_features, best_model)"
   ]
  },
  {
   "cell_type": "code",
   "execution_count": 32,
   "metadata": {},
   "outputs": [],
   "source": [
    "# SAGE GNN\n",
    "GNNSAGE_model = GNNSAGERecommender(num_users, num_products, user_feature_dim, product_feature_dim)\n",
    "optimizer = torch.optim.Adam(GNNSAGE_model.parameters(), lr=0.01)"
   ]
  },
  {
   "cell_type": "code",
   "execution_count": 33,
   "metadata": {},
   "outputs": [
    {
     "name": "stdout",
     "output_type": "stream",
     "text": [
      "Epoch: 10, Train Loss: 2.9053, Val Loss: 3.3395, best model epoch: 9\n",
      "Epoch: 20, Train Loss: 3.0401, Val Loss: 2.3410, best model epoch: 17\n",
      "Epoch: 30, Train Loss: 2.5028, Val Loss: 2.2475, best model epoch: 27\n",
      "Epoch: 40, Train Loss: 2.3745, Val Loss: 2.2003, best model epoch: 39\n",
      "Epoch: 50, Train Loss: 2.3299, Val Loss: 2.1629, best model epoch: 50\n",
      "Epoch: 60, Train Loss: 2.2917, Val Loss: 2.1666, best model epoch: 56\n",
      "Epoch: 70, Train Loss: 2.2477, Val Loss: 2.1547, best model epoch: 66\n",
      "Epoch: 80, Train Loss: 2.2227, Val Loss: 2.1328, best model epoch: 80\n",
      "Epoch: 90, Train Loss: 2.1799, Val Loss: 2.1403, best model epoch: 89\n",
      "Epoch: 100, Train Loss: 2.1317, Val Loss: 2.1297, best model epoch: 96\n"
     ]
    }
   ],
   "source": [
    "GNNSAGE_model.to(device)\n",
    "train_loss, valid_loss, best_model = train_model(GNNSAGE_model, train_edge_index, train_edge_weights, val_edge_index, val_edge_weights, \n",
    "                                                 user_features, product_features, num_epochs = 100, print_progress=True)"
   ]
  },
  {
   "cell_type": "code",
   "execution_count": 34,
   "metadata": {},
   "outputs": [
    {
     "data": {
      "image/png": "[encoded data removed]",
      "text/plain": [
       "<Figure size 1000x600 with 1 Axes>"
      ]
     },
     "metadata": {},
     "output_type": "display_data"
    }
   ],
   "source": [
    "plot_loss(train_loss, valid_loss) # base GNNM"
   ]
  },
  {
   "cell_type": "code",
   "execution_count": 35,
   "metadata": {},
   "outputs": [
    {
     "name": "stdout",
     "output_type": "stream",
     "text": [
      "Test loss: 2.1404\n",
      "Best possible loss: 2.1404\n"
     ]
    }
   ],
   "source": [
    "final_evaluation(GNNSAGE_model, test_edge_index, test_edge_weights, user_features, product_features, best_model)"
   ]
  },
  {
   "cell_type": "markdown",
   "metadata": {},
   "source": [
    "# Next recomendations \n",
    "\n",
    "Based on the current set up, actually very trash cos the model predicts the exact same stuff (base GNN)  \n",
    "GNNSAGE not say much better still alternates the same stuff"
   ]
  },
  {
   "cell_type": "code",
   "execution_count": 49,
   "metadata": {},
   "outputs": [
    {
     "name": "stdout",
     "output_type": "stream",
     "text": [
      "AFFELEZLOK33MQTUBYESP4FEQQIA \n",
      "\n",
      "Product 1: Eau De Merveilles by Hermes Body Lotion 6.5 oz\n",
      "Product 2: Konsait 9 Sets Mermaid Face Gems Glitter Face Stickers Crystals Face Jewels Rave Accessories Self Adhesive Glitter Rhinestone Temporary Tattoos for Eyes Face Body Forehead Make Up Festival Party\n",
      "Product 3: ZLIME Face Cleansing Brush Face Wash Brush Waterproof 4 Spin Brush Head for Deep Cleansing Gentle Exfoliating Makeup Remove Massaging Blackheads Removal (Blue)\n",
      "Product 4: Edge Shave Gel for Men Sensitive Pro Relief - 7 Ounce (Pack of 4)\n",
      "Product 5: CLOTHOBEAUTY 30 pcs Pro makeup brushes pen guard protector meshes cover set, black sleeves(for medium/large sizes brushes)\n",
      "Product 6: Michel Mercier Kids Detangling Brush Pink - For Normal Hair\n",
      "Product 7: LiveFine Foot Spa Massager - Heated Bath, Automatic Massage Rollers, Rain Shower, Pumice Stone\n",
      "Product 8: Truefitt & Hill Lavender Shaving Cream 190g/6.7oz\n",
      "Product 9: Red Polka Dot Bow Clips for Baby Girls Toddlers Hair Clips Costume Accessory: M3 (MC Clip-L)\n",
      "Product 10: Hanging Travel Toiletry Bag for Men Women,Toiletry Wash Bag with Hanging Hook Dopp Kit for Bathroom,Makeup Travel Accessories Shaving Kit Organiser Bag for Trip,Black\n",
      "\n",
      "\n",
      "Product 1: Tarrago Hightech Nano Protector Spray 6.26 Oz (2-Pack Bundle)\n",
      "Product 2: Michel Design Works Large Bath Soap Bar - Rhapsody\n",
      "Product 3: Washable 3-Layer Jersey Cotton Face Covering with Filter Pocket (Pack of 3)\n",
      "Product 4: Tresemme Shampoo Thick & Full 22 Ounce (650ml) (6 Pack)\n",
      "Product 5: April Violet Box of 3 Soaps 100gea bar by Yardley\n",
      "Product 6: Mirage Brands CLASSIC NO 1 PARIS (IMPRESSION PERFUME)\n",
      "Product 7: Jonathan Product Dirt Texturizing Paste 3.35 Oz\n",
      "Product 8: Kalaya Naturals Moisture Cream 120ml\n",
      "Product 9: Gabriel + Simone Reading Glasses - Paige Purple\n",
      "Product 10: 80 Acres Verde Eau De Cologne Spray - 1.7 oz\n"
     ]
    }
   ],
   "source": [
    "user_id = user_node_content_df.user_id.sample(1).item()\n",
    "print(user_id, \"\\n\")\n",
    "recomendations = recommend_products(base_gnn_model, user_id, user_mapping, product_mapping,\n",
    "                                     user_features, product_features, top_k=10)\n",
    "pretty_print_recomendations(recomendations, product_title_df, \"title\")\n",
    "print(\"\\n\")\n",
    "\n",
    "recomendations = recommend_products(GNNSAGE_model, user_id, user_mapping, product_mapping,\n",
    "                                     user_features, product_features, top_k=10)\n",
    "pretty_print_recomendations(recomendations, product_title_df, \"title\")"
   ]
  },
  {
   "cell_type": "markdown",
   "metadata": {},
   "source": [
    "# DCG@10 testing \n",
    "\n",
    "This section is not from the colab notebook.  \n",
    "Works to figure out the dcg@10 metric to compare against the paper  \n",
    "\n",
    "From what i see, we need to be able to pass in some form of sequence into the prection.  \n",
    "My current understanding is limited on how to tweak it to make it as such.  \n",
    "Instead perhaps what we can do is to treat the test set as the ground truth label itself   \n",
    "And then we do the same calcualtions  "
   ]
  },
  {
   "cell_type": "code",
   "execution_count": 37,
   "metadata": {},
   "outputs": [
    {
     "data": {
      "text/plain": [
       "(0.0, 0.0)"
      ]
     },
     "execution_count": 37,
     "metadata": {},
     "output_type": "execute_result"
    }
   ],
   "source": [
    "user_idx = random.choice(test_edge_index[0]).item()\n",
    "actual_prods = test_edge_index[1, test_edge_index[0] == user_idx]\n",
    "paper_evaluation(base_gnn_model, user_idx, actual_prods, len(product_mapping), user_features, product_features, top_k=10)"
   ]
  },
  {
   "cell_type": "code",
   "execution_count": 38,
   "metadata": {},
   "outputs": [],
   "source": [
    "# count = 0 \n",
    "# for user_idx in test_edge_index[0]:\n",
    "#     actual_prods = test_edge_index[1, test_edge_index[0] == user_idx]\n",
    "#     scores = paper_evaluation(base_gnn_model, user_idx, actual_prods, len(product_mapping), user_features, product_features, top_k=10)\n",
    "#     if scores[0] > 0 or scores[1] > 0:\n",
    "#         print(user_idx, scores)\n",
    "#         count += 1\n",
    "#     if count == 5:\n",
    "#         break"
   ]
  }
 ],
 "metadata": {
  "kernelspec": {
   "display_name": "dl_proj",
   "language": "python",
   "name": "python3"
  },
  "language_info": {
   "codemirror_mode": {
    "name": "ipython",
    "version": 3
   },
   "file_extension": ".py",
   "mimetype": "text/x-python",
   "name": "python",
   "nbconvert_exporter": "python",
   "pygments_lexer": "ipython3",
   "version": "3.12.9"
  }
 },
 "nbformat": 4,
 "nbformat_minor": 2
}
