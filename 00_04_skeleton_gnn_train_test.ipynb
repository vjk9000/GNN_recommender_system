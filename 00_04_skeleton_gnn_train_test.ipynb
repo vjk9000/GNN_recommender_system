{
 "cells": [
  {
   "cell_type": "code",
   "execution_count": 1,
   "id": "faab79af",
   "metadata": {},
   "outputs": [],
   "source": [
    "%load_ext autoreload\n",
    "%autoreload 2"
   ]
  },
  {
   "cell_type": "markdown",
   "id": "4c135a5c",
   "metadata": {},
   "source": [
    "# Introduction \n",
    "\n",
    "This is a template code with instructions on how to create and use the GNN model.   \n",
    "This notebook skeleton uses train only\n",
    "Straight away use test for the test\n",
    "\n",
    "For code without the instructions, look at `00_06_barebones_train_test.ipynb`  "
   ]
  },
  {
   "cell_type": "markdown",
   "id": "e31bd5b2",
   "metadata": {},
   "source": [
    "# Imports "
   ]
  },
  {
   "cell_type": "code",
   "execution_count": 18,
   "id": "6962fb86",
   "metadata": {},
   "outputs": [],
   "source": [
    "import pandas as pd\n",
    "import numpy as np\n",
    "import torch\n",
    "\n",
    "from utils.setup_nodes import create_edge_lists\n",
    "from utils.graph_helpers import train_model_without_test, plot_train_val_loss, final_evaluation\n",
    "from utils.graph_model import Base_GNN_Model\n",
    "from utils.general import seed_everything\n",
    "from utils.predictions import recommend_products, pretty_print_recomendations, evaluate_recall"
   ]
  },
  {
   "cell_type": "markdown",
   "id": "84f3eb4e",
   "metadata": {},
   "source": [
    "# Set seed"
   ]
  },
  {
   "cell_type": "code",
   "execution_count": 3,
   "id": "036c6543",
   "metadata": {},
   "outputs": [],
   "source": [
    "seed_everything()"
   ]
  },
  {
   "cell_type": "markdown",
   "id": "10aad281",
   "metadata": {},
   "source": [
    "# Set variables \n",
    "\n",
    "1. `user_split` is either `train_test_valid` or `train_test`\n",
    "2. `prod_embed_name` is the name of the embeddings to be used for product\n",
    "3. `user_embed_name` is the name of the embeddings to be used for user (note the files will be preprended with train/test/split)\n",
    "4. `*_dir` is the respective file paths\n",
    "5. `device` cuda or cpu depending on your machine\n",
    "6. `*_cols` the cols to load from the dataframes (change if you need to change the features)\n",
    "7. `fill_users` the method to fill up the new user data (zero or mean)"
   ]
  },
  {
   "cell_type": "code",
   "execution_count": 5,
   "id": "335eaf2c",
   "metadata": {},
   "outputs": [],
   "source": [
    "user_split = \"train_test\"\n",
    "prod_embed_name = \"meta_features_512\"\n",
    "user_embed_name = \"user_reviews_features_512\"\n",
    "\n",
    "data_dir = \"data\"\n",
    "product_dir = \"full_data\"\n",
    "embedding_dir = \"embedding\"\n",
    "\n",
    "device = \"cuda\"\n",
    "\n",
    "product_cols = [\"parent_asin\", \"average_rating\", \"rating_number\"]\n",
    "user_cols = [\"user_id\", \"rating_mean\", \"rating_count\", \"helpful_vote_mean\", \"helpful_vote_gte_1\", \"verified_purchase_mean\", \"last_active_in_days_min\",\n",
    "            \"last_active_in_days_max\", \"word_count_mean\"]\n",
    "edge_cols = [\"user_id\", \"parent_asin\", \"rating\"]\n",
    "\n",
    "fill_users = \"zero\""
   ]
  },
  {
   "cell_type": "markdown",
   "id": "4433f934",
   "metadata": {},
   "source": [
    "# Load data\n",
    "\n",
    "Take special attention to what is being loaded as a the test set.  \n",
    "Remember if you want test data, set the value of `user_split` to `train_test` in the previous cell\n",
    "\n",
    "Also, I am limiting the number of columns being read in. So edit accordingly to what colum values are needed for the current set up \n",
    "\n",
    "If there is more than 1 tensor for the embedding, sugesstion is to do a torch.cat into a single longer tensor first and then carry it on to the next step. So load under different name then join it back to as product_emebdding, train_user_embedding and test_user_embedding"
   ]
  },
  {
   "cell_type": "code",
   "execution_count": 6,
   "id": "8e78d280",
   "metadata": {},
   "outputs": [],
   "source": [
    "product_df = pd.read_parquet(f\"{data_dir}/{product_dir}/product_df.parquet\", columns = product_cols)\n",
    "train_user_df = pd.read_parquet(f\"{data_dir}/{user_split}_split/train_agg.parquet\", columns = user_cols)\n",
    "train_user_edges = pd.read_parquet(f\"{data_dir}/{user_split}_split/train.parquet\", columns = edge_cols)\n",
    "\n",
    "if user_split == \"train_test_valid\":\n",
    "    test_user_df = pd.read_parquet(f\"{data_dir}/{user_split}_split/valid_agg.parquet\", columns = user_cols)\n",
    "    test_user_edges = pd.read_parquet(f\"{data_dir}/{user_split}_split/valid.parquet\", columns = edge_cols)\n",
    "else:\n",
    "    test_user_df = pd.read_parquet(f\"{data_dir}/{user_split}_split/test_agg.parquet\", columns = user_cols)\n",
    "    test_user_edges = pd.read_parquet(f\"{data_dir}/{user_split}_split/test.parquet\", columns = edge_cols)\n"
   ]
  },
  {
   "cell_type": "code",
   "execution_count": 7,
   "id": "2dc6f785",
   "metadata": {},
   "outputs": [],
   "source": [
    "product_embedding = torch.load(f\"{data_dir}/{embedding_dir}/product/{prod_embed_name}.pt\")\n",
    "train_user_embedding = torch.load(f\"{data_dir}/{embedding_dir}/{user_split}_split/train_{user_embed_name}.pt\")\n",
    "if user_split == \"train_test_valid\":\n",
    "    test_user_embedding = torch.load(f\"{data_dir}/{embedding_dir}/{user_split}_split/valid_{user_embed_name}.pt\")\n",
    "else:\n",
    "    test_user_embedding = torch.load(f\"{data_dir}/{embedding_dir}/{user_split}_split/test_{user_embed_name}.pt\")"
   ]
  },
  {
   "cell_type": "markdown",
   "id": "f1edaced",
   "metadata": {},
   "source": [
    "# Make nodes\n",
    "\n",
    "We need to do a few things\n",
    "1. Make a super user df - so that all the nodes are inside the graph and the idx would be correct later\n",
    "2. Set up an index mapping from ids to idx (note that the product index need to be offeset)\n",
    "3. Concat information to form the product nodes\n",
    "4. Concat information to form the user nodes - only for the train users, test users need to init as something if they dont exist in train (maybe zero or mean)\n",
    "5. Create edge list for train and test (using the idx) \n",
    "\n",
    "For product nodes, we assume the df has information, less the ids. If there is no information, then change the creation accordingly  \n",
    "\n",
    "For the user nodes, for users in test but not in train, the current method is to user zero.  \n",
    "There is also a flag to fill with mean instead "
   ]
  },
  {
   "cell_type": "code",
   "execution_count": 8,
   "id": "51709e28",
   "metadata": {},
   "outputs": [],
   "source": [
    "# Add the embedding \n",
    "train_user_df[\"embedding\"] = list(train_user_embedding.numpy())\n",
    "test_user_df[\"embedding\"] = list(test_user_embedding.numpy())\n",
    "\n",
    "# Concat user nodes \n",
    "additional_test_users = test_user_df[~test_user_df.user_id.isin(train_user_df.user_id)].copy()\n",
    "\n",
    "## these are users that need to be zero-ed out \n",
    "additional_test_users = test_user_df[~test_user_df.user_id.isin(train_user_df.user_id)].copy()\n",
    "additional_test_users[\"embedding\"] = list(torch.zeros((len(additional_test_users), test_user_embedding.shape[1])).numpy())\n",
    "if fill_users == \"zero\":\n",
    "    additional_test_users.iloc[:, 1:-1] = 0\n",
    "elif fill_users == \"mean\":\n",
    "    additional_test_users.iloc[:, 1:-1] = train_user_df.iloc[:, 1:].mean()\n",
    "\n",
    "# Make super user df\n",
    "user_df = pd.concat([train_user_df, additional_test_users])"
   ]
  },
  {
   "cell_type": "code",
   "execution_count": 9,
   "id": "591e1931",
   "metadata": {},
   "outputs": [],
   "source": [
    "# Set up id mapping\n",
    "offset = user_df.user_id.nunique()\n",
    "user_id_to_idx = {unique_id : idx for idx, unique_id in enumerate(user_df.user_id.unique())}\n",
    "prod_id_to_idx = {unique_id : offset + idx for idx, unique_id in enumerate(product_df.parent_asin.unique())}\n",
    "\n",
    "# Add to df\n",
    "product_df[\"prod_idx\"] = product_df.parent_asin.apply(lambda x: prod_id_to_idx[x])\n",
    "train_user_edges[\"user_idx\"] = train_user_edges.user_id.apply(lambda x: user_id_to_idx[x])\n",
    "test_user_edges[\"user_idx\"] = test_user_edges.user_id.apply(lambda x: user_id_to_idx[x])\n",
    "train_user_edges[\"prod_idx\"] = train_user_edges.parent_asin.apply(lambda x: prod_id_to_idx[x])\n",
    "test_user_edges[\"prod_idx\"] = test_user_edges.parent_asin.apply(lambda x: prod_id_to_idx[x])"
   ]
  },
  {
   "cell_type": "code",
   "execution_count": 10,
   "id": "f2105813",
   "metadata": {},
   "outputs": [],
   "source": [
    "# Concat product nodes \n",
    "product_nodes = torch.cat([torch.tensor(product_df.drop([\"parent_asin\", \"prod_idx\"], axis = 1).to_numpy()), product_embedding], dim = 1)"
   ]
  },
  {
   "cell_type": "code",
   "execution_count": 11,
   "id": "775f57ca",
   "metadata": {},
   "outputs": [],
   "source": [
    "# concat user nodes \n",
    "user_embed = torch.tensor(np.vstack(user_df[\"embedding\"].values))\n",
    "user_info = torch.tensor(user_df.drop([\"user_id\", \"embedding\"], axis = 1).to_numpy())\n",
    "user_nodes = torch.cat([user_info, user_embed], dim = 1)"
   ]
  },
  {
   "cell_type": "code",
   "execution_count": 12,
   "id": "5ccf9384",
   "metadata": {},
   "outputs": [],
   "source": [
    "# Create edge list\n",
    "train_edge_index, train_edge_weights = create_edge_lists(train_user_edges)\n",
    "test_edge_index, test_edge_weights = create_edge_lists(train_user_edges)"
   ]
  },
  {
   "cell_type": "markdown",
   "id": "ea9311e4",
   "metadata": {},
   "source": [
    "# Move to GPU \n",
    "\n",
    "This is placed here for clarity "
   ]
  },
  {
   "cell_type": "code",
   "execution_count": 13,
   "id": "8118624f",
   "metadata": {},
   "outputs": [],
   "source": [
    "product_nodes = product_nodes.type(torch.float).to(device)\n",
    "user_nodes = user_nodes.type(torch.float).to(device)\n",
    "train_edge_index = train_edge_index.to(device)\n",
    "train_edge_weights = train_edge_weights.to(device)\n",
    "test_edge_index = test_edge_index.to(device)\n",
    "test_edge_weights = test_edge_weights.to(device)"
   ]
  },
  {
   "cell_type": "markdown",
   "id": "c0f10702",
   "metadata": {},
   "source": [
    "# Instantiate the model\n",
    "\n",
    "Whatever the model is decided, create it here  \n",
    "ideally assign it to model so easier for the overall run  \n",
    "\n",
    "The model when instantiating will take in the following variables (based on the default architecture that we are doing)\n",
    "1. number of users - create extra embeddings for each user\n",
    "2. number of products - create extra embedding for each product\n",
    "3. user feature dimensions - size of self created information for users\n",
    "4. product feature dimensions - size of self created information for products\n",
    "5. embedding dim - what size the features reduce to (for default base model, this was the same for every place)\n",
    "\n",
    "If you make any changes, feel free to edit accordingly\n",
    "\n",
    "Finally don't forget to move the model to gpu "
   ]
  },
  {
   "cell_type": "code",
   "execution_count": 14,
   "id": "6576d80a",
   "metadata": {},
   "outputs": [],
   "source": [
    "# Set up model features\n",
    "num_users = len(user_df)\n",
    "num_products = len(product_df)\n",
    "user_feature_dim = user_nodes.shape[1]\n",
    "product_feature_dim = product_nodes.shape[1]\n",
    "embedding_dim = 64"
   ]
  },
  {
   "cell_type": "code",
   "execution_count": 15,
   "id": "def696ad",
   "metadata": {},
   "outputs": [],
   "source": [
    "# Instantiate the model\n",
    "model = Base_GNN_Model(num_users, num_products, user_feature_dim, product_feature_dim, embedding_dim)"
   ]
  },
  {
   "cell_type": "code",
   "execution_count": 16,
   "id": "5010171b",
   "metadata": {},
   "outputs": [
    {
     "data": {
      "text/plain": [
       "Base_GNN_Model(\n",
       "  (user_embedding): Embedding(474892, 64)\n",
       "  (product_embedding): Embedding(89060, 64)\n",
       "  (user_feature_transform): Linear(in_features=776, out_features=64, bias=True)\n",
       "  (product_feature_transform): Linear(in_features=770, out_features=64, bias=True)\n",
       "  (conv1): GCNConv(64, 64)\n",
       "  (conv2): GCNConv(64, 64)\n",
       "  (predictor): Sequential(\n",
       "    (0): Linear(in_features=128, out_features=64, bias=True)\n",
       "    (1): ReLU()\n",
       "    (2): Linear(in_features=64, out_features=1, bias=True)\n",
       "  )\n",
       ")"
      ]
     },
     "execution_count": 16,
     "metadata": {},
     "output_type": "execute_result"
    }
   ],
   "source": [
    "# move the model \n",
    "model.to(device)"
   ]
  },
  {
   "cell_type": "markdown",
   "id": "5f43ded2",
   "metadata": {},
   "source": [
    "# Train the model \n",
    "\n",
    "Pass the model, data and all into a loop and let it train \n",
    "\n",
    "**WARN**  \n",
    "The combining of edges is done inside the trianing loop (bipartite back link)"
   ]
  },
  {
   "cell_type": "code",
   "execution_count": 19,
   "id": "1c888e6c",
   "metadata": {},
   "outputs": [],
   "source": [
    "train_losses = train_model_without_test(model, train_edge_index, train_edge_weights, user_nodes, product_nodes, num_epochs = 100)"
   ]
  },
  {
   "cell_type": "code",
   "execution_count": 20,
   "id": "e8886b3d",
   "metadata": {},
   "outputs": [
    {
     "data": {
      "image/png": "[encoded data removed]",
      "text/plain": [
       "<Figure size 650x340 with 1 Axes>"
      ]
     },
     "metadata": {},
     "output_type": "display_data"
    }
   ],
   "source": [
    "plot_train_val_loss(train_losses)"
   ]
  },
  {
   "cell_type": "markdown",
   "id": "0ac6a6a0",
   "metadata": {},
   "source": [
    "# Final model performance \n",
    "\n",
    "This is simply to load the best model during training and to print that loss  \n",
    "Has no other purpose "
   ]
  },
  {
   "cell_type": "code",
   "execution_count": 21,
   "id": "6c440476",
   "metadata": {},
   "outputs": [
    {
     "name": "stdout",
     "output_type": "stream",
     "text": [
      "Test loss: 2.7167\n"
     ]
    }
   ],
   "source": [
    "final_evaluation(model, test_edge_index, test_edge_weights, user_nodes, product_nodes, device)"
   ]
  },
  {
   "cell_type": "markdown",
   "id": "14a3e6d0",
   "metadata": {},
   "source": [
    "# Metrics \n",
    "\n",
    "We have two kinds\n",
    "1. Recall at 10\n",
    "2. NDCG at 10\n",
    "\n",
    "The recall takes about ___ mins and will generally be bad   \n",
    "NDCG is a work in progress so TBC"
   ]
  },
  {
   "cell_type": "code",
   "execution_count": 25,
   "id": "3e1e88d8",
   "metadata": {},
   "outputs": [],
   "source": [
    "product_idx_tensor = torch.tensor(list(prod_id_to_idx.values()), dtype=torch.long)"
   ]
  },
  {
   "cell_type": "code",
   "execution_count": null,
   "id": "77bfdc22",
   "metadata": {},
   "outputs": [],
   "source": [
    "# recall \n",
    "# evaluate_recall(model, test_edge_index, 10, 32, user_nodes, product_nodes, product_idx_tensor, device)"
   ]
  },
  {
   "cell_type": "markdown",
   "id": "5452c781",
   "metadata": {},
   "source": [
    "# Show recomendations \n",
    "\n",
    "This is just to sample and see what kind of results we get   \n",
    "I am going to do three kinds of sampling\n",
    "1. Pure random of the test set \n",
    "2. Select test set that have some existance in the training set \n",
    "3. Take the test set that dont have existance in the training set but use their user node information \n",
    "\n",
    "\n",
    "But first we need to create a reverse mapping that does the offset \n",
    "Also need to load up a df to map ids to titles"
   ]
  },
  {
   "cell_type": "code",
   "execution_count": 22,
   "id": "30ceeb8b",
   "metadata": {},
   "outputs": [],
   "source": [
    "title_mapping = pd.read_parquet(f\"{data_dir}/{product_dir}/product_df.parquet\", columns = [\"parent_asin\", \"title\"])\n",
    "prod_idx_to_id = {idx - offset: asin for asin, idx in prod_id_to_idx.items()}"
   ]
  },
  {
   "cell_type": "code",
   "execution_count": 48,
   "id": "d4361e15",
   "metadata": {},
   "outputs": [
    {
     "name": "stdout",
     "output_type": "stream",
     "text": [
      "Product 1: Finest Remy Brazilian Deep Wave 100% Unprocessed Virgin Brazilian Hair 4 Bundles 7A Deep Curly Human Hair Extensions (16161616+14, 1B/30 7A)\n",
      "Product 2: BCQueen Hair 4 bundles Brazilian Ombre Deep Wave with Closure (18\"18\"18\"18\"+16Closure)100% Unprocessed Virgin Brazilian Hair Bundles Ombre Deep Curly with Closure Human Hair Extensions T1B/30\n",
      "Product 3: 5 Piece Perfume Gift Set for Women - Inspired by Victoria's Secret, JC, Ariana Grande, and Rihanna. 0.33Fl.Oz./10Ml.\n",
      "Product 4: Brazilian Ombre Afro Kinky Curly Drawstring Ponytail Hair 4b4c Three Tone Ombre 1b/4/27 Afro Hair Ponytail Human Hair With Clips Brazilian Virgin Human Hair (16inch, ombre afro ponytail)\n",
      "Product 5: 3 Bundles with Frontal Body Wave 14 14 14 with 12 Frontal 10A Brazilian Virgin Real Human Hair Bundles with Closure 13x4 Lace Front Wig Natural Color\n",
      "Product 6: Lovrio Ombre Clip Ins Kinkys Curly Hair Extensions Brazilian Virgin Human Hair Tone Natural Black Fading into Caramel Blonde Color 7 Pieces 120g KCTN/27 16\"\n",
      "Product 7: 21AE Silky Straight Lace Front Wigs with Baby Hair Pre plucked Frontal 22 Inch Synthetic Wigs for Black Women Heat Resistant Fiber Wigs Middle Parting Natural Color Wig\n",
      "Product 8: Victoria's Secret Fantasies Mango Temptation EDT Perfume\n",
      "Product 9: Sidaila Short Wig Green Bob Wigs for Women Middle Part Straight Wig Heat Resistant Synthetic Wigs Middle Part Cosplay Costume Wig with Free Wig Cap (Green)\n",
      "Product 10: Hair Bundle Unprocessed 19 Inch #Apricot\n"
     ]
    }
   ],
   "source": [
    "# The pure random \n",
    "user_id = test_user_df.user_id.sample(1).item()\n",
    "recommended_products, predictions = recommend_products(model, user_id, user_id_to_idx, prod_id_to_idx, user_nodes, product_nodes, \n",
    "                                                       prod_idx_to_id, top_k=10, device = device)\n",
    "pretty_print_recomendations(recommended_products, title_mapping, \"title\")"
   ]
  },
  {
   "cell_type": "code",
   "execution_count": 24,
   "id": "37722027",
   "metadata": {},
   "outputs": [],
   "source": [
    "# The user with some data \n",
    "existing_test_users = test_user_df[test_user_df.user_id.isin(train_user_df.user_id)].copy()[[\"user_id\"]]"
   ]
  },
  {
   "cell_type": "code",
   "execution_count": null,
   "id": "bda083de",
   "metadata": {},
   "outputs": [
    {
     "name": "stdout",
     "output_type": "stream",
     "text": [
      "Product 1: Finest Remy Brazilian Deep Wave 100% Unprocessed Virgin Brazilian Hair 4 Bundles 7A Deep Curly Human Hair Extensions (16161616+14, 1B/30 7A)\n",
      "Product 2: BCQueen Hair 4 bundles Brazilian Ombre Deep Wave with Closure (18\"18\"18\"18\"+16Closure)100% Unprocessed Virgin Brazilian Hair Bundles Ombre Deep Curly with Closure Human Hair Extensions T1B/30\n",
      "Product 3: 5 Piece Perfume Gift Set for Women - Inspired by Victoria's Secret, JC, Ariana Grande, and Rihanna. 0.33Fl.Oz./10Ml.\n",
      "Product 4: 3 Bundles with Frontal Body Wave 14 14 14 with 12 Frontal 10A Brazilian Virgin Real Human Hair Bundles with Closure 13x4 Lace Front Wig Natural Color\n",
      "Product 5: Brazilian Ombre Afro Kinky Curly Drawstring Ponytail Hair 4b4c Three Tone Ombre 1b/4/27 Afro Hair Ponytail Human Hair With Clips Brazilian Virgin Human Hair (16inch, ombre afro ponytail)\n",
      "Product 6: Lovrio Ombre Clip Ins Kinkys Curly Hair Extensions Brazilian Virgin Human Hair Tone Natural Black Fading into Caramel Blonde Color 7 Pieces 120g KCTN/27 16\"\n",
      "Product 7: Sidaila Short Wig Green Bob Wigs for Women Middle Part Straight Wig Heat Resistant Synthetic Wigs Middle Part Cosplay Costume Wig with Free Wig Cap (Green)\n",
      "Product 8: 21AE Silky Straight Lace Front Wigs with Baby Hair Pre plucked Frontal 22 Inch Synthetic Wigs for Black Women Heat Resistant Fiber Wigs Middle Parting Natural Color Wig\n",
      "Product 9: Hair Bundle Unprocessed 19 Inch #Apricot\n",
      "Product 10: Body Wave Clip in Hair Extensions Human Hair 7 Pieces 70g Clip On Extensions Stawberry Blonde Wavy Weft Remy Real Hair 18 Inch\n"
     ]
    },
    {
     "ename": "",
     "evalue": "",
     "output_type": "error",
     "traceback": [
      "\u001b[1;31mThe Kernel crashed while executing code in the current cell or a previous cell. \n",
      "\u001b[1;31mPlease review the code in the cell(s) to identify a possible cause of the failure. \n",
      "\u001b[1;31mClick <a href='https://aka.ms/vscodeJupyterKernelCrash'>here</a> for more info. \n",
      "\u001b[1;31mView Jupyter <a href='command:jupyter.viewOutput'>log</a> for further details."
     ]
    }
   ],
   "source": [
    "user_id = existing_test_users.user_id.sample(1).item()\n",
    "recommended_products, predictions = recommend_products(model, user_id, user_id_to_idx, prod_id_to_idx, user_nodes, product_nodes, \n",
    "                                                       prod_idx_to_id, top_k=10, device = device)\n",
    "pretty_print_recomendations(recommended_products, title_mapping, \"title\")"
   ]
  },
  {
   "cell_type": "code",
   "execution_count": 26,
   "id": "38f718d9",
   "metadata": {},
   "outputs": [],
   "source": [
    "# The boosted way\n",
    "# This is just to see if existing data (a bit of data leak) can help improve performance \n",
    "boosted_additional_test_users = test_user_df[~test_user_df.user_id.isin(train_user_df.user_id)].copy()\n",
    "boosted_user_df = pd.concat([train_user_df, boosted_additional_test_users])\n",
    "boosted_user_embed = torch.tensor(np.vstack(boosted_user_df[\"embedding\"].values))\n",
    "boosted_user_info = torch.tensor(boosted_user_df.drop([\"user_id\", \"embedding\"], axis = 1).to_numpy())\n",
    "boosted_user_nodes = torch.cat([boosted_user_embed, boosted_user_info], dim = 1)"
   ]
  },
  {
   "cell_type": "code",
   "execution_count": 37,
   "id": "2ba63127",
   "metadata": {},
   "outputs": [
    {
     "name": "stdout",
     "output_type": "stream",
     "text": [
      "Product 1: Finest Remy Brazilian Deep Wave 100% Unprocessed Virgin Brazilian Hair 4 Bundles 7A Deep Curly Human Hair Extensions (16161616+14, 1B/30 7A)\n",
      "Product 2: BCQueen Hair 4 bundles Brazilian Ombre Deep Wave with Closure (18\"18\"18\"18\"+16Closure)100% Unprocessed Virgin Brazilian Hair Bundles Ombre Deep Curly with Closure Human Hair Extensions T1B/30\n",
      "Product 3: 5 Piece Perfume Gift Set for Women - Inspired by Victoria's Secret, JC, Ariana Grande, and Rihanna. 0.33Fl.Oz./10Ml.\n",
      "Product 4: 3 Bundles with Frontal Body Wave 14 14 14 with 12 Frontal 10A Brazilian Virgin Real Human Hair Bundles with Closure 13x4 Lace Front Wig Natural Color\n",
      "Product 5: Brazilian Ombre Afro Kinky Curly Drawstring Ponytail Hair 4b4c Three Tone Ombre 1b/4/27 Afro Hair Ponytail Human Hair With Clips Brazilian Virgin Human Hair (16inch, ombre afro ponytail)\n",
      "Product 6: Lovrio Ombre Clip Ins Kinkys Curly Hair Extensions Brazilian Virgin Human Hair Tone Natural Black Fading into Caramel Blonde Color 7 Pieces 120g KCTN/27 16\"\n",
      "Product 7: Sidaila Short Wig Green Bob Wigs for Women Middle Part Straight Wig Heat Resistant Synthetic Wigs Middle Part Cosplay Costume Wig with Free Wig Cap (Green)\n",
      "Product 8: Body Wave Clip in Hair Extensions Human Hair 7 Pieces 70g Clip On Extensions Stawberry Blonde Wavy Weft Remy Real Hair 18 Inch\n",
      "Product 9: Hair Bundle Unprocessed 19 Inch #Apricot\n",
      "Product 10: 21AE Silky Straight Lace Front Wigs with Baby Hair Pre plucked Frontal 22 Inch Synthetic Wigs for Black Women Heat Resistant Fiber Wigs Middle Parting Natural Color Wig\n"
     ]
    }
   ],
   "source": [
    "user_id = boosted_user_df.user_id.sample(1).item()\n",
    "recommended_products, predictions = recommend_products(model, user_id, user_id_to_idx, prod_id_to_idx, user_nodes, product_nodes, \n",
    "                                                       prod_idx_to_id, top_k=10, device = device)\n",
    "pretty_print_recomendations(recommended_products, title_mapping, \"title\")"
   ]
  }
 ],
 "metadata": {
  "kernelspec": {
   "display_name": "dl_proj",
   "language": "python",
   "name": "python3"
  },
  "language_info": {
   "codemirror_mode": {
    "name": "ipython",
    "version": 3
   },
   "file_extension": ".py",
   "mimetype": "text/x-python",
   "name": "python",
   "nbconvert_exporter": "python",
   "pygments_lexer": "ipython3",
   "version": "3.12.9"
  }
 },
 "nbformat": 4,
 "nbformat_minor": 5
}
