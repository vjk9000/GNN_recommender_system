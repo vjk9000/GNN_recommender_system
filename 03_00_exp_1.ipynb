{
 "cells": [
  {
   "cell_type": "code",
   "execution_count": 1,
   "id": "faab79af",
   "metadata": {},
   "outputs": [],
   "source": [
    "%load_ext autoreload\n",
    "%autoreload 2"
   ]
  },
  {
   "cell_type": "markdown",
   "id": "e1ebf3f9",
   "metadata": {},
   "source": [
    "# Introduction \n",
    "\n",
    "This notebook is the first architecture experiment. Modifications done:\n",
    "1. remove the nn.embedding\n",
    "2. added a dot product before final predictor layer"
   ]
  },
  {
   "cell_type": "markdown",
   "id": "4b5dbf6d",
   "metadata": {},
   "source": [
    "# Imports"
   ]
  },
  {
   "cell_type": "code",
   "execution_count": 2,
   "id": "6962fb86",
   "metadata": {},
   "outputs": [],
   "source": [
    "import pandas as pd\n",
    "import numpy as np\n",
    "import torch\n",
    "\n",
    "from utils.setup_nodes import create_edge_lists\n",
    "from utils.graph_helpers import train_model, plot_train_val_loss, final_evaluation\n",
    "from utils.graph_model import Experiment_1\n",
    "from utils.general import seed_everything\n",
    "from utils.predictions import recommend_products, pretty_print_recomendations, get_top_k_preds"
   ]
  },
  {
   "cell_type": "markdown",
   "id": "98ec0cbf",
   "metadata": {},
   "source": [
    "# Set up"
   ]
  },
  {
   "cell_type": "code",
   "execution_count": 3,
   "id": "036c6543",
   "metadata": {},
   "outputs": [],
   "source": [
    "seed_everything()"
   ]
  },
  {
   "cell_type": "code",
   "execution_count": 4,
   "id": "335eaf2c",
   "metadata": {},
   "outputs": [],
   "source": [
    "user_split = \"train_test_valid\"\n",
    "prod_embed_name = \"meta_features_512\"\n",
    "user_embed_name = \"user_reviews_features_512\"\n",
    "\n",
    "data_dir = \"data\"\n",
    "product_dir = \"full_data\"\n",
    "embedding_dir = \"embedding\"\n",
    "\n",
    "device = \"cuda\"\n",
    "\n",
    "product_cols = [\"parent_asin\", \"average_rating\", \"rating_number\"]\n",
    "user_cols = [\"user_id\", \"rating_mean\", \"rating_count\", \"helpful_vote_mean\", \"helpful_vote_gte_1\", \"verified_purchase_mean\", \"last_active_in_days_min\",\n",
    "            \"last_active_in_days_max\", \"word_count_mean\"]\n",
    "edge_cols = [\"user_id\", \"parent_asin\", \"rating\"]\n",
    "\n",
    "fill_users = \"zero\""
   ]
  },
  {
   "cell_type": "markdown",
   "id": "d6ad15db",
   "metadata": {},
   "source": [
    "# Load data"
   ]
  },
  {
   "cell_type": "code",
   "execution_count": 5,
   "id": "8e78d280",
   "metadata": {},
   "outputs": [],
   "source": [
    "product_df = pd.read_parquet(f\"{data_dir}/{product_dir}/product_df.parquet\", columns = product_cols)\n",
    "train_user_df = pd.read_parquet(f\"{data_dir}/{user_split}_split/train_agg.parquet\", columns = user_cols)\n",
    "train_user_edges = pd.read_parquet(f\"{data_dir}/{user_split}_split/train.parquet\", columns = edge_cols)\n",
    "\n",
    "if user_split == \"train_test_valid\":\n",
    "    test_user_df = pd.read_parquet(f\"{data_dir}/{user_split}_split/valid_agg.parquet\", columns = user_cols)\n",
    "    test_user_edges = pd.read_parquet(f\"{data_dir}/{user_split}_split/valid.parquet\", columns = edge_cols)\n",
    "else:\n",
    "    test_user_df = pd.read_parquet(f\"{data_dir}/{user_split}_split/test_agg.parquet\", columns = user_cols)\n",
    "    test_user_edges = pd.read_parquet(f\"{data_dir}/{user_split}_split/test.parquet\", columns = edge_cols)\n"
   ]
  },
  {
   "cell_type": "code",
   "execution_count": 6,
   "id": "2dc6f785",
   "metadata": {},
   "outputs": [],
   "source": [
    "product_embedding = torch.load(f\"{data_dir}/{embedding_dir}/product/{prod_embed_name}.pt\")\n",
    "train_user_embedding = torch.load(f\"{data_dir}/{embedding_dir}/{user_split}_split/train_{user_embed_name}.pt\")\n",
    "if user_split == \"train_test_valid\":\n",
    "    test_user_embedding = torch.load(f\"{data_dir}/{embedding_dir}/{user_split}_split/valid_{user_embed_name}.pt\")\n",
    "else:\n",
    "    test_user_embedding = torch.load(f\"{data_dir}/{embedding_dir}/{user_split}_split/test_{user_embed_name}.pt\")"
   ]
  },
  {
   "cell_type": "markdown",
   "id": "331ba499",
   "metadata": {},
   "source": [
    "# Make nodes"
   ]
  },
  {
   "cell_type": "code",
   "execution_count": 7,
   "id": "51709e28",
   "metadata": {},
   "outputs": [],
   "source": [
    "# Add the embedding \n",
    "train_user_df[\"embedding\"] = list(train_user_embedding.numpy())\n",
    "test_user_df[\"embedding\"] = list(test_user_embedding.numpy())\n",
    "\n",
    "# Concat user nodes \n",
    "additional_test_users = test_user_df[~test_user_df.user_id.isin(train_user_df.user_id)].copy()\n",
    "\n",
    "## these are users that need to be zero-ed out \n",
    "additional_test_users = test_user_df[~test_user_df.user_id.isin(train_user_df.user_id)].copy()\n",
    "additional_test_users[\"embedding\"] = list(torch.zeros((len(additional_test_users), test_user_embedding.shape[1])).numpy())\n",
    "if fill_users == \"zero\":\n",
    "    additional_test_users.iloc[:, 1:-1] = 0\n",
    "elif fill_users == \"mean\":\n",
    "    additional_test_users.iloc[:, 1:-1] = train_user_df.iloc[:, 1:].mean()\n",
    "\n",
    "# Make super user df\n",
    "user_df = pd.concat([train_user_df, additional_test_users])"
   ]
  },
  {
   "cell_type": "code",
   "execution_count": 8,
   "id": "591e1931",
   "metadata": {},
   "outputs": [],
   "source": [
    "# Set up id mapping\n",
    "offset = user_df.user_id.nunique()\n",
    "user_id_to_idx = {unique_id : idx for idx, unique_id in enumerate(user_df.user_id.unique())}\n",
    "prod_id_to_idx = {unique_id : offset + idx for idx, unique_id in enumerate(product_df.parent_asin.unique())}\n",
    "\n",
    "# Add to df\n",
    "product_df[\"prod_idx\"] = product_df.parent_asin.apply(lambda x: prod_id_to_idx[x])\n",
    "train_user_edges[\"user_idx\"] = train_user_edges.user_id.apply(lambda x: user_id_to_idx[x])\n",
    "test_user_edges[\"user_idx\"] = test_user_edges.user_id.apply(lambda x: user_id_to_idx[x])\n",
    "train_user_edges[\"prod_idx\"] = train_user_edges.parent_asin.apply(lambda x: prod_id_to_idx[x])\n",
    "test_user_edges[\"prod_idx\"] = test_user_edges.parent_asin.apply(lambda x: prod_id_to_idx[x])"
   ]
  },
  {
   "cell_type": "code",
   "execution_count": 9,
   "id": "f2105813",
   "metadata": {},
   "outputs": [],
   "source": [
    "# Concat product nodes \n",
    "product_nodes = torch.cat([torch.tensor(product_df.drop([\"parent_asin\", \"prod_idx\"], axis = 1).to_numpy()), product_embedding], dim = 1)"
   ]
  },
  {
   "cell_type": "code",
   "execution_count": 10,
   "id": "775f57ca",
   "metadata": {},
   "outputs": [],
   "source": [
    "# concat user nodes \n",
    "user_embed = torch.tensor(np.vstack(user_df[\"embedding\"].values))\n",
    "user_info = torch.tensor(user_df.drop([\"user_id\", \"embedding\"], axis = 1).to_numpy())\n",
    "user_nodes = torch.cat([user_info, user_embed], dim = 1)"
   ]
  },
  {
   "cell_type": "code",
   "execution_count": 11,
   "id": "5ccf9384",
   "metadata": {},
   "outputs": [],
   "source": [
    "# Create edge list\n",
    "train_edge_index, train_edge_weights = create_edge_lists(train_user_edges)\n",
    "test_edge_index, test_edge_weights = create_edge_lists(train_user_edges)"
   ]
  },
  {
   "cell_type": "markdown",
   "id": "ea9311e4",
   "metadata": {},
   "source": [
    "# Move to GPU "
   ]
  },
  {
   "cell_type": "code",
   "execution_count": 12,
   "id": "8118624f",
   "metadata": {},
   "outputs": [],
   "source": [
    "product_nodes = product_nodes.type(torch.float).to(device)\n",
    "user_nodes = user_nodes.type(torch.float).to(device)\n",
    "train_edge_index = train_edge_index.to(device)\n",
    "train_edge_weights = train_edge_weights.to(device)\n",
    "test_edge_index = test_edge_index.to(device)\n",
    "test_edge_weights = test_edge_weights.to(device)"
   ]
  },
  {
   "cell_type": "markdown",
   "id": "d8d2ac3a",
   "metadata": {},
   "source": [
    "# Model"
   ]
  },
  {
   "cell_type": "code",
   "execution_count": 13,
   "id": "6576d80a",
   "metadata": {},
   "outputs": [],
   "source": [
    "# Set up model features\n",
    "num_users = len(user_df)\n",
    "num_products = len(product_df)\n",
    "user_feature_dim = user_nodes.shape[1]\n",
    "product_feature_dim = product_nodes.shape[1]\n",
    "embedding_dim = 64"
   ]
  },
  {
   "cell_type": "code",
   "execution_count": 14,
   "id": "def696ad",
   "metadata": {},
   "outputs": [],
   "source": [
    "# Instantiate the model\n",
    "model = Experiment_1(num_users, num_products, user_feature_dim, product_feature_dim, embedding_dim)"
   ]
  },
  {
   "cell_type": "code",
   "execution_count": 15,
   "id": "5010171b",
   "metadata": {},
   "outputs": [
    {
     "data": {
      "text/plain": [
       "Experiment_1(\n",
       "  (user_feature_transform): Linear(in_features=776, out_features=64, bias=True)\n",
       "  (product_feature_transform): Linear(in_features=770, out_features=64, bias=True)\n",
       "  (conv1): GCNConv(64, 64)\n",
       "  (conv2): GCNConv(64, 64)\n",
       "  (predictor): Sequential(\n",
       "    (0): Linear(in_features=64, out_features=64, bias=True)\n",
       "    (1): ReLU()\n",
       "    (2): Linear(in_features=64, out_features=1, bias=True)\n",
       "  )\n",
       ")"
      ]
     },
     "execution_count": 15,
     "metadata": {},
     "output_type": "execute_result"
    }
   ],
   "source": [
    "# move the model \n",
    "model.to(device)"
   ]
  },
  {
   "cell_type": "markdown",
   "id": "4833123e",
   "metadata": {},
   "source": [
    "# Train"
   ]
  },
  {
   "cell_type": "code",
   "execution_count": 16,
   "id": "623b2e32",
   "metadata": {},
   "outputs": [
    {
     "name": "stdout",
     "output_type": "stream",
     "text": [
      "Epoch: 100, Train Loss: 2.0337, Val Loss: 2.0296, best model epoch: 100\n",
      "Epoch: 200, Train Loss: 0.9413, Val Loss: 0.8536, best model epoch: 200\n",
      "Epoch: 300, Train Loss: 0.7784, Val Loss: 0.7622, best model epoch: 247\n",
      "Epoch: 400, Train Loss: 0.5663, Val Loss: 0.5077, best model epoch: 400\n",
      "Epoch: 500, Train Loss: 0.4850, Val Loss: 0.4433, best model epoch: 459\n",
      "Epoch: 600, Train Loss: 0.5877, Val Loss: 0.4619, best model epoch: 564\n",
      "Epoch: 700, Train Loss: 0.2738, Val Loss: 0.2477, best model epoch: 699\n",
      "Epoch: 800, Train Loss: 0.2370, Val Loss: 0.2051, best model epoch: 798\n",
      "Epoch: 900, Train Loss: 0.4803, Val Loss: 0.4098, best model epoch: 818\n",
      "Epoch: 1000, Train Loss: 0.6023, Val Loss: 0.9411, best model epoch: 818\n"
     ]
    }
   ],
   "source": [
    "train_loss, test_loss, best_model = train_model(model, train_edge_index, train_edge_weights, test_edge_index, test_edge_weights, \n",
    "                                                 user_nodes, product_nodes, num_epochs = 1000, print_progress=True, print_freq=100)"
   ]
  },
  {
   "cell_type": "code",
   "execution_count": 17,
   "id": "2ed45815",
   "metadata": {},
   "outputs": [
    {
     "data": {
      "image/png": "[encoded data removed]",
      "text/plain": [
       "<Figure size 650x340 with 1 Axes>"
      ]
     },
     "metadata": {},
     "output_type": "display_data"
    }
   ],
   "source": [
    "plot_train_val_loss(train_loss, test_loss)"
   ]
  },
  {
   "cell_type": "markdown",
   "id": "aa226330",
   "metadata": {},
   "source": [
    "# Test"
   ]
  },
  {
   "cell_type": "code",
   "execution_count": 18,
   "id": "6c440476",
   "metadata": {},
   "outputs": [
    {
     "name": "stdout",
     "output_type": "stream",
     "text": [
      "Test loss: 0.1896\n"
     ]
    },
    {
     "data": {
      "image/png": "[encoded data removed]",
      "text/plain": [
       "<Figure size 650x340 with 1 Axes>"
      ]
     },
     "metadata": {},
     "output_type": "display_data"
    }
   ],
   "source": [
    "model.load_state_dict(best_model)\n",
    "final_evaluation(model, test_edge_index, test_edge_weights, user_nodes, product_nodes, device, True)"
   ]
  },
  {
   "cell_type": "markdown",
   "id": "14a3e6d0",
   "metadata": {},
   "source": [
    "# Metrics "
   ]
  },
  {
   "cell_type": "code",
   "execution_count": 19,
   "id": "504f446c",
   "metadata": {},
   "outputs": [],
   "source": [
    "product_idx_tensor = torch.tensor(list(prod_id_to_idx.values()), dtype=torch.long, device = device)\n",
    "test_edges_grp = test_user_edges.groupby(\"user_idx\").prod_idx.apply(list).reset_index()\n",
    "test_edges_users = test_edges_grp.user_idx.to_list()"
   ]
  },
  {
   "cell_type": "code",
   "execution_count": 20,
   "id": "46d33755",
   "metadata": {},
   "outputs": [],
   "source": [
    "predictions = get_top_k_preds(model, test_edges_users, 10, 32, user_nodes, product_nodes, product_idx_tensor, device) # about 5 min to run\n",
    "test_edges_grp[\"prediction\"] = list(torch.vstack(predictions).cpu().numpy())\n",
    "test_edges_grp[\"match_count\"] = test_edges_grp.apply(lambda x: len(set(x.prod_idx).intersection(set(x.prediction))), axis = 1)"
   ]
  },
  {
   "cell_type": "code",
   "execution_count": 21,
   "id": "ddbd4200",
   "metadata": {},
   "outputs": [
    {
     "data": {
      "text/plain": [
       "np.float64(0.0)"
      ]
     },
     "execution_count": 21,
     "metadata": {},
     "output_type": "execute_result"
    }
   ],
   "source": [
    "# Overall recall\n",
    "(test_edges_grp[\"match_count\"] / test_edges_grp.prod_idx.apply(len)).mean()"
   ]
  },
  {
   "cell_type": "code",
   "execution_count": 22,
   "id": "4165214f",
   "metadata": {},
   "outputs": [
    {
     "data": {
      "text/plain": [
       "np.float64(0.0)"
      ]
     },
     "execution_count": 22,
     "metadata": {},
     "output_type": "execute_result"
    }
   ],
   "source": [
    "# Only those with prior history \n",
    "existing_test_edges_grp = test_edges_grp[test_edges_grp.user_idx.isin(train_user_df.user_id.apply(lambda x: user_id_to_idx[x]))]\n",
    "(existing_test_edges_grp[\"match_count\"] / existing_test_edges_grp.prod_idx.apply(len)).mean()"
   ]
  },
  {
   "cell_type": "code",
   "execution_count": 23,
   "id": "fd370c66",
   "metadata": {},
   "outputs": [
    {
     "data": {
      "text/html": [
       "<div>\n",
       "<style scoped>\n",
       "    .dataframe tbody tr th:only-of-type {\n",
       "        vertical-align: middle;\n",
       "    }\n",
       "\n",
       "    .dataframe tbody tr th {\n",
       "        vertical-align: top;\n",
       "    }\n",
       "\n",
       "    .dataframe thead th {\n",
       "        text-align: right;\n",
       "    }\n",
       "</style>\n",
       "<table border=\"1\" class=\"dataframe\">\n",
       "  <thead>\n",
       "    <tr style=\"text-align: right;\">\n",
       "      <th></th>\n",
       "      <th>user_idx</th>\n",
       "      <th>prod_idx</th>\n",
       "      <th>prediction</th>\n",
       "      <th>match_count</th>\n",
       "    </tr>\n",
       "  </thead>\n",
       "  <tbody>\n",
       "    <tr>\n",
       "      <th>0</th>\n",
       "      <td>52</td>\n",
       "      <td>[432992]</td>\n",
       "      <td>[11955, 44956, 71748, 29852, 85055, 59266, 156...</td>\n",
       "      <td>0</td>\n",
       "    </tr>\n",
       "    <tr>\n",
       "      <th>1</th>\n",
       "      <td>208</td>\n",
       "      <td>[415130]</td>\n",
       "      <td>[11955, 44956, 71748, 29852, 85055, 59266, 156...</td>\n",
       "      <td>0</td>\n",
       "    </tr>\n",
       "    <tr>\n",
       "      <th>2</th>\n",
       "      <td>269</td>\n",
       "      <td>[389583]</td>\n",
       "      <td>[11955, 44956, 71748, 29852, 85055, 59266, 156...</td>\n",
       "      <td>0</td>\n",
       "    </tr>\n",
       "    <tr>\n",
       "      <th>3</th>\n",
       "      <td>409</td>\n",
       "      <td>[400190, 432224]</td>\n",
       "      <td>[11955, 44956, 71748, 29852, 85055, 59266, 156...</td>\n",
       "      <td>0</td>\n",
       "    </tr>\n",
       "    <tr>\n",
       "      <th>4</th>\n",
       "      <td>462</td>\n",
       "      <td>[413459]</td>\n",
       "      <td>[11955, 44956, 71748, 29852, 85055, 59266, 156...</td>\n",
       "      <td>0</td>\n",
       "    </tr>\n",
       "    <tr>\n",
       "      <th>...</th>\n",
       "      <td>...</td>\n",
       "      <td>...</td>\n",
       "      <td>...</td>\n",
       "      <td>...</td>\n",
       "    </tr>\n",
       "    <tr>\n",
       "      <th>97945</th>\n",
       "      <td>383698</td>\n",
       "      <td>[417796]</td>\n",
       "      <td>[44956, 11955, 29852, 38979, 85055, 71748, 592...</td>\n",
       "      <td>0</td>\n",
       "    </tr>\n",
       "    <tr>\n",
       "      <th>97946</th>\n",
       "      <td>383699</td>\n",
       "      <td>[472742]</td>\n",
       "      <td>[44956, 11955, 29852, 38979, 85055, 71748, 592...</td>\n",
       "      <td>0</td>\n",
       "    </tr>\n",
       "    <tr>\n",
       "      <th>97947</th>\n",
       "      <td>383700</td>\n",
       "      <td>[443441]</td>\n",
       "      <td>[44956, 11955, 29852, 38979, 85055, 71748, 592...</td>\n",
       "      <td>0</td>\n",
       "    </tr>\n",
       "    <tr>\n",
       "      <th>97948</th>\n",
       "      <td>383701</td>\n",
       "      <td>[436442]</td>\n",
       "      <td>[44956, 11955, 29852, 38979, 85055, 71748, 592...</td>\n",
       "      <td>0</td>\n",
       "    </tr>\n",
       "    <tr>\n",
       "      <th>97949</th>\n",
       "      <td>383702</td>\n",
       "      <td>[389996]</td>\n",
       "      <td>[44956, 11955, 29852, 38979, 85055, 71748, 592...</td>\n",
       "      <td>0</td>\n",
       "    </tr>\n",
       "  </tbody>\n",
       "</table>\n",
       "<p>97950 rows × 4 columns</p>\n",
       "</div>"
      ],
      "text/plain": [
       "       user_idx          prod_idx  \\\n",
       "0            52          [432992]   \n",
       "1           208          [415130]   \n",
       "2           269          [389583]   \n",
       "3           409  [400190, 432224]   \n",
       "4           462          [413459]   \n",
       "...         ...               ...   \n",
       "97945    383698          [417796]   \n",
       "97946    383699          [472742]   \n",
       "97947    383700          [443441]   \n",
       "97948    383701          [436442]   \n",
       "97949    383702          [389996]   \n",
       "\n",
       "                                              prediction  match_count  \n",
       "0      [11955, 44956, 71748, 29852, 85055, 59266, 156...            0  \n",
       "1      [11955, 44956, 71748, 29852, 85055, 59266, 156...            0  \n",
       "2      [11955, 44956, 71748, 29852, 85055, 59266, 156...            0  \n",
       "3      [11955, 44956, 71748, 29852, 85055, 59266, 156...            0  \n",
       "4      [11955, 44956, 71748, 29852, 85055, 59266, 156...            0  \n",
       "...                                                  ...          ...  \n",
       "97945  [44956, 11955, 29852, 38979, 85055, 71748, 592...            0  \n",
       "97946  [44956, 11955, 29852, 38979, 85055, 71748, 592...            0  \n",
       "97947  [44956, 11955, 29852, 38979, 85055, 71748, 592...            0  \n",
       "97948  [44956, 11955, 29852, 38979, 85055, 71748, 592...            0  \n",
       "97949  [44956, 11955, 29852, 38979, 85055, 71748, 592...            0  \n",
       "\n",
       "[97950 rows x 4 columns]"
      ]
     },
     "execution_count": 23,
     "metadata": {},
     "output_type": "execute_result"
    }
   ],
   "source": [
    "test_edges_grp"
   ]
  },
  {
   "cell_type": "code",
   "execution_count": 24,
   "id": "a787790b",
   "metadata": {},
   "outputs": [
    {
     "data": {
      "text/plain": [
       "14"
      ]
     },
     "execution_count": 24,
     "metadata": {},
     "output_type": "execute_result"
    }
   ],
   "source": [
    "preds = set(y.item() for x in test_edges_grp.prediction for y in x)\n",
    "len(preds)"
   ]
  },
  {
   "cell_type": "markdown",
   "id": "5452c781",
   "metadata": {},
   "source": [
    "# Recomendations "
   ]
  },
  {
   "cell_type": "code",
   "execution_count": 25,
   "id": "30ceeb8b",
   "metadata": {},
   "outputs": [],
   "source": [
    "title_mapping = pd.read_parquet(f\"{data_dir}/{product_dir}/product_df.parquet\", columns = [\"parent_asin\", \"title\"])\n",
    "prod_idx_to_id = {idx - offset: asin for asin, idx in prod_id_to_idx.items()}"
   ]
  },
  {
   "cell_type": "code",
   "execution_count": 42,
   "id": "d4361e15",
   "metadata": {},
   "outputs": [
    {
     "name": "stdout",
     "output_type": "stream",
     "text": [
      "Product 1: Atelier Cologne Mandarine Glaciale sample size vial 0.067 oz\n",
      "Product 2: Micro USB Cable,Pashion 3ft Premium Micro USB Charging Cable High Speed USB 2.0 A Male to Micro B Charge Cables for Android\n",
      "Product 3: 3 Pcs Xt60 Female to Male Ec5 Connector Adapter No Wires\n",
      "Product 4: Werkryt MFi Certified iPhone Charger Lightning Cable 5 Pack [3/3/6/6/10FT] Extra Long Nylon Braided USB Charging & Syncing Cord Compatible iPhone Xs/Max/XR/X/8/8Plus/7/7Plus/6S/6S Plus/SE/iPad/Nan Mor\n",
      "Product 5: RoseAndBlanc Nina's Paris Luxury Hand Soap Perfume Marie Antoinette Perfumed Apple Rose Bath Soap For Women Good Gift Idea 150G\n",
      "Product 6: Dr fukuoka hourei Upper　Face exercise equipment Add to mouth\n",
      "Product 7: 4pcs 1 pair 3 Magnet 3D Magnetic Eyelashes Magnet Lashes Thicker Reusable False Eyelashes Handmade No Glue Eye Lashes Makeup Kit\n",
      "Product 8: Tara Girls Twin Flower Ponytail Holders - 8 Pcs.\n",
      "Product 9: Titanic Stock Certificate\n",
      "Product 10: Titanic Stock Certificate\n",
      "tensor([4.1511, 4.1439, 4.1265, 4.1258, 4.1257, 4.1255, 4.1253, 4.1223, 4.1214,\n",
      "        4.1214], device='cuda:0')\n"
     ]
    }
   ],
   "source": [
    "# The pure random \n",
    "user_id = test_user_df.user_id.sample(1).item()\n",
    "recommended_products, predictions, pred_ratings = recommend_products(model, user_id, user_id_to_idx, prod_id_to_idx, user_nodes, product_nodes, \n",
    "                                                       prod_idx_to_id, ratings = True, top_k=10, device = device)\n",
    "pretty_print_recomendations(recommended_products, title_mapping, \"title\")\n",
    "print(pred_ratings)"
   ]
  },
  {
   "cell_type": "code",
   "execution_count": 27,
   "id": "37722027",
   "metadata": {},
   "outputs": [],
   "source": [
    "# The user with some data \n",
    "existing_test_users = test_user_df[test_user_df.user_id.isin(train_user_df.user_id)].copy()[[\"user_id\"]]"
   ]
  },
  {
   "cell_type": "code",
   "execution_count": 79,
   "id": "bda083de",
   "metadata": {},
   "outputs": [
    {
     "name": "stdout",
     "output_type": "stream",
     "text": [
      "Product 1: Atelier Cologne Mandarine Glaciale sample size vial 0.067 oz\n",
      "Product 2: Micro USB Cable,Pashion 3ft Premium Micro USB Charging Cable High Speed USB 2.0 A Male to Micro B Charge Cables for Android\n",
      "Product 3: 3 Pcs Xt60 Female to Male Ec5 Connector Adapter No Wires\n",
      "Product 4: RoseAndBlanc Nina's Paris Luxury Hand Soap Perfume Marie Antoinette Perfumed Apple Rose Bath Soap For Women Good Gift Idea 150G\n",
      "Product 5: Werkryt MFi Certified iPhone Charger Lightning Cable 5 Pack [3/3/6/6/10FT] Extra Long Nylon Braided USB Charging & Syncing Cord Compatible iPhone Xs/Max/XR/X/8/8Plus/7/7Plus/6S/6S Plus/SE/iPad/Nan Mor\n",
      "Product 6: Dr fukuoka hourei Upper　Face exercise equipment Add to mouth\n",
      "Product 7: 4pcs 1 pair 3 Magnet 3D Magnetic Eyelashes Magnet Lashes Thicker Reusable False Eyelashes Handmade No Glue Eye Lashes Makeup Kit\n",
      "Product 8: Tara Girls Twin Flower Ponytail Holders - 8 Pcs.\n",
      "Product 9: Titanic Stock Certificate\n",
      "Product 10: Titanic Stock Certificate\n",
      "tensor([4.1560, 4.1488, 4.1313, 4.1307, 4.1306, 4.1304, 4.1300, 4.1271, 4.1262,\n",
      "        4.1262], device='cuda:0')\n"
     ]
    }
   ],
   "source": [
    "user_id = existing_test_users.user_id.sample(1).item()\n",
    "recommended_products, predictions, pred_ratings = recommend_products(model, user_id, user_id_to_idx, prod_id_to_idx, user_nodes, product_nodes, \n",
    "                                                       prod_idx_to_id, ratings = True, top_k=10, device = device)\n",
    "pretty_print_recomendations(recommended_products, title_mapping, \"title\")\n",
    "print(pred_ratings)"
   ]
  },
  {
   "cell_type": "code",
   "execution_count": 29,
   "id": "38f718d9",
   "metadata": {},
   "outputs": [],
   "source": [
    "# The boosted way\n",
    "# This is just to see if existing data (a bit of data leak) can help improve performance \n",
    "boosted_additional_test_users = test_user_df[~test_user_df.user_id.isin(train_user_df.user_id)].copy()\n",
    "boosted_user_df = pd.concat([train_user_df, boosted_additional_test_users])\n",
    "boosted_user_embed = torch.tensor(np.vstack(boosted_user_df[\"embedding\"].values))\n",
    "boosted_user_info = torch.tensor(boosted_user_df.drop([\"user_id\", \"embedding\"], axis = 1).to_numpy())\n",
    "boosted_user_nodes = torch.cat([boosted_user_embed, boosted_user_info], dim = 1)"
   ]
  },
  {
   "cell_type": "code",
   "execution_count": 30,
   "id": "2ba63127",
   "metadata": {},
   "outputs": [
    {
     "name": "stdout",
     "output_type": "stream",
     "text": [
      "Product 1: Atelier Cologne Mandarine Glaciale sample size vial 0.067 oz\n",
      "Product 2: Micro USB Cable,Pashion 3ft Premium Micro USB Charging Cable High Speed USB 2.0 A Male to Micro B Charge Cables for Android\n",
      "Product 3: 3 Pcs Xt60 Female to Male Ec5 Connector Adapter No Wires\n",
      "Product 4: RoseAndBlanc Nina's Paris Luxury Hand Soap Perfume Marie Antoinette Perfumed Apple Rose Bath Soap For Women Good Gift Idea 150G\n",
      "Product 5: Werkryt MFi Certified iPhone Charger Lightning Cable 5 Pack [3/3/6/6/10FT] Extra Long Nylon Braided USB Charging & Syncing Cord Compatible iPhone Xs/Max/XR/X/8/8Plus/7/7Plus/6S/6S Plus/SE/iPad/Nan Mor\n",
      "Product 6: Dr fukuoka hourei Upper　Face exercise equipment Add to mouth\n",
      "Product 7: 4pcs 1 pair 3 Magnet 3D Magnetic Eyelashes Magnet Lashes Thicker Reusable False Eyelashes Handmade No Glue Eye Lashes Makeup Kit\n",
      "Product 8: Tara Girls Twin Flower Ponytail Holders - 8 Pcs.\n",
      "Product 9: Titanic Stock Certificate\n",
      "Product 10: Titanic Stock Certificate\n"
     ]
    }
   ],
   "source": [
    "user_id = boosted_user_df.user_id.sample(1).item()\n",
    "recommended_products, predictions = recommend_products(model, user_id, user_id_to_idx, prod_id_to_idx, user_nodes, product_nodes, \n",
    "                                                       prod_idx_to_id, top_k=10, device = device)\n",
    "pretty_print_recomendations(recommended_products, title_mapping, \"title\")"
   ]
  },
  {
   "cell_type": "code",
   "execution_count": 31,
   "id": "9284ca5e",
   "metadata": {},
   "outputs": [],
   "source": [
    "# count more than 10 purchases\n",
    "min_unique_purchase = 10\n",
    "item_count_df = test_user_edges.groupby(\"user_id\").prod_idx.apply(lambda x: len(set(x))).reset_index()\n",
    "dense_user_id = item_count_df[item_count_df[\"prod_idx\"] >= min_unique_purchase][[\"user_id\"]]"
   ]
  },
  {
   "cell_type": "code",
   "execution_count": 87,
   "id": "0a768875",
   "metadata": {},
   "outputs": [
    {
     "name": "stdout",
     "output_type": "stream",
     "text": [
      "Product 1: Atelier Cologne Mandarine Glaciale sample size vial 0.067 oz\n",
      "Product 2: Micro USB Cable,Pashion 3ft Premium Micro USB Charging Cable High Speed USB 2.0 A Male to Micro B Charge Cables for Android\n",
      "Product 3: 3 Pcs Xt60 Female to Male Ec5 Connector Adapter No Wires\n",
      "Product 4: Werkryt MFi Certified iPhone Charger Lightning Cable 5 Pack [3/3/6/6/10FT] Extra Long Nylon Braided USB Charging & Syncing Cord Compatible iPhone Xs/Max/XR/X/8/8Plus/7/7Plus/6S/6S Plus/SE/iPad/Nan Mor\n",
      "Product 5: RoseAndBlanc Nina's Paris Luxury Hand Soap Perfume Marie Antoinette Perfumed Apple Rose Bath Soap For Women Good Gift Idea 150G\n",
      "Product 6: Dr fukuoka hourei Upper　Face exercise equipment Add to mouth\n",
      "Product 7: 4pcs 1 pair 3 Magnet 3D Magnetic Eyelashes Magnet Lashes Thicker Reusable False Eyelashes Handmade No Glue Eye Lashes Makeup Kit\n",
      "Product 8: Tara Girls Twin Flower Ponytail Holders - 8 Pcs.\n",
      "Product 9: Titanic Stock Certificate\n",
      "Product 10: Titanic Stock Certificate\n",
      "tensor([4.1508, 4.1437, 4.1262, 4.1255, 4.1254, 4.1252, 4.1250, 4.1220, 4.1211,\n",
      "        4.1211], device='cuda:0')\n"
     ]
    }
   ],
   "source": [
    "user_id = dense_user_id.user_id.sample(1).item()\n",
    "recommended_products, predictions, pred_ratings = recommend_products(model, user_id, user_id_to_idx, prod_id_to_idx, user_nodes, product_nodes, \n",
    "                                                       prod_idx_to_id, ratings = True, top_k=10, device = device)\n",
    "pretty_print_recomendations(recommended_products, title_mapping, \"title\")\n",
    "print(pred_ratings)"
   ]
  }
 ],
 "metadata": {
  "kernelspec": {
   "display_name": "dl_proj",
   "language": "python",
   "name": "python3"
  },
  "language_info": {
   "codemirror_mode": {
    "name": "ipython",
    "version": 3
   },
   "file_extension": ".py",
   "mimetype": "text/x-python",
   "name": "python",
   "nbconvert_exporter": "python",
   "pygments_lexer": "ipython3",
   "version": "3.12.9"
  }
 },
 "nbformat": 4,
 "nbformat_minor": 5
}
